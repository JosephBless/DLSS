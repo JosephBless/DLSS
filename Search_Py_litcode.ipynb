{
  "nbformat": 4,
  "nbformat_minor": 0,
  "metadata": {
    "colab": {
      "name": "litcode.ipynb",
      "provenance": [],
      "include_colab_link": true
    },
    "kernelspec": {
      "name": "python3",
      "display_name": "Python 3"
    }
  },
  "cells": [
    {
      "cell_type": "markdown",
      "metadata": {
        "id": "view-in-github",
        "colab_type": "text"
      },
      "source": [
        "<a href=\"https://colab.research.google.com/github/JosephBless/DLSS/blob/master/Search_Py_litcode.ipynb\" target=\"_parent\"><img src=\"https://colab.research.google.com/assets/colab-badge.svg\" alt=\"Open In Colab\"/></a>"
      ]
    },
    {
      "cell_type": "markdown",
      "metadata": {
        "id": "d5nXzcOIz7D8"
      },
      "source": [
        "## **Sum of Three Values**\n",
        "Given an array of integers and a value, determine if there are any three integers in the array whose sum equals the given value.\n",
        "Consider the array and the target sums."
      ]
    },
    {
      "cell_type": "code",
      "metadata": {
        "colab": {
          "base_uri": "https://localhost:8080/"
        },
        "id": "2Q4aho2K0Erv",
        "outputId": "9f69ea7e-d8f9-46e8-8f60-af33490d5f10"
      },
      "source": [
        "def find_sum_of_two(A, val, start):\n",
        "  i = start\n",
        "  j = len(A) - 1\n",
        "  while i < j:\n",
        "    s = A[i] + A[j]\n",
        "    if s == val:\n",
        "      return True\n",
        "\n",
        "    if s < val:\n",
        "      i += 1\n",
        "    else:\n",
        "      j -= 1\n",
        "A = [-25, -10, -7, -3, 2, 4, 8, 10]\n",
        "print(find_sum_of_two(A, 6, 0))"
      ],
      "execution_count": null,
      "outputs": [
        {
          "output_type": "stream",
          "text": [
            "True\n"
          ],
          "name": "stdout"
        }
      ]
    },
    {
      "cell_type": "markdown",
      "metadata": {
        "id": "xQntdEaAQlYV"
      },
      "source": [
        "## **Find the Duplicate Number**\n",
        "Given an array nums containing n + 1 integers where each integer is between 1 and n (inclusive), prove that at least one duplicate number must exist. Assume that there is only one duplicate number, find the duplicate one."
      ]
    },
    {
      "cell_type": "code",
      "metadata": {
        "id": "vKDY9qpeQn7t"
      },
      "source": [
        "class Solution:\n",
        "    def findDuplicate(self, nums)\n",
        "        slow, fast = nums[0], nums[nums[0]]\n",
        "        while slow != fast:\n",
        "            slow = nums[slow]\n",
        "            fast = nums[nums[fast]]\n",
        "        slow = 0\n",
        "        while slow != fast:\n",
        "            slow = nums[slow]\n",
        "            fast = nums[fast]\n",
        "        return fast"
      ],
      "execution_count": null,
      "outputs": []
    },
    {
      "cell_type": "markdown",
      "metadata": {
        "id": "jZdj45zwQmRW"
      },
      "source": [
        "## **Game of Life**\n",
        "According to Wikipedia’s article: “The Game of Life, also known simply as Life, is a cellular automaton devised by the British mathematician John Horton Conway in 1970.”\n",
        "\n",
        "The board is made up of an m x n grid of cells, where each cell has an initial state: live (represented by a 1) or dead (represented by a 0). Each cell interacts with its eight neighbors (horizontal, vertical, diagonal) using the following four rules (taken from the above Wikipedia article):\n",
        "\n",
        "Any live cell with fewer than two live neighbors dies as if caused by under-population.\n",
        "Any live cell with two or three live neighbors lives on to the next generation.\n",
        "Any live cell with more than three live neighbors dies, as if by over-population.\n",
        "Any dead cell with exactly three live neighbors becomes a live cell, as if by reproduction. The next state is created by applying the above rules simultaneously to every cell in the current state, where births and deaths occur simultaneously. Given the current state of the m x n grid board, return the next state.\n",
        "Follow up:\n",
        "\n",
        "Could you solve it in-place? Remember that the board needs to be updated simultaneously: You cannot update some cells first and then use their updated values to update other cells.\n",
        "In this question, we represent the board using a 2D array. In principle, the board is infinite, which would cause problems when the active area encroaches upon the border of the array (i.e., live cells reach the border). How would you address these problems?"
      ]
    },
    {
      "cell_type": "markdown",
      "metadata": {
        "id": "g8UMBbuFz2qC"
      },
      "source": []
    },
    {
      "cell_type": "code",
      "metadata": {
        "id": "vaUTAHnCdFfC"
      },
      "source": [
        "class Solution:\n",
        "    def gameOfLife(self, board):\n",
        "        \"\"\" Do not return anything, modify board in-place instead. \"\"\"\n",
        "        m = len(board)\n",
        "        n = len(board[0])\n",
        "        d = [(1, 0), (-1, 0), (0, 1), (0, -1), (-1, -1), (-1, 1), (1, -1), (1, 1)]\n",
        "        for i in range(m):\n",
        "            for j in range(n):\n",
        "                live = 0\n",
        "                for tx, ty in d:\n",
        "                    x, y = i + tx, j + ty\n",
        "                    if x < 0 or x == m or y < 0 or y == n:\n",
        "                        continue\n",
        "                    if board[x][y] & 1:\n",
        "                        live += 1\n",
        "                if board[i][j] == 0:\n",
        "                    if live == 3:\n",
        "                        board[i][j] = 2\n",
        "                else:\n",
        "                    if 2 <= live <= 3:\n",
        "                        board[i][j] = 3\n",
        "                    else:\n",
        "                        board[i][j] = 1\n",
        "        for i in range(m):\n",
        "            for j in range(n):\n",
        "                board[i][j] >>= 1"
      ],
      "execution_count": null,
      "outputs": []
    },
    {
      "cell_type": "markdown",
      "metadata": {
        "id": "8tN7OmUidS_2"
      },
      "source": [
        "## **Word Pattern**\n",
        "Given a pattern and a string str, find if str follows the same pattern.\n",
        "\n",
        "Here follow means a full match, such that there is a bijection between a letter in pattern and a non-empty word in str."
      ]
    },
    {
      "cell_type": "code",
      "metadata": {
        "id": "c9qTcGYoQont"
      },
      "source": [
        "class Solution:\n",
        "    def wordPattern(self, pattern: str, str: str) -> bool:\n",
        "        str = str.split(\" \")\n",
        "        if len(pattern) != len(str):\n",
        "            return False\n",
        "        dic1, dic2 = {}, {}\n",
        "        for p, w in zip(pattern, str):\n",
        "            if p not in dic1:\n",
        "                dic1[p] = w\n",
        "            elif dic1[p] != w:\n",
        "                return False\n",
        "            if w not in dic2:\n",
        "                dic2[w] = p\n",
        "            elif dic2[w] != p:\n",
        "                return False\n",
        "        return True"
      ],
      "execution_count": null,
      "outputs": []
    },
    {
      "cell_type": "markdown",
      "metadata": {
        "id": "GM9v_4baQmbj"
      },
      "source": [
        "## **Bulls and Cows**\n",
        "You are playing the following Bulls and Cows game with your friend: You write down a number and ask your friend to guess what the number is. Each time your friend makes a guess, you provide a hint that indicates how many digits in said guess match your secret number exactly in both digit and position (called “bulls”) and how many digits match the secret number but locate in the wrong position (called “cows”). Your friend will use successive guesses and hints to eventually derive the secret number.\n",
        "\n",
        "Write a function to return a hint according to the secret number and friend’s guess, use A to indicate the bulls and B to indicate the cows.\n",
        "\n",
        "Please note that both secret number and friend’s guess may contain duplicate digits.\n"
      ]
    },
    {
      "cell_type": "code",
      "metadata": {
        "id": "7fqwN8mEQpUH"
      },
      "source": [
        "class Solution:\n",
        "    def getHint(self, secret: str, guess: str) -> str:\n",
        "        s1, s2 = defaultdict(int), defaultdict(int)\n",
        "        A = B = 0\n",
        "        for s, g in zip(secret, guess):\n",
        "            if s == g:\n",
        "                A += 1\n",
        "            else:\n",
        "                s1[s] += 1\n",
        "                s2[g] += 1\n",
        "        for k in s1.keys():\n",
        "            if k in s2:\n",
        "                B += min(s1[k], s2[k])\n",
        "        return \"%sA%sB\" % (A, B)"
      ],
      "execution_count": null,
      "outputs": []
    },
    {
      "cell_type": "markdown",
      "metadata": {
        "id": "vpmjwY3MQmpH"
      },
      "source": [
        "## **Minimum Height Trees**\n",
        "A tree is an undirected graph in which any two vertices are connected by exactly one path. In other words, any connected graph without simple cycles is a tree.\n",
        "\n",
        "Given a tree of n nodes labelled from 0 to n - 1, and an array of n - 1 edges where edges[i] = [ai, bi] indicates that there is an undirected edge between the two nodes ai and bi in the tree, you can choose any node of the tree as the root. When you select a node x as the root, the result tree has height h. Among all possible rooted trees, those with minimum height (i.e. min(h)) are called minimum height trees (MHTs).\n",
        "\n",
        "Return a list of all MHTs’ root labels. You can return the answer in any order.\n",
        "\n",
        "The height of a rooted tree is the number of edges on the longest downward path between the root and a leaf."
      ]
    },
    {
      "cell_type": "code",
      "metadata": {
        "id": "EdXZav05Qp8E"
      },
      "source": [
        "class Solution:\n",
        "    def findMinHeightTrees(self, n: int, edges: List[List[int]]) -> List[int]:\n",
        "        edge = [set() for _ in range(n)]\n",
        "        for u, v in edges:\n",
        "            edge[u].add(v)\n",
        "            edge[v].add(u)\n",
        "        q = [x for x in range(n) if len(edge[x]) < 2]\n",
        "        tmp = []\n",
        "        while True:\n",
        "            for node in q:\n",
        "                for n in edge[node]:\n",
        "                    edge[n].remove(node)\n",
        "                    if len(edge[n]) == 1:\n",
        "                        tmp.append(n)\n",
        "            if not tmp:\n",
        "                break\n",
        "            tmp, q = [], tmp\n",
        "        return q"
      ],
      "execution_count": null,
      "outputs": []
    },
    {
      "cell_type": "markdown",
      "metadata": {
        "id": "5otyJ10tQm2K"
      },
      "source": [
        "## **Burst Balloons**\n",
        "Given n balloons, indexed from 0 to n-1. Each balloon is painted with a number on it represented by array nums. You are asked to burst all the balloons. If the you burst balloon i you will get nums[left] * nums[i] * nums[right] coins. Here left and right are adjacent indices of i. After the burst, the left and right then becomes adjacent.\n",
        "\n",
        "Find the maximum coins you can collect by bursting the balloons wisely.\n",
        "\n",
        "Note:\n",
        "\n",
        "You may imagine nums[-1] = nums[n] = 1. They are not real therefore you can not burst them.\n",
        "0 ≤ n ≤ 500, 0 ≤ nums[i] ≤ 100"
      ]
    },
    {
      "cell_type": "code",
      "metadata": {
        "id": "uhrIWCBBQrNN"
      },
      "source": [
        "class Solution:\n",
        "    def maxCoins(self, nums: List[int]) -> int:\n",
        "        nums = [1] + nums + [1]\n",
        "        n = len(nums)\n",
        "        dp = [[0] * n for _ in range(n)]\n",
        "        for i in range(n - 2, -1, -1):\n",
        "            for j in range(i + 2, n):\n",
        "                for k in range(i + 1, j):\n",
        "                    dp[i][j] = max(dp[i][j], nums[i] * nums[k] * nums[j] + dp[i][k] + dp[k][j])\n",
        "        return dp[0][n - 1]"
      ],
      "execution_count": null,
      "outputs": []
    },
    {
      "cell_type": "code",
      "metadata": {
        "id": "BGXne--1er_8"
      },
      "source": [
        "class Solution:\n",
        "    def maxCoins(self, nums: List[int]) -> int:\n",
        "        def dp(i, j):\n",
        "            if i + 1 == j:\n",
        "                data[i][j] = 0\n",
        "                return 0\n",
        "            tmp = 0\n",
        "            for k in range(i + 1, j):\n",
        "                if data[i][k] == -1:\n",
        "                    dp(i, k)\n",
        "                if data[k][j] == -1:\n",
        "                    dp(k, j)\n",
        "                tmp = max(tmp, nums[i] * nums[k] * nums[j] + data[i][k] + data[k][j])\n",
        "            data[i][j] = tmp\n",
        "            return tmp\n",
        "\n",
        "        nums = [1] + nums + [1]\n",
        "        n = len(nums)\n",
        "        data = [[-1]  * n for i in range(n)]\n",
        "        return dp(0, n - 1)"
      ],
      "execution_count": null,
      "outputs": []
    },
    {
      "cell_type": "markdown",
      "metadata": {
        "id": "sVsvhmSpe3Mr"
      },
      "source": [
        "##**Remove Duplicate Letters**\n",
        "Given a string s, remove duplicate letters so that every letter appears once and only once. You must make sure your result is the smallest in lexicographical order among all possible results.\n",
        "\n",
        "Note: This question is the same as 1081: https://leetcode.com/problems/smallest-subsequence-of-distinct-characters/"
      ]
    },
    {
      "cell_type": "code",
      "metadata": {
        "id": "LSnMVPH8e-mY"
      },
      "source": [
        "class Solution:\n",
        "    def removeDuplicateLetters(self, s) -> int:\n",
        "        stack = []\n",
        "        seen = set()\n",
        "        last = {c: i for i, c in enumerate(s)}\n",
        "        for i, c in enumerate(s):\n",
        "            if c not in seen:\n",
        "                while stack and c < stack[-1] and i < last[stack[-1]]:\n",
        "                    seen.remove(stack.pop())\n",
        "                seen.add(c)\n",
        "                stack.append(c)\n",
        "        return ''.join(stack)"
      ],
      "execution_count": null,
      "outputs": []
    },
    {
      "cell_type": "markdown",
      "metadata": {
        "id": "OtkZywsHfCK6"
      },
      "source": [
        "## **Odd Even Linked List**\n",
        "Given a singly linked list, group all odd nodes together followed by the even nodes. Please note here we are talking about the node number and not the value in the nodes.\n",
        "\n",
        "You should try to do it in place. The program should run in O(1) space complexity and O(nodes) time complexity.\n",
        "\n",
        "The relative order inside both the even and odd groups should remain as it was in the input.\n",
        "The first node is considered odd, the second node even and so on …"
      ]
    },
    {
      "cell_type": "code",
      "metadata": {
        "id": "O6vp0AHIfQT-"
      },
      "source": [
        "class Solution:\n",
        "    def oddEvenList(self, head: ListNode) -> ListNode:\n",
        "        if not head:\n",
        "            return head\n",
        "        odd, even, even_head = head, head.next, head.next\n",
        "        while even and even.next:\n",
        "            odd.next = even.next\n",
        "            odd = odd.next\n",
        "            even.next = odd.next\n",
        "            even = even.next\n",
        "        odd.next = even_head\n",
        "        return head"
      ],
      "execution_count": null,
      "outputs": []
    },
    {
      "cell_type": "markdown",
      "metadata": {
        "id": "R5jTcju8QQx6"
      },
      "source": [
        "## **Largest Continuous Sum**\n",
        "Given an array of integers (positive and negative) find the largest continuous sum."
      ]
    },
    {
      "cell_type": "code",
      "metadata": {
        "id": "mNWyKOY7QXH-"
      },
      "source": [
        "def largestContinuousSum(arr):\n",
        "    if len(arr)==0:\n",
        "        return\n",
        "    maxSum=currentSum=arr[0]\n",
        "    for num in arr[1:]:\n",
        "        currentSum=max(currentSum+num, num)\n",
        "        maxSum=max(currentSum, maxSum)\n",
        "    return maxSum"
      ],
      "execution_count": null,
      "outputs": []
    },
    {
      "cell_type": "code",
      "metadata": {
        "id": "0z7-3o6ZR1RB"
      },
      "source": [
        "def large_continuous_sum(arr):\n",
        "    if len(arr) < 2:\n",
        "        return 0\n",
        "    current_sum = 0\n",
        "    max_sum = []\n",
        "    temp = []\n",
        "    for num in arr:\n",
        "        current_sum += num\n",
        "        if current_sum >= 0:\n",
        "            temp.append(num)\n",
        "            max_sum.append(sum(temp))\n",
        "        else:\n",
        "            current_sum = 0\n",
        "            temp = []\n",
        "    return max(max_sum)\n",
        "arr=[1, 2, 3, 4, -6, 7, 7, 7]"
      ],
      "execution_count": null,
      "outputs": []
    },
    {
      "cell_type": "code",
      "metadata": {
        "colab": {
          "base_uri": "https://localhost:8080/"
        },
        "id": "WQdS42Z9SwAN",
        "outputId": "6dce5437-123c-43a5-af1d-e36cb725706b"
      },
      "source": [
        "def maxsum(n):\n",
        "    current_sum=0\n",
        "    max_sum=0\n",
        "    for i in n:\n",
        "        current_sum=current_sum+i\n",
        "        max_sum=max(current_sum,max_sum)\n",
        "    if i < 0:\n",
        "        current_sum=0\n",
        "    return max_sum\n",
        "\n",
        "arr=[1, 2, 3, 4, -6, 7, 7, 7]\n",
        "#[25,34,38,-12,34,23,10]\n",
        "print(maxsum(arr))"
      ],
      "execution_count": null,
      "outputs": [
        {
          "output_type": "stream",
          "text": [
            "25\n"
          ],
          "name": "stdout"
        }
      ]
    },
    {
      "cell_type": "markdown",
      "metadata": {
        "id": "C7IVLssin6aF"
      },
      "source": [
        "## **Move Zeroes**\n",
        "Given an array nums, write a function to move all 0’s to the end of it while maintaining the relative order of the non-zero elements."
      ]
    },
    {
      "cell_type": "code",
      "metadata": {
        "id": "mL4dos4KoCRi"
      },
      "source": [
        "class Solution:\n",
        "    def moveZeroes(self, nums: List[int]) -> None:\n",
        "        \"\"\" Do not return anything, modify nums in-place instead. \"\"\"\n",
        "        l, r, n = 0, 0, len(nums)\n",
        "        while r < n:\n",
        "            if nums[r] != 0:\n",
        "                nums[l] = nums[r]\n",
        "                l += 1\n",
        "            r += 1\n",
        "        while l < n:\n",
        "            nums[l] = 0\n",
        "            l += 1"
      ],
      "execution_count": null,
      "outputs": []
    },
    {
      "cell_type": "markdown",
      "metadata": {
        "id": "qgM4eeYagULk"
      },
      "source": [
        "## **Basic Calculator II**\n",
        "Implement a basic calculator to evaluate a simple expression string.The expression string contains only non-negative integers, +, -, *, / operators and empty spaces . The integer division should truncate toward zero."
      ]
    },
    {
      "cell_type": "code",
      "metadata": {
        "id": "Oqe6qIm0gc8z"
      },
      "source": [
        "class Solution:\n",
        "    def calculate(self, s: str) -> int:\n",
        "        stack, cur, op = [], 0, '+'\n",
        "        for c in s + '+':\n",
        "            if c == \" \":\n",
        "                continue\n",
        "            elif c.isdigit():\n",
        "                cur = (cur * 10) + int(c)\n",
        "            else:\n",
        "                if op == '-':\n",
        "                    stack.append(-cur)\n",
        "                elif op == '+':\n",
        "                    stack.append(cur)\n",
        "                elif op == '*':\n",
        "                    stack.append(stack.pop() * cur)\n",
        "                elif op == '/':\n",
        "                    stack.append(int(stack.pop() / cur))\n",
        "                cur, op = 0, c\n",
        "        return sum(stack)"
      ],
      "execution_count": null,
      "outputs": []
    },
    {
      "cell_type": "markdown",
      "metadata": {
        "id": "xh_55-reG4Ts"
      },
      "source": [
        "## **Sort Colors**\n",
        "Given an array with n objects colored red, white or blue, sort them in-place so that objects of the same color are adjacent, with the colors in the order red, white and blue.\n",
        "Here, we will use the integers 0, 1, and 2 to represent the color red, white, and blue respectively.\n",
        "Note: You are not suppose to use the library’s sort function for this problem."
      ]
    },
    {
      "cell_type": "code",
      "metadata": {
        "id": "D_iA0tG0G7KM"
      },
      "source": [
        "class Solution:\n",
        "    def sortColors(self, nums):\n",
        "        \"\"\" Do not return anything, modify nums in-place instead. \"\"\"\n",
        "        p0, p1, p2 = 0, 0, len(nums) - 1\n",
        "        while p1 <= p2:\n",
        "            if nums[p1] == 0:\n",
        "                nums[p0], nums[p1] = nums[p1], nums[p0]\n",
        "                p0 += 1\n",
        "                p1 += 1\n",
        "            elif nums[p1] == 2:\n",
        "                nums[p1], nums[p2] = nums[p2], nums[p1]\n",
        "                p2 -= 1\n",
        "            else:\n",
        "                p1 += 1"
      ],
      "execution_count": null,
      "outputs": []
    },
    {
      "cell_type": "markdown",
      "metadata": {
        "id": "9SDvVgHzG6JE"
      },
      "source": [
        "## **Subsets**\n",
        "Given a set of distinct integers, nums, return all possible subsets (the power set). Note: The solution set must not contain duplicate subsets."
      ]
    },
    {
      "cell_type": "code",
      "metadata": {
        "id": "RL1PhnORG7jt"
      },
      "source": [
        "class Solution:\n",
        "    def subsets(self, nums):\n",
        "        res = [[]]\n",
        "        for num in nums:\n",
        "            res += [item+[num] for item in res]\n",
        "        return res"
      ],
      "execution_count": null,
      "outputs": []
    },
    {
      "cell_type": "markdown",
      "metadata": {
        "id": "D_WkbaCrG6NG"
      },
      "source": [
        "## **Word Search**\n",
        "Given a 2D board and a word, find if the word exists in the grid.\n",
        "The word can be constructed from letters of sequentially adjacent cell, where “adjacent” cells are those horizontally or vertically neighboring. The same letter cell may not be used more than once."
      ]
    },
    {
      "cell_type": "code",
      "metadata": {
        "id": "60uWkeKpG8CM"
      },
      "source": [
        "class Solution:\n",
        "    def exist(self, board, word):\n",
        "        def dfs(x, y, p):\n",
        "            if p == l:\n",
        "                return True\n",
        "            for dirx, diry in [(0, 1), (0, -1), (1, 0), (-1, 0)]:\n",
        "                curx, cury = x + dirx, y + diry\n",
        "                if 0 <= curx < m and 0 <= cury < n and flag[curx][cury] and board[curx][cury] == word[p]:\n",
        "                    flag[curx][cury] = False\n",
        "                    if dfs(curx, cury, p + 1):\n",
        "                        flag[curx][cury] = True\n",
        "                        return True\n",
        "                    flag[curx][cury] = True\n",
        "            return False\n",
        "        m, n = len(board), len(board[0])\n",
        "        l = len(word)\n",
        "        flag = [[True] * n for _ in range(m)]\n",
        "        for i in range(m):\n",
        "            for j in range(n):\n",
        "                if board[i][j] == word[0]:\n",
        "                    flag[i][j] = False\n",
        "                    if dfs(i, j, 1):\n",
        "                        return True\n",
        "                    flag[i][j] = True\n",
        "        return False"
      ],
      "execution_count": null,
      "outputs": []
    },
    {
      "cell_type": "markdown",
      "metadata": {
        "id": "b38RMz7ybnfD"
      },
      "source": [
        "## **Word Search II**\n",
        "Given a 2D board and a list of words from the dictionary, find all words in the board.Each word must be constructed from letters of sequentially adjacent cell, where “adjacent” cells are those horizontally or vertically neighboring. The same letter cell may not be used more than once in a word."
      ]
    },
    {
      "cell_type": "code",
      "metadata": {
        "id": "HqqlBqFMbzFh"
      },
      "source": [
        "class Solution:\n",
        "    def findWords(self, board: List[List[str]], words: List[str]) -> List[str]:\n",
        "        def dfs(x, y, root):\n",
        "            letter = board[x][y]\n",
        "            cur = root[letter]\n",
        "            word = cur.pop('#', False)\n",
        "            if word:\n",
        "                res.append(word)\n",
        "            board[x][y] = '*'\n",
        "            for dirx, diry in [(0, 1), (0, -1), (1, 0), (-1, 0)]:\n",
        "                curx, cury = x + dirx, y + diry\n",
        "                if 0 <= curx < m and 0 <= cury < n and board[curx][cury] in cur:\n",
        "                    dfs(curx, cury, cur)\n",
        "            board[x][y] = letter\n",
        "            if not cur:\n",
        "                root.pop(letter)\n",
        "\n",
        "        trie = {}\n",
        "        for word in words:\n",
        "            cur = trie\n",
        "            for letter in word:\n",
        "                cur = cur.setdefault(letter, {})\n",
        "            cur['#'] = word\n",
        "        m, n = len(board), len(board[0])\n",
        "        res = []\n",
        "        for i in range(m):\n",
        "            for j in range(n):\n",
        "                if board[i][j] in trie:\n",
        "                    dfs(i, j, trie)\n",
        "        return res"
      ],
      "execution_count": null,
      "outputs": []
    },
    {
      "cell_type": "markdown",
      "metadata": {
        "id": "UCDuhKpcG6Q0"
      },
      "source": [
        "## **Remove Duplicates from Sorted Array II**\n",
        "Given a sorted array nums, remove the duplicates in-place such that duplicates appeared at most twice and return the new length.Do not allocate extra space for another array; you must do this by modifying the input array in-place with O(1) extra memory."
      ]
    },
    {
      "cell_type": "code",
      "metadata": {
        "id": "TX_Zj306G8gF"
      },
      "source": [
        "class Solution:\n",
        "    def removeDuplicates(self, nums):\n",
        "        i = 0\n",
        "        for n in nums:\n",
        "            if i < 2 or n != nums[i - 2]:\n",
        "                nums[i] = n\n",
        "                i += 1\n",
        "        return i"
      ],
      "execution_count": null,
      "outputs": []
    },
    {
      "cell_type": "markdown",
      "metadata": {
        "id": "GtW-6_09G6Zs"
      },
      "source": [
        "## **Merge Sorted Array**\n",
        "Given two sorted integer arrays nums1 and nums2, merge nums2 into nums1 as one sorted array. The number of elements initialized in nums1 and nums2 are m and n respectively. You may assume that nums1 has enough space (size that is equal to m + n) to hold additional elements from nums2"
      ]
    },
    {
      "cell_type": "code",
      "metadata": {
        "id": "NDX7unQVG9HH"
      },
      "source": [
        "class Solution:\n",
        "    def merge(self, nums1: List[int], m: int, nums2: List[int], n: int) -> None:\n",
        "        \"\"\" Do not return anything, modify nums1 in-place instead. \"\"\"\n",
        "        i, j, k = m - 1, n - 1, m + n - 1\n",
        "        while i >= 0 and j >= 0:\n",
        "            if nums1[i] > nums2[j]:\n",
        "                nums1[k] = nums1[i]\n",
        "                i, k = i - 1, k - 1\n",
        "            else:\n",
        "                nums1[k] = nums2[j]\n",
        "                j, k = j - 1, k - 1\n",
        "        while j >= 0:\n",
        "            nums1[k] = nums2[j]\n",
        "            j, k = j - 1, k - 1"
      ],
      "execution_count": null,
      "outputs": []
    },
    {
      "cell_type": "markdown",
      "metadata": {
        "id": "h2j0O2VqJxD1"
      },
      "source": [
        "## **Unique Binary Search Trees**\n",
        "Given n, how many structurally unique BST’s (binary search trees) that store values 1 … n?"
      ]
    },
    {
      "cell_type": "code",
      "metadata": {
        "id": "Y5gBg-igG9j9"
      },
      "source": [
        "class Solution:\n",
        "    def numTrees(self, n: int) -> int:\n",
        "        res = [0] * (n + 1)\n",
        "        res[0] = res[1] = 1\n",
        "        for i in range(2, n + 1):\n",
        "            tmp = 0\n",
        "            for j in range(0, i):\n",
        "                tmp += res[j] * res[i - 1 - j]\n",
        "            res[i] = tmp\n",
        "        return res[n]"
      ],
      "execution_count": null,
      "outputs": []
    },
    {
      "cell_type": "code",
      "metadata": {
        "id": "LBjskxvbKLi6"
      },
      "source": [
        "class Solution:\n",
        "    def numTrees(self, n: int) -> int:\n",
        "        C = 1\n",
        "        for i in range(n):\n",
        "            C = C * 2 * (2 * i + 1) // (i + 2)\n",
        "        return C"
      ],
      "execution_count": null,
      "outputs": []
    },
    {
      "cell_type": "markdown",
      "metadata": {
        "id": "_ZsdDBIzG6df"
      },
      "source": [
        "## **Validate Binary Search Tree**\n",
        "Given the root of a binary tree, determine if it is a valid binary search tree (BST).A valid BST is defined as follows:The left subtree of a node contains only nodes with keys less than the node’s key.\n",
        "The right subtree of a node contains only nodes with keys greater than the node’s key.Both the left and right subtrees must also be binary search trees.\n"
      ]
    },
    {
      "cell_type": "code",
      "metadata": {
        "id": "cQi08P7jG-A8"
      },
      "source": [
        "class Solution:\n",
        "    def isValidBST(self, root: TreeNode) -> bool:\n",
        "        def check(root, l, r):\n",
        "            if root == None:\n",
        "                return True\n",
        "            val = root.val\n",
        "            if val <= l or val >= r:\n",
        "                return False\n",
        "            return check(root.left, l, val) and check(root.right, val, r)\n",
        "        return check(root, float('-inf'), float('inf'))"
      ],
      "execution_count": null,
      "outputs": []
    },
    {
      "cell_type": "markdown",
      "metadata": {
        "id": "TZZNx0yDG6h2"
      },
      "source": [
        "## **Same Tree**\n",
        "Given two binary trees, write a function to check if they are the same or not.\n",
        "Two binary trees are considered the same if they are structurally identical and the nodes have the same value."
      ]
    },
    {
      "cell_type": "code",
      "metadata": {
        "id": "J7LVEnpAG4dy"
      },
      "source": [
        "class Solution:\n",
        "    def isSameTree(self, p: TreeNode, q: TreeNode) -> bool:\n",
        "        if not p and not q:\n",
        "            return True\n",
        "        if not p or not q:\n",
        "            return False\n",
        "        return p.val == q.val and self.isSameTree(p.left, q.left) and self.isSameTree(p.right, q.right)"
      ],
      "execution_count": null,
      "outputs": []
    },
    {
      "cell_type": "markdown",
      "metadata": {
        "id": "7kvqjW8_K6Bz"
      },
      "source": [
        "## **Binary Tree Zigzag Level Order Traversal**\n",
        "Given a binary tree, return the zigzag level order traversal of its nodes’ values. (ie, from left to right, then right to left for the next level and alternate between)."
      ]
    },
    {
      "cell_type": "code",
      "metadata": {
        "id": "v6jcSAwaK7Xq"
      },
      "source": [
        "class Solution:\n",
        "    def zigzagLevelOrder(self, root: TreeNode) -> List[List[int]]:\n",
        "        def dfs(root, lev):\n",
        "            if lev < len(res):\n",
        "                if lev % 2:\n",
        "                    res[lev].appendleft(root.val)\n",
        "                else:\n",
        "                    res[lev].append(root.val)\n",
        "            else:\n",
        "                res.append(deque([root.val]))\n",
        "            if root.left:\n",
        "                dfs(root.left, lev + 1)\n",
        "            if root.right:\n",
        "                dfs(root.right, lev + 1)\n",
        "        if not root:\n",
        "            return []\n",
        "        res = []\n",
        "        dfs(root, 0)\n",
        "        return res"
      ],
      "execution_count": null,
      "outputs": []
    },
    {
      "cell_type": "markdown",
      "metadata": {
        "id": "52jH2o-TK6Gh"
      },
      "source": [
        "## **Maximum Depth of Binary Tree**\n",
        "Given the root of a binary tree, return its maximum depth.A binary tree’s maximum depth is the number of nodes along the longest path from the root node down to the farthest leaf node."
      ]
    },
    {
      "cell_type": "code",
      "metadata": {
        "id": "i8XkiS3aK7yX"
      },
      "source": [
        "class Solution:\n",
        "    def maxDepth(self, root: TreeNode) -> int:\n",
        "        if not root:\n",
        "            return 0\n",
        "        q = [root]\n",
        "        res = 0\n",
        "        while q:\n",
        "            tq = []\n",
        "            for n in q:\n",
        "                if n.left:\n",
        "                    tq.append(n.left)\n",
        "                if n.right:\n",
        "                    tq.append(n.right)\n",
        "            q = tq\n",
        "            res += 1\n",
        "        return res"
      ],
      "execution_count": null,
      "outputs": []
    },
    {
      "cell_type": "code",
      "metadata": {
        "id": "cHSKnnQPLt6K"
      },
      "source": [
        "class Solution:\n",
        "    def maxDepth(self, root):\n",
        "        return max(self.maxDepth(root.left), self.maxDepth(root.right)) + 1 if root else 0\n",
        ""
      ],
      "execution_count": null,
      "outputs": []
    },
    {
      "cell_type": "markdown",
      "metadata": {
        "id": "5h99osY4fqA2"
      },
      "source": [
        "## **Count Complete Tree Nodes**\n",
        "Given a complete binary tree, count the number of nodes."
      ]
    },
    {
      "cell_type": "code",
      "metadata": {
        "id": "8tH7oMB-fvTE"
      },
      "source": [
        "class Solution:\n",
        "    def countNodes(self, root: TreeNode) -> int:\n",
        "        def get_height(root):\n",
        "            return 1 + get_height(root.left) if root else -1\n",
        "\n",
        "        res = 0\n",
        "        h = get_height(root)\n",
        "        if h < 0:\n",
        "            return 0\n",
        "        while root:\n",
        "            if get_height(root.right) == h - 1:\n",
        "                res += 1 << h\n",
        "                root = root.right\n",
        "            else:\n",
        "                res += 1 << (h - 1)\n",
        "                root = root.left\n",
        "            h -= 1\n",
        "        return res"
      ],
      "execution_count": null,
      "outputs": []
    },
    {
      "cell_type": "markdown",
      "metadata": {
        "id": "5aQaLPfZf7FL"
      },
      "source": [
        "## **Invert Binary Tree**"
      ]
    },
    {
      "cell_type": "code",
      "metadata": {
        "id": "lgNlQL-HgE-G"
      },
      "source": [
        "class Solution:\n",
        "    def invertTree(self, root):\n",
        "        if root:\n",
        "            root.left, root.right = self.invertTree(root.right), self.invertTree(root.left)\n",
        "        return root"
      ],
      "execution_count": null,
      "outputs": []
    },
    {
      "cell_type": "markdown",
      "metadata": {
        "id": "g-Hp0k15mtcn"
      },
      "source": [
        "## **Swap every two adjacent nodes**\n",
        "Given a non-empty binary search tree and a target value, find the value in the BST that is closest to the target.\n",
        "Note:\n",
        "Given target value is a floating point.\n",
        "You are guaranteed to have only one unique value in the BST that is closest to the target."
      ]
    },
    {
      "cell_type": "code",
      "metadata": {
        "id": "hlz2_O2Fm6Lc"
      },
      "source": [
        "class Solution:\n",
        "    def closestValue(self, root: TreeNode, target: float) -> int:\n",
        "        res = root.val\n",
        "        while root:\n",
        "            res = min(res, root.val, key = lambda x: abs(target - x))\n",
        "            root = root.left if target < root.val else root.right\n",
        "        return res"
      ],
      "execution_count": null,
      "outputs": []
    },
    {
      "cell_type": "markdown",
      "metadata": {
        "id": "mq-AP-H9iH5w"
      },
      "source": [
        "## **Kth Smallest Element in a BST**\n",
        "Given a binary search tree, write a function kthSmallest to find the kth smallest element in it.\n",
        "Note:\n",
        "You may assume k is always valid, 1 ≤ k ≤ BST’s total elements."
      ]
    },
    {
      "cell_type": "code",
      "metadata": {
        "id": "mOONjKLiiQD-"
      },
      "source": [
        "class Solution:\n",
        "    def kthSmallest(self, root: TreeNode, k: int) -> int:\n",
        "        def inorder(root):\n",
        "            if not root:\n",
        "                return\n",
        "            res = inorder(root.left)\n",
        "            if res is not None:\n",
        "                return res\n",
        "            self.k -= 1\n",
        "            if self.k == 0:\n",
        "                return root.val\n",
        "            else:\n",
        "                return inorder(root.right)\n",
        "\n",
        "        self.k = k\n",
        "        return inorder(root)"
      ],
      "execution_count": null,
      "outputs": []
    },
    {
      "cell_type": "code",
      "metadata": {
        "id": "JkbvZ_o6iTXN"
      },
      "source": [
        "class Solution:\n",
        "    def kthSmallest(self, root: TreeNode, k: int) -> int:\n",
        "        stack = []\n",
        "        while stack or root:\n",
        "            while root:\n",
        "                stack.append(root)\n",
        "                root = root.left\n",
        "            root = stack.pop()\n",
        "            k -= 1\n",
        "            if k == 0:\n",
        "                return root.val\n",
        "            root = root.right"
      ],
      "execution_count": null,
      "outputs": []
    },
    {
      "cell_type": "markdown",
      "metadata": {
        "id": "2wzCX54mK6Kb"
      },
      "source": [
        "## **Populating Next Right Pointers in Each Node II**\n",
        "Given a binary tree\n",
        "struct Node {\n",
        "  int val;\n",
        "  Node *left;\n",
        "  Node *right;\n",
        "  Node *next;\n",
        "}\n",
        "Populate each next pointer to point to its next right node. If there is no next right node, the next pointer should be set to NULL.\n",
        "Initially, all next pointers are set to NULL.\n",
        "Follow up:\n",
        "You may only use constant extra space.\n",
        "Recursive approach is fine, you may assume implicit stack space does not count as extra space for this problem."
      ]
    },
    {
      "cell_type": "code",
      "metadata": {
        "id": "-TKVVa1EK8QU"
      },
      "source": [
        "class Solution:\n",
        "    def connect(self, root: 'Node') -> 'Node':\n",
        "        cur = root\n",
        "        head, pre = None, None\n",
        "        while cur:\n",
        "            if cur.left:\n",
        "                if pre:\n",
        "                    pre.next = cur.left\n",
        "                else:\n",
        "                    head = cur.left\n",
        "                pre = cur.left\n",
        "            if cur.right:\n",
        "                if pre:\n",
        "                    pre.next = cur.right\n",
        "                else:\n",
        "                    head = cur.right\n",
        "                pre = cur.right\n",
        "            cur = cur.next\n",
        "            if not cur:\n",
        "                cur = head\n",
        "                pre, head = None, None\n",
        "        return root"
      ],
      "execution_count": null,
      "outputs": []
    },
    {
      "cell_type": "markdown",
      "metadata": {
        "id": "RP7AMC3oK6OO"
      },
      "source": [
        "## **Pascal's Triangle II**\n",
        "Given a non-negative index k where k ≤ 33, return the kth index row of the Pascal’s triangle.Note that the row index starts from 0."
      ]
    },
    {
      "cell_type": "code",
      "metadata": {
        "id": "nmJknZxtK81a"
      },
      "source": [
        "class Solution:\n",
        "    def getRow(self, rowIndex: int) -> List[int]:\n",
        "        res = [1]\n",
        "        for i in range(rowIndex):\n",
        "            for j in range(i, 0, -1):\n",
        "                res[j] += res[j - 1]\n",
        "            res.append(1)\n",
        "        return res"
      ],
      "execution_count": null,
      "outputs": []
    },
    {
      "cell_type": "markdown",
      "metadata": {
        "id": "-hrzVa3ZK6SA"
      },
      "source": [
        "## **Best Time to Buy and Sell Stock**\n",
        "Say you have an array for which the ith element is the price of a given stock on day i.If you were only permitted to complete at most one transaction (i.e., buy one and sell one share of the stock), design an algorithm to find the maximum profit.Note that you cannot sell a stock before you buy one."
      ]
    },
    {
      "cell_type": "code",
      "metadata": {
        "id": "RSg-RitSK9i-"
      },
      "source": [
        "class Solution:\n",
        "    def maxProfit(self, prices: List[int]) -> int:\n",
        "        res, cur_min = 0, float('inf')\n",
        "        for p in prices:\n",
        "            res = max(res, p - cur_min)\n",
        "            cur_min = min(cur_min, p)\n",
        "        return res"
      ],
      "execution_count": null,
      "outputs": []
    },
    {
      "cell_type": "markdown",
      "metadata": {
        "id": "xqOkPO_vK6V2"
      },
      "source": [
        "## **Best Time to Buy and Sell Stock II**\n",
        "Say you have an array prices for which the ith element is the price of a given stock on day i.Design an algorithm to find the maximum profit. You may complete as many transactions as you like (i.e., buy one and sell one share of the stock multiple times).Note: You may not engage in multiple transactions at the same time (i.e., you must sell the stock before you buy again)."
      ]
    },
    {
      "cell_type": "code",
      "metadata": {
        "id": "m_zasbVCK-HM"
      },
      "source": [
        "class Solution:\n",
        "    def maxProfit(self, prices: List[int]) -> int:\n",
        "        res = 0\n",
        "        for i in range(1, len(prices)):\n",
        "            if prices[i] > prices[i - 1]:\n",
        "                res += prices[i] - prices[i - 1]\n",
        "        return res"
      ],
      "execution_count": null,
      "outputs": []
    },
    {
      "cell_type": "markdown",
      "metadata": {
        "id": "K58a4I8JK6p_"
      },
      "source": [
        "## **Best Time to Buy and Sell Stock III**\n",
        "Say you have an array for which the ith element is the price of a given stock on day i.Design an algorithm to find the maximum profit. You may complete at most two transactions. Note: You may not engage in multiple transactions at the same time (i.e., you must sell the stock before you buy again)."
      ]
    },
    {
      "cell_type": "code",
      "metadata": {
        "id": "fZQrpt4KOmTW"
      },
      "source": [
        "buy1[i] = max(buy1[i - 1], -prices[i])\n",
        "sell1[i] = max(sell1[i - 1], buy1[i] + prices[i])\n",
        "buy2[i] = max(buy2[i - 1], sell1[i - 1] - prices[i])\n",
        "sell2[i] = max(sell2[i - 1], buy2[i] + prices[i])"
      ],
      "execution_count": null,
      "outputs": []
    },
    {
      "cell_type": "code",
      "metadata": {
        "id": "TAbNk0mOK-lW"
      },
      "source": [
        "class Solution:\n",
        "    def maxProfit(self, prices: List[int]) -> int:\n",
        "        sell1 = sell2 = 0\n",
        "        buy1 = buy2 = -float('inf')\n",
        "        for p in prices:\n",
        "            buy1 = max(buy1, -p);\n",
        "            sell1 = max(sell1, buy1 + p)\n",
        "            buy2 = max(buy2, sell1 - p)\n",
        "            sell2 = max(sell2, buy2 + p)\n",
        "        return sell2"
      ],
      "execution_count": null,
      "outputs": []
    },
    {
      "cell_type": "markdown",
      "metadata": {
        "id": "r8C1ZdhXXxea"
      },
      "source": [
        "## **Best Time to Buy and Sell Stock IV**\n",
        "You are given an integer array prices where prices[i] is the price of a given stock on the ith day.\n",
        "\n",
        "Design an algorithm to find the maximum profit. You may complete at most k transactions.\n",
        "\n",
        "Notice that you may not engage in multiple transactions simultaneously (i.e., you must sell the stock before you buy again).\n"
      ]
    },
    {
      "cell_type": "code",
      "metadata": {
        "id": "Ed8Xo_4JX651"
      },
      "source": [
        "class Solution:\n",
        "    def maxProfit(self, k, prices):\n",
        "        if not prices:\n",
        "            return 0\n",
        "        n = len(prices)\n",
        "        if k > n // 2:\n",
        "            res = 0\n",
        "            for i in range(1, len(prices)):\n",
        "                if prices[i] > prices[i - 1]:\n",
        "                    res += prices[i] - prices[i - 1]\n",
        "            return res\n",
        "        n = len(prices)\n",
        "        dp = [[0, 0] for _ in range(k + 1)]\n",
        "        for i in range(k + 1):\n",
        "            dp[i][1] = -prices[0]\n",
        "        for i in range(1, n):\n",
        "            for j in range(1, k + 1):\n",
        "                dp[j - 1][1] = max(dp[j - 1][1], dp[j - 1][0] - prices[i])\n",
        "                dp[j][0] = max(dp[j][0], dp[j - 1][1] + prices[i])\n",
        "        return dp[k][0]"
      ],
      "execution_count": null,
      "outputs": []
    },
    {
      "cell_type": "markdown",
      "metadata": {
        "id": "zm9-8XonK6uM"
      },
      "source": [
        "## **Binary Tree Maximum Path Sum**\n",
        "Given a non-empty binary tree, find the maximum path sum. For this problem, a path is defined as any sequence of nodes from some starting node to any node in the tree along the parent-child connections. The path must contain at least one node and does not need to go through the root."
      ]
    },
    {
      "cell_type": "code",
      "metadata": {
        "id": "zbivBu8dK_DX"
      },
      "source": [
        "# Definition for a binary tree node. # class TreeNode: # def __init__(self, val=0, left=None, right=None): # self.val = val # self.left = left # self.right = right class Solution:\n",
        "    def maxPathSum(self, root: TreeNode) -> int:\n",
        "        def traversal(root):\n",
        "            if root is None:\n",
        "                return 0\n",
        "            left = max(0, traversal(root.left))\n",
        "            right = max(0, traversal(root.right))\n",
        "            self.res = max(self.res, left + right + root.val)\n",
        "            return max(left, right, 0) + root.val\n",
        "        self.res = float(\"-inf\")\n",
        "        traversal(root)\n",
        "        return self.res"
      ],
      "execution_count": null,
      "outputs": []
    },
    {
      "cell_type": "markdown",
      "metadata": {
        "id": "rzZThTzUK6yl"
      },
      "source": [
        "## **Valid Palindrome**\n",
        "Given a string, determine if it is a palindrome, considering only alphanumeric characters and ignoring cases.Note: For the purpose of this problem, we define empty string as valid palindrome"
      ]
    },
    {
      "cell_type": "code",
      "metadata": {
        "id": "9rG5aBo-K_yJ"
      },
      "source": [
        "class Solution:\n",
        "    def isPalindrome(self, s: str) -> bool:\n",
        "        l, r = 0, len(s) - 1\n",
        "        while l < r:\n",
        "            while l < r and not s[l].isalnum():\n",
        "                l += 1\n",
        "            while l < r and not s[r].isalnum():\n",
        "                r -= 1\n",
        "            if l < r:\n",
        "                if s[l].lower() != s[r].lower():\n",
        "                    return False\n",
        "                l += 1\n",
        "                r -= 1\n",
        "        return True"
      ],
      "execution_count": null,
      "outputs": []
    },
    {
      "cell_type": "markdown",
      "metadata": {
        "id": "FzBPimLYPYDo"
      },
      "source": [
        "## **Word Ladder**\n",
        "Given two words beginWord and endWord, and a dictionary wordList, return the length of the shortest transformation sequence from beginWord to endWord, such that:\n",
        "Only one letter can be changed at a time.\n",
        "Each transformed word must exist in the word list. Return 0 if there is no such transformation sequence"
      ]
    },
    {
      "cell_type": "code",
      "metadata": {
        "id": "ZmFtziU9Phia"
      },
      "source": [
        "class Solution:\n",
        "    def ladderLength(self, beginWord: str, endWord: str, wordList: List[str]) -> int:\n",
        "        wordList = set(wordList)\n",
        "        if endWord not in wordList:\n",
        "            return 0\n",
        "        wordList.add(beginWord)\n",
        "        l = len(beginWord)\n",
        "        dic = defaultdict(list)\n",
        "        for word in wordList:\n",
        "            for i in range(l):\n",
        "                tmp = word[:i] + '_' + word[i + 1:]\n",
        "                dic[tmp].append(word)\n",
        "        q1 = deque([beginWord])\n",
        "        dis1 = {w: 0 for w in wordList}\n",
        "        dis1[beginWord] = 1\n",
        "        q2 = deque([endWord])\n",
        "        dis2 = {w: 0 for w in wordList}\n",
        "        dis2[endWord] = 1\n",
        "        flag = True\n",
        "        while q1 and q2:\n",
        "            if flag:\n",
        "                front, dis_front = q1, dis1\n",
        "                back, dis_back = q2, dis2\n",
        "            else:\n",
        "                front, dis_front = q2, dis2\n",
        "                back, dis_back = q1, dis1\n",
        "            cur = front.popleft()\n",
        "            dist = dis_front[cur]\n",
        "            next_word = []\n",
        "            for i in range(l):\n",
        "                tmp = cur[:i] + '_' + cur[i + 1:]\n",
        "                for w in dic[tmp]:\n",
        "                    next_word.append(w)\n",
        "            for w in next_word:\n",
        "                if dis_back[w] > 0:\n",
        "                    return dist + dis_back[w]\n",
        "                if dis_front[w] == 0:\n",
        "                    dis_front[w] = dist + 1\n",
        "                    front.append(w)\n",
        "            if len(back) < len(front):\n",
        "                flag = not flag\n",
        "        return 0"
      ],
      "execution_count": null,
      "outputs": []
    },
    {
      "cell_type": "markdown",
      "metadata": {
        "id": "2b5WMnnqP2Rc"
      },
      "source": [
        "## **Sum Root to Leaf Numbers**\n",
        "Given a binary tree containing digits from 0-9 only, each root-to-leaf path could represent a number.An example is the root-to-leaf path 1->2->3 which represents the number 123.Find the total sum of all root-to-leaf numbers."
      ]
    },
    {
      "cell_type": "code",
      "metadata": {
        "id": "Sg2zKLoKP9QH"
      },
      "source": [
        "class Solution:\n",
        "    def sumNumbers(self, root: TreeNode) -> int:\n",
        "        def find(root, n):\n",
        "            if root is None:\n",
        "                return 0\n",
        "            cur = n * 10 + root.val\n",
        "            if root.left is None and root.right is None:\n",
        "                return cur\n",
        "            return find(root.left, cur) + find(root.right, cur)\n",
        "        return find(root, 0)"
      ],
      "execution_count": null,
      "outputs": []
    },
    {
      "cell_type": "markdown",
      "metadata": {
        "id": "r6HAN5afQD6V"
      },
      "source": [
        "## **Surrounded Regions**\n",
        "Given a 2D board containing ‘X’ and ‘O’ (the letter O), capture all regions surrounded by ‘X’.A region is captured by flipping all ‘O’s into ‘X’s in that surrounded region."
      ]
    },
    {
      "cell_type": "code",
      "metadata": {
        "id": "FhxeBskfQN2U"
      },
      "source": [
        "class Solution:\n",
        "    def solve(self, board: List[List[str]]) -> None:\n",
        "        \"\"\" Do not return anything, modify board in-place instead. \"\"\"\n",
        "        if not board:\n",
        "            return\n",
        "        m, n = len(board), len(board[0])\n",
        "        stack = []\n",
        "        for i in range(m):\n",
        "            if board[i][0] == 'O':\n",
        "                stack.append((i, 0))\n",
        "            if board[i][n - 1] == 'O':\n",
        "                stack.append((i, n - 1))\n",
        "        for i in range(1, n - 1):\n",
        "            if board[0][i] == 'O':\n",
        "                stack.append((0, i))\n",
        "            if board[m - 1][i] == 'O':\n",
        "                stack.append((m - 1, i))\n",
        "        while stack:\n",
        "            i, j = stack.pop()\n",
        "            if 0 <= i < m and 0 <= j < n and board[i][j] == 'O':\n",
        "                board[i][j] = \"#\"\n",
        "                stack += (i, j - 1), (i, j + 1), (i - 1, j), (i + 1, j)\n",
        "        board[:] = [['XO'[c == '#'] for c in row] for row in board]"
      ],
      "execution_count": null,
      "outputs": []
    },
    {
      "cell_type": "markdown",
      "metadata": {
        "id": "iAIT0mblQT9B"
      },
      "source": [
        "## **Clone Graph**\n",
        "Given a reference of a node in a connected undirected graph.\n",
        "Return a deep copy (clone) of the graph.\n",
        "Each node in the graph contains a val (int) and a list (List[Node]) of its neighbors.\n",
        "class Node {\n",
        "    public int val;\n",
        "    public List<Node> neighbors;\n",
        "}\n",
        "Test case format:\n",
        "For simplicity sake, each node’s value is the same as the node’s index (1-indexed). For example, the first node with val = 1, the second node with val = 2, and so on. The graph is represented in the test case using an adjacency list.Adjacency list is a collection of unordered lists used to represent a finite graph. Each list describes the set of neighbors of a node in the graph.\n",
        "The given node will always be the first node with val = 1. You must return the copy of the given node as a reference to the cloned graph."
      ]
    },
    {
      "cell_type": "code",
      "metadata": {
        "id": "lOlRvGwoQUR9"
      },
      "source": [
        "class Solution:\n",
        "    def __init__(self):\n",
        "        self.visit = {}\n",
        "\n",
        "    def cloneGraph(self, node: 'Node') -> 'Node':\n",
        "        if not node:\n",
        "            return node\n",
        "        if node in self.visit:\n",
        "            return self.visit[node]\n",
        "        res = Node(node.val, [])\n",
        "        self.visit[node] = res\n",
        "        if node.neighbors:\n",
        "            res.neighbors = [self.cloneGraph(n) for n in node.neighbors]\n",
        "        return res"
      ],
      "execution_count": null,
      "outputs": []
    },
    {
      "cell_type": "markdown",
      "metadata": {
        "id": "PgUJrX2wQoTR"
      },
      "source": [
        "## **Gas Station**\n",
        "There are N gas stations along a circular route, where the amount of gas at station i is gas[i].You have a car with an unlimited gas tank and it costs cost[i] of gas to travel from station i to its next station (i+1). You begin the journey with an empty tank at one of the gas stations.Return the starting gas station’s index if you can travel around the circuit once in the clockwise direction, otherwise return -1.\n",
        "Note:If there exists a solution, it is guaranteed to be unique.Both input arrays are non-empty and have the same length.Each element in the input arrays is a non-negative integer."
      ]
    },
    {
      "cell_type": "code",
      "metadata": {
        "id": "sUlQ9dcLQzM8"
      },
      "source": [
        "class Solution:\n",
        "    def canCompleteCircuit(self, gas: List[int], cost: List[int]) -> int:\n",
        "        l = len(gas)\n",
        "        start = cur = tot = 0\n",
        "        for i in range(l):\n",
        "            t = gas[i] - cost[i]\n",
        "            tot += t\n",
        "            cur += t\n",
        "            if cur < 0:\n",
        "                cur, start = 0, i + 1\n",
        "        return -1 if tot < 0 else start"
      ],
      "execution_count": null,
      "outputs": []
    },
    {
      "cell_type": "markdown",
      "metadata": {
        "id": "wMR3EW2ZQ3-g"
      },
      "source": [
        "## **Single Number**\n",
        "Given a non-empty array of integers, every element appears twice except for one. Find that single one.\n",
        "Note:Your algorithm should have a linear runtime complexity. Could you implement it without using extra memory?"
      ]
    },
    {
      "cell_type": "code",
      "metadata": {
        "id": "pdkWtNiARM_0"
      },
      "source": [
        "import functools\n",
        "class Solution:\n",
        "    def singleNumber(self, nums):\n",
        "        return functools.reduce(lambda x, y: x ^ y, nums)"
      ],
      "execution_count": null,
      "outputs": []
    },
    {
      "cell_type": "markdown",
      "metadata": {
        "id": "kfSl9KNiRbYo"
      },
      "source": [
        "## **Single Number II**\n",
        "Given a non-empty array of integers, every element appears three times except for one, which appears exactly once. Find that single one."
      ]
    },
    {
      "cell_type": "code",
      "metadata": {
        "id": "_eYzRYicRkDj"
      },
      "source": [
        "class Solution:\n",
        "    def singleNumber(self, nums: List[int]) -> int:\n",
        "        return (3 * sum(set(nums)) - sum(nums)) // 2"
      ],
      "execution_count": null,
      "outputs": []
    },
    {
      "cell_type": "code",
      "metadata": {
        "id": "DOLuyysrRkL3"
      },
      "source": [
        "class Solution:\n",
        "    def singleNumber(self, nums: List[int]) -> int:\n",
        "        res = 0\n",
        "        for i in range(32):\n",
        "            ct = 0\n",
        "            for n in nums:\n",
        "                ct += (n >> i) & 1\n",
        "            res |= (ct % 3) << i\n",
        "        return res - 2**32 if res >> 31 & 1 else res"
      ],
      "execution_count": null,
      "outputs": []
    },
    {
      "cell_type": "code",
      "metadata": {
        "id": "j-GcDwVsRkUI"
      },
      "source": [
        "class Solution:\n",
        "    def singleNumber(self, nums: List[int]) -> int:\n",
        "        low = high = 0;\n",
        "        for n in nums:\n",
        "            low = (low ^ n) & ~high;\n",
        "            high = (high ^ n) & ~low;\n",
        "        return low"
      ],
      "execution_count": null,
      "outputs": []
    },
    {
      "cell_type": "markdown",
      "metadata": {
        "id": "0izHRYncj03D"
      },
      "source": [
        "## **Single Number III**\n",
        "Given an array of numbers nums, in which exactly two elements appear only once and all the other elements appear exactly twice. Find the two elements that appear only once."
      ]
    },
    {
      "cell_type": "code",
      "metadata": {
        "id": "mi4f6_8gj7i7"
      },
      "source": [
        "class Solution:\n",
        "    def singleNumber(self, nums: List[int]) -> List[int]:\n",
        "        bitmask = 0\n",
        "        for n in nums:\n",
        "            bitmask ^= n\n",
        "        diff = bitmask & (-bitmask)\n",
        "        x = 0\n",
        "        for n in nums:\n",
        "            if n & diff:\n",
        "                x ^= n\n",
        "        return [x, x ^ bitmask]"
      ],
      "execution_count": null,
      "outputs": []
    },
    {
      "cell_type": "markdown",
      "metadata": {
        "id": "donb-X08kBJs"
      },
      "source": [
        "## **Ugly Number II**\n",
        "Write a program to find the n-th ugly number.\n",
        "Ugly numbers are positive numbers whose prime factors only include 2, 3, 5."
      ]
    },
    {
      "cell_type": "code",
      "metadata": {
        "id": "PYDy03hEkQ5N"
      },
      "source": [
        "import heapq\n",
        "class Solution:\n",
        "    def nthUglyNumber(self, n: int) -> int:\n",
        "        s = {1, }\n",
        "        q = []\n",
        "        num = []\n",
        "        heapq.heappush(q, 1)\n",
        "        for i in range(n):\n",
        "            cur = heapq.heappop(q)\n",
        "            num.append(cur)\n",
        "            for j in [2, 3, 5]:\n",
        "                tmp = cur * j\n",
        "                if tmp not in s:\n",
        "                    s.add(tmp)\n",
        "                    heapq.heappush(q, tmp)\n",
        "        return num[n - 1]"
      ],
      "execution_count": null,
      "outputs": []
    },
    {
      "cell_type": "code",
      "metadata": {
        "id": "sDATruB3kMCp"
      },
      "source": [
        "class Solution:\n",
        "    def nthUglyNumber(self, n: int) -> int:\n",
        "        num = [1]\n",
        "        p2 = p3 = p5 = 0\n",
        "        for i in range(n):\n",
        "            tmp = min(num[p2] * 2, num[p3] * 3, num[p5] * 5)\n",
        "            num.append(tmp)\n",
        "            if tmp == num[p2] * 2:\n",
        "                p2 += 1\n",
        "            if tmp == num[p3] * 3:\n",
        "                p3 += 1\n",
        "            if tmp == num[p5] * 5:\n",
        "                p5 += 1\n",
        "        return num[n - 1]"
      ],
      "execution_count": null,
      "outputs": []
    },
    {
      "cell_type": "markdown",
      "metadata": {
        "id": "VaZTNaR9Rymv"
      },
      "source": [
        "## **Word Break**\n",
        "Given a non-empty string s and a dictionary wordDict containing a list of non-empty words, determine if s can be segmented into a space-separated sequence of one or more dictionary words.\n",
        "Note:\n",
        "The same word in the dictionary may be reused multiple times in the segmentation.\n",
        "You may assume the dictionary does not contain duplicate words."
      ]
    },
    {
      "cell_type": "code",
      "metadata": {
        "id": "_n9eH-WkR8mL"
      },
      "source": [
        "class Solution:\n",
        "    def wordBreak(self, s, wordDict):\n",
        "        n = len(s)\n",
        "        dp = [False] * (n + 1)\n",
        "        dp[0] = True\n",
        "        for i in range(1, n + 1):\n",
        "            for w in wordDict:\n",
        "                l = len(w)\n",
        "                if s[i - l: i] == w and dp[i - l]:\n",
        "                    dp[i] = True\n",
        "                    break\n",
        "        return dp[-1]"
      ],
      "execution_count": null,
      "outputs": []
    },
    {
      "cell_type": "markdown",
      "metadata": {
        "id": "l_SCE4E2SIOB"
      },
      "source": [
        "## **Word Break II**\n",
        "Given a non-empty string s and a dictionary wordDict containing a list of non-empty words, add spaces in s to construct a sentence where each word is a valid dictionary word. Return all such possible sentences.\n",
        "Note:\n",
        "The same word in the dictionary may be reused multiple times in the segmentation.\n",
        "You may assume the dictionary does not contain duplicate words."
      ]
    },
    {
      "cell_type": "code",
      "metadata": {
        "id": "xo2bK9NSSQmB"
      },
      "source": [
        "class Solution:\n",
        "    def wordBreak(self, s: str, wordDict: List[str]) -> List[str]:\n",
        "        def dfs(i):\n",
        "            if i in memo:\n",
        "                return memo[i]\n",
        "            res = []\n",
        "            for j in range(i, len(s)):\n",
        "                prefix = s[i: j + 1]\n",
        "                if prefix in wordDict:\n",
        "                    tmp = dfs(j + 1)\n",
        "                    for word in tmp:\n",
        "                        res.append((prefix + \" \" + word).strip())\n",
        "            memo[i] = res\n",
        "            return res\n",
        "        wordDict = set(wordDict)\n",
        "        memo = {len(s): [\"\"]}\n",
        "        return dfs(0)"
      ],
      "execution_count": null,
      "outputs": []
    },
    {
      "cell_type": "markdown",
      "metadata": {
        "id": "F1EmyMbiSZK0"
      },
      "source": [
        "## **Linked List Cycle II**\n",
        "Given a linked list, return the node where the cycle begins. If there is no cycle, return null.\n",
        "There is a cycle in a linked list if there is some node in the list that can be reached again by continuously following the next pointer. Internally, pos is used to denote the index of the node that tail’s next pointer is connected to. Note that pos is not passed as a parameter.\n",
        "Notice that you should not modify the linked list.\n",
        "Follow up:\n",
        "Can you solve it using O(1) (i.e. constant) memory?"
      ]
    },
    {
      "cell_type": "code",
      "metadata": {
        "id": "61cIy9B4SjnQ"
      },
      "source": [
        "class Solution:\n",
        "    def detectCycle(self, head):\n",
        "        slow = fast = head\n",
        "        while fast and fast.next:\n",
        "            fast = fast.next.next\n",
        "            slow = slow.next\n",
        "            if fast == slow:\n",
        "                slow2 = head\n",
        "                while slow != slow2:\n",
        "                    slow = slow.next\n",
        "                    slow2 = slow2.next\n",
        "                return slow\n",
        "        return None"
      ],
      "execution_count": null,
      "outputs": []
    },
    {
      "cell_type": "markdown",
      "metadata": {
        "id": "yTeTHHJ8Sx6a"
      },
      "source": [
        "## **Reorder List**\n",
        "Given a singly linked list L: L0→L1→…→Ln-1→Ln, reorder it to: L0→Ln→L1→Ln-1→L2→Ln-2→…\n",
        "You may not modify the values in the list’s nodes, only nodes itself may be changed."
      ]
    },
    {
      "cell_type": "code",
      "metadata": {
        "id": "pQkk44_BS53-"
      },
      "source": [
        "class Solution:\n",
        "    def reorderList(self, head: ListNode) -> None:\n",
        "        if not head or not head.next or not head.next.next:\n",
        "            return\n",
        "        slow, fast = head, head\n",
        "        while fast.next and fast.next.next:\n",
        "            slow = slow.next\n",
        "            fast = fast.next.next\n",
        "        head2 = slow.next\n",
        "        slow.next = None\n",
        "        dummy = ListNode(0, None)\n",
        "        while head2:\n",
        "            tmp = head2.next\n",
        "            head2.next = dummy.next\n",
        "            dummy.next = head2\n",
        "            head2 = tmp\n",
        "        head1 = head\n",
        "        head2 = dummy.next\n",
        "        while head1 and head2:\n",
        "            tmp = head2\n",
        "            head2 = head2.next\n",
        "            tmp.next = head1.next\n",
        "            head1.next = tmp\n",
        "            head1 = head1.next.next"
      ],
      "execution_count": null,
      "outputs": []
    },
    {
      "cell_type": "markdown",
      "metadata": {
        "id": "hdqMzfCtTF0k"
      },
      "source": [
        "## **LRU Cache**\n",
        "Design and implement a data structure for Least Recently Used (LRU) cache. It should support the following operations: get and put.\n",
        "get(key) - Get the value (will always be positive) of the key if the key exists in the cache, otherwise return -1. put(key, value) - Set or insert the value if the key is not already present. When the cache reached its capacity, it should invalidate the least recently used item before inserting a new item.\n",
        "The cache is initialized with a positive capacity.\n",
        "Follow up:\n",
        "Could you do both operations in O(1) time complexity?"
      ]
    },
    {
      "cell_type": "code",
      "metadata": {
        "id": "9gg25FRiTSBn"
      },
      "source": [
        "class LRUCache:\n",
        "    def __init__(self, capacity: int):\n",
        "        self.capacity = capacity\n",
        "        self.dict = collections.OrderedDict()\n",
        "        self.size = 0\n",
        "    def get(self, key: int) -> int:\n",
        "        if key in self.dict:\n",
        "            self.dict.move_to_end(key)\n",
        "            return self.dict[key]\n",
        "        else:\n",
        "            return -1\n",
        "    def put(self, key: int, value: int) -> None:\n",
        "        if key in self.dict:\n",
        "            self.dict[key] = value\n",
        "            self.dict.move_to_end(key)\n",
        "        else:\n",
        "            if self.size < self.capacity:\n",
        "                self.dict[key] = value\n",
        "                self.size += 1\n",
        "            else:\n",
        "                self.dict.popitem(False)\n",
        "                self.dict[key] = value\n",
        "# Your LRUCache object will be instantiated and called as such: # obj = LRUCache(capacity) # param_1 = obj.get(key) # obj.put(key,value)"
      ],
      "execution_count": null,
      "outputs": []
    },
    {
      "cell_type": "markdown",
      "metadata": {
        "id": "1NJNC9TyTYoV"
      },
      "source": [
        "## **Insertion** **Sort** **List**\n",
        "Sort a linked list using insertion sort.\n",
        "Algorithm of Insertion Sort:\n",
        "Insertion sort iterates, consuming one input element each repetition, and growing a sorted output list.\n",
        "At each iteration, insertion sort removes one element from the input data, finds the location it belongs within the sorted list, and inserts it there.\n",
        "It repeats until no input elements remain."
      ]
    },
    {
      "cell_type": "code",
      "metadata": {
        "id": "evTA9oMpTyd9"
      },
      "source": [
        "class Solution:\n",
        "    def insertionSortList(self, head: ListNode) -> ListNode:\n",
        "        dummy = ListNode(0)\n",
        "        pre = dummy\n",
        "        node = head\n",
        "        while node:\n",
        "            cur = node\n",
        "            node = node.next\n",
        "            if cur.val < pre.val:\n",
        "                pre = dummy\n",
        "            while pre.next and cur.val > pre.next.val:\n",
        "                pre = pre.next\n",
        "            cur.next = pre.next\n",
        "            pre.next = cur\n",
        "        return dummy.next"
      ],
      "execution_count": null,
      "outputs": []
    },
    {
      "cell_type": "markdown",
      "metadata": {
        "id": "lJAOoox1T2NI"
      },
      "source": [
        "## **Sort List**\n",
        "Given the head of a linked list, return the list after sorting it in ascending order.\n",
        "Follow up: Can you sort the linked list in O(n logn) time and O(1) memory (i.e. constant space)?"
      ]
    },
    {
      "cell_type": "code",
      "metadata": {
        "id": "TOCfHadZUAP8"
      },
      "source": [
        "class Solution:\n",
        "    def merge(self, h1, h2):\n",
        "        dummy = tail = ListNode()\n",
        "        while h1 and h2:\n",
        "            if h1.val < h2.val:\n",
        "                tail.next, tail, h1 = h1, h1, h1.next\n",
        "            else:\n",
        "                tail.next, tail, h2 = h2, h2, h2.next\n",
        "        tail.next = h1 or h2\n",
        "        return dummy.next\n",
        "\n",
        "    def sortList(self, head: ListNode) -> ListNode:\n",
        "        if not head or not head.next:\n",
        "            return head\n",
        "        pre, slow, fast = None, head, head\n",
        "        while fast and fast.next:\n",
        "            pre, slow, fast = slow, slow.next, fast.next.next\n",
        "        pre.next = None\n",
        "        return self.merge(self.sortList(head), self.sortList(slow))"
      ],
      "execution_count": null,
      "outputs": []
    },
    {
      "cell_type": "markdown",
      "metadata": {
        "id": "TRhGf07yUE6i"
      },
      "source": [
        "## **Reverse Words in a String**\n",
        "Given an input string, reverse the string word by word."
      ]
    },
    {
      "cell_type": "code",
      "metadata": {
        "id": "eA8EQghkUEVX"
      },
      "source": [
        "class Solution:\n",
        "    def reverseWords(self, s: str) -> str:\n",
        "        return \" \".join(s.split()[::-1])"
      ],
      "execution_count": null,
      "outputs": []
    },
    {
      "cell_type": "markdown",
      "metadata": {
        "id": "FLCD-jEQUTVG"
      },
      "source": [
        "## **Maximum Product Subarray**\n",
        "Given an integer array nums, find the contiguous subarray within an array (containing at least one number) which has the largest product."
      ]
    },
    {
      "cell_type": "code",
      "metadata": {
        "id": "NOMyCeRkU_7U"
      },
      "source": [
        "class Solution:\n",
        "    def solve(self, nums):\n",
        "        def mul(n):\n",
        "            return reduce(lambda x, y: x * y, n, 1)\n",
        "        if len(nums) == 0:\n",
        "            return 0\n",
        "        if len(nums) == 1:\n",
        "            return nums[0]\n",
        "        firstneg, lastneg, numneg = -1, -1, 0\n",
        "        for i, n in enumerate(nums):\n",
        "            if n < 0 :\n",
        "                if firstneg == -1:\n",
        "                    firstneg = i\n",
        "                lastneg = i\n",
        "                numneg += 1\n",
        "        if numneg % 2 == 0:\n",
        "            return mul(nums)\n",
        "        return max(mul(nums[firstneg + 1:]), mul(nums[:lastneg]))\n",
        "    def maxProduct(self, nums: List[int]) -> int:\n",
        "        res = float('-inf')\n",
        "        pre = 0\n",
        "        for i, n in enumerate(nums):\n",
        "            if n == 0:\n",
        "                res = max(res, self.solve(nums[pre: i]))\n",
        "                pre = i + 1\n",
        "        res = max(res, self.solve(nums[pre:]))\n",
        "        return res if pre == 0 else max(res, 0)"
      ],
      "execution_count": null,
      "outputs": []
    },
    {
      "cell_type": "markdown",
      "metadata": {
        "id": "GyABknnUU4ei"
      },
      "source": [
        "## **Find Minimum in Rotated Sorted Array II**\n",
        "Suppose an array sorted in ascending order is rotated at some pivot unknown to you beforehand.\n",
        "\n",
        "(i.e., [0,1,2,4,5,6,7] might become [4,5,6,7,0,1,2]).\n",
        "\n",
        "Find the minimum element.\n",
        "\n",
        "The array may contain duplicates."
      ]
    },
    {
      "cell_type": "code",
      "metadata": {
        "id": "7hkPNoeSU3ce"
      },
      "source": [
        "class Solution:\n",
        "    def findMin(self, nums):\n",
        "        l, r = 0, len(nums) - 1\n",
        "        while l < r:\n",
        "            m = (l + r) // 2\n",
        "            if nums[m] < nums[r]:\n",
        "                r = m\n",
        "            elif nums[m] > nums[r]:\n",
        "                l = m + 1\n",
        "            else:\n",
        "                r -= 1\n",
        "        return nums[l]"
      ],
      "execution_count": null,
      "outputs": []
    },
    {
      "cell_type": "markdown",
      "metadata": {
        "id": "29wiR7EKUcLE"
      },
      "source": [
        "## **Min Stack**\n",
        "Design a stack that supports push, pop, top, and retrieving the minimum element in constant time.\n",
        "push(x) – Push element x onto stack.\n",
        "pop() – Removes the element on top of the stack.\n",
        "top() – Get the top element.\n",
        "getMin() – Retrieve the minimum element in the stack."
      ]
    },
    {
      "cell_type": "code",
      "metadata": {
        "id": "lF61pcqdVajV"
      },
      "source": [
        "class MinStack:\n",
        "    def __init__(self):\n",
        "        \"\"\" initialize your data structure here. \"\"\"\n",
        "        self.stack = []\n",
        "        self.min_stack = [float('inf')]\n",
        "    def push(self, x: int) -> None:\n",
        "        self.stack.append(x)\n",
        "        if x <= self.min_stack[-1]:\n",
        "            self.min_stack.append(x)\n",
        "    def pop(self) -> None:\n",
        "        if self.stack[-1] == self.min_stack[-1]:\n",
        "            self.min_stack.pop()\n",
        "        self.stack.pop()\n",
        "    def top(self) -> int:\n",
        "        return self.stack[-1]\n",
        "    def getMin(self) -> int:\n",
        "        return self.min_stack[-1]\n",
        "# Your MinStack object will be instantiated and called as such: # obj = MinStack() # obj.push(x) # obj.pop() # param_3 = obj.top() # param_4 = obj.getMin("
      ],
      "execution_count": null,
      "outputs": []
    },
    {
      "cell_type": "markdown",
      "metadata": {
        "id": "QyQRUPe0Vjc1"
      },
      "source": [
        "## **Compare Version Numbers**\n",
        "Compare two version numbers version1 and version2. If version1 > version2 return 1; if version1 < version2 return -1;otherwise return 0.\n",
        "You may assume that the version strings are non-empty and contain only digits and the . character.\n",
        "The . character does not represent a decimal point and is used to separate number sequences.\n",
        "For instance, 2.5 is not “two and a half” or “half way to version three”, it is the fifth second-level revision of the second first-level revision.\n",
        "You may assume the default revision number for each level of a version number to be 0. For example, version number 3.4 has a revision number of 3 and 4 for its first and second level revision number. Its third and fourth level revision number are both 0."
      ]
    },
    {
      "cell_type": "code",
      "metadata": {
        "id": "Lx3iVceGVi0k"
      },
      "source": [
        "class Solution:\n",
        "    def compareVersion(self, version1: str, version2: str) -> int:\n",
        "        v1, v2 = version1.split('.'), version2.split('.')\n",
        "        l1, l2 = len(v1), len(v2)\n",
        "        for i in range(max(l1, l2)):\n",
        "            p1 = int(v1[i]) if i < l1 else 0\n",
        "            p2 = int(v2[i]) if i < l2 else 0\n",
        "            if p1 > p2:\n",
        "                return 1\n",
        "            elif p1 < p2:\n",
        "                return -1\n",
        "        return 0"
      ],
      "execution_count": null,
      "outputs": []
    },
    {
      "cell_type": "markdown",
      "metadata": {
        "id": "t-EV0A2WVyAx"
      },
      "source": [
        "## **Majority Element**\n",
        "Given an array of size n, find the majority element. The majority element is the element that appears more than ⌊ n/2 ⌋ times.\n",
        "You may assume that the array is non-empty and the majority element always exist in the array."
      ]
    },
    {
      "cell_type": "code",
      "metadata": {
        "id": "jsXzd78-WBEs"
      },
      "source": [
        "from collections import Counter\n",
        "class Solution:\n",
        "    def majorityElement(self, nums: List[int]) -> int:\n",
        "        ct = Counter(nums)\n",
        "        l = len(nums) / 2\n",
        "        for key, value in ct.items():\n",
        "            if value >= l:\n",
        "                return key"
      ],
      "execution_count": null,
      "outputs": []
    },
    {
      "cell_type": "markdown",
      "metadata": {
        "id": "sNgoP_K2h1hn"
      },
      "source": [
        "## **Majority Element II**\n",
        "Given an integer array of size n, find all elements that appear more than ⌊ n/3 ⌋ times.Note: The algorithm should run in linear time and in O(1) space."
      ]
    },
    {
      "cell_type": "code",
      "metadata": {
        "id": "LC6sFkPdh8io"
      },
      "source": [
        "class Solution:\n",
        "    def majorityElement(self, nums: List[int]) -> List[int]:\n",
        "        if not nums:\n",
        "            return []\n",
        "        count1, count2, candidate1, candidate2 = 0, 0, None, None\n",
        "        for n in nums:\n",
        "            if candidate1 == n:\n",
        "                count1 += 1\n",
        "            elif candidate2 == n:\n",
        "                count2 += 1\n",
        "            elif count1 == 0:\n",
        "                candidate1 = n\n",
        "                count1 = 1\n",
        "            elif count2 == 0:\n",
        "                candidate2 = n\n",
        "                count2 = 1\n",
        "            else:\n",
        "                count1 -= 1\n",
        "                count2 -= 1\n",
        "        res = []\n",
        "        for c in [candidate1, candidate2]:\n",
        "            if nums.count(c) > len(nums) // 3:\n",
        "                res.append(c)\n",
        "        return res"
      ],
      "execution_count": null,
      "outputs": []
    },
    {
      "cell_type": "markdown",
      "metadata": {
        "id": "68ZCOelQWJIx"
      },
      "source": [
        "## **Excel Sheet Column Number**\n",
        "Given a column title as appear in an Excel sheet, return its corresponding column number."
      ]
    },
    {
      "cell_type": "code",
      "metadata": {
        "id": "1LdTukOKWTaY"
      },
      "source": [
        "class Solution:\n",
        "    def titleToNumber(self, s: str) -> int:\n",
        "        res = 0\n",
        "        for c in s:\n",
        "            res = res * 26 + ord(c) - 64\n",
        "        return res"
      ],
      "execution_count": null,
      "outputs": []
    },
    {
      "cell_type": "markdown",
      "metadata": {
        "id": "C0fb956xWU7g"
      },
      "source": [
        "## **Binary Search Tree Iterator**\n",
        "Implement the BSTIterator class that represents an iterator over the in-order traversal of a binary search tree (BST):\n",
        "BSTIterator(TreeNode root) Initializes an object of the BSTIterator class. The root of the BST is given as part of the constructor. The pointer should be initialized to a non-existent number smaller than any element in the BST.\n",
        "boolean hasNext() Returns true if there exists a number in the traversal to the right of the pointer, otherwise returns false.\n",
        "int next() Moves the pointer to the right, then returns the number at the pointer.\n",
        "Notice that by initializing the pointer to a non-existent smallest number, the first call to next() will return the smallest element in the BST.\n",
        "You may assume that next() calls will always be valid. That is, there will be at least a next number in the in-order traversal when next() is called."
      ]
    },
    {
      "cell_type": "code",
      "metadata": {
        "id": "o7ZEKG5zWiCz"
      },
      "source": [
        "class BSTIterator:\n",
        "    def __init__(self, root):\n",
        "        self.stack = []\n",
        "        self.do_left(root)\n",
        "    def do_left(self, root):\n",
        "        while root:\n",
        "            self.stack.append(root)\n",
        "            root = root.left\n",
        "    def next(self) -> int:\n",
        "        ret = self.stack.pop()\n",
        "        if ret.right:\n",
        "            self.do_left(ret.right)\n",
        "        return ret.val\n",
        "    def hasNext(self) -> bool:\n",
        "        return len(self.stack) > 0"
      ],
      "execution_count": null,
      "outputs": []
    },
    {
      "cell_type": "markdown",
      "metadata": {
        "id": "DrjtnvX1Wt7D"
      },
      "source": [
        "## **Dungeon Game**\n",
        "The demons had captured the princess (P) and imprisoned her in the bottom-right corner of a dungeon. The dungeon consists of M x N rooms laid out in a 2D grid. Our valiant knight (K) was initially positioned in the top-left room and must fight his way through the dungeon to rescue the princess.\n",
        "\n",
        "The knight has an initial health point represented by a positive integer. If at any point his health point drops to 0 or below, he dies immediately.\n",
        "\n",
        "Some of the rooms are guarded by demons, so the knight loses health (negative integers) upon entering these rooms; other rooms are either empty (0’s) or contain magic orbs that increase the knight’s health (positive integers).\n",
        "\n",
        "In order to reach the princess as quickly as possible, the knight decides to move only rightward or downward in each step.\n",
        "\n",
        "Write a function to determine the knight’s minimum initial health so that he is able to rescue the princess.\n",
        "\n",
        "#####Note:\n",
        "\n",
        "The knight’s health has no upper bound.\n",
        "Any room can contain threats or power-ups, even the first room the knight enters and the bottom-right room where the princess is imprisoned."
      ]
    },
    {
      "cell_type": "code",
      "metadata": {
        "id": "Y8zCgsCtXB4n"
      },
      "source": [
        "dp[m][n] = max(1, 1 - dungeon[-1][-1])\n",
        "dp[m][j] = max(1, dp[m][j + 1] - dungeon[m][j])\n",
        "dp[i][n] = max(1, dp[i + 1][n] - dungeon[i][n])\n",
        "dp[i][j] = max(1, min(dp[i][j + 1], dp[i + 1][j]) - dungeon[i][j])"
      ],
      "execution_count": null,
      "outputs": []
    },
    {
      "cell_type": "code",
      "metadata": {
        "id": "IOhEIiA0W7tl"
      },
      "source": [
        "class Solution:\n",
        "    def calculateMinimumHP(self, dungeon: List[List[int]]) -> int:\n",
        "        m, n = len(dungeon), len(dungeon[0])\n",
        "        dp = [0] * n\n",
        "        dp[-1] = max(1, 1 - dungeon[-1][-1])\n",
        "        for j in range(n - 2, -1, -1):\n",
        "            dp[j] = max(1, dp[j + 1] - dungeon[-1][j])\n",
        "        for i in range(m - 2, -1, -1):\n",
        "            dp[-1] = max(1, dp[-1] - dungeon[i][-1])\n",
        "            for j in range(n - 2, -1, -1):\n",
        "                dp[j] = max(1, min(dp[j], dp[j + 1]) - dungeon[i][j])\n",
        "        return dp[0]"
      ],
      "execution_count": null,
      "outputs": []
    },
    {
      "cell_type": "markdown",
      "metadata": {
        "id": "g_LSTDWBXG4-"
      },
      "source": [
        "## **Largest Number**\n",
        "Given a list of non negative integers, arrange them such that they form the largest number."
      ]
    },
    {
      "cell_type": "code",
      "metadata": {
        "id": "P1LVJQSwXSVI"
      },
      "source": [
        "class Compare(str):\n",
        "    def __lt__(x, y):\n",
        "        return x + y < y + x\n",
        "\n",
        "class Solution:\n",
        "    def largestNumber(self, nums):\n",
        "        largest_num = ''.join(sorted(map(str, nums), key=Compare, reverse=True))\n",
        "        return '0' if largest_num[0] == '0' else largest_num"
      ],
      "execution_count": null,
      "outputs": []
    },
    {
      "cell_type": "markdown",
      "metadata": {
        "id": "ITk4mpPYXWZj"
      },
      "source": [
        "## **Repeated DNA Sequences**\n",
        "All DNA is composed of a series of nucleotides abbreviated as ‘A’, ‘C’, ‘G’, and ‘T’, for example: “ACGAATTCCG”. When studying DNA, it is sometimes useful to identify repeated sequences within the DNA.\n",
        "Write a function to find all the 10-letter-long sequences (substrings) that occur more than once in a DNA molecule."
      ]
    },
    {
      "cell_type": "code",
      "metadata": {
        "id": "DbBspxB7Xgmt"
      },
      "source": [
        "class Solution:\n",
        "    def findRepeatedDnaSequences(self, s: str) -> List[str]:\n",
        "        seen = set()\n",
        "        res = set()\n",
        "        for i in range(len(s) - 9):\n",
        "            tmp=s[i: i + 10]\n",
        "            if tmp in seen:\n",
        "                res.add(tmp)\n",
        "            else:\n",
        "                seen.add(tmp)\n",
        "        return res"
      ],
      "execution_count": null,
      "outputs": []
    },
    {
      "cell_type": "code",
      "metadata": {
        "id": "x9DP8YegXnQZ"
      },
      "source": [
        "class Solution:\n",
        "    def findRepeatedDnaSequences(self, s: str) -> List[str]:\n",
        "        L, n = 10, len(s)\n",
        "        if n <= L:\n",
        "            return []\n",
        "        a = 4\n",
        "        MOD = 2 ** 63 - 1\n",
        "        aL = pow(a, L, MOD)\n",
        "        to_int = {'A': 0, 'C': 1, 'G': 2, 'T': 3}\n",
        "        nums = [to_int[s[i]] for i in range(n)]\n",
        "        h = 0\n",
        "        for i in range(L):\n",
        "            h = h * a + nums[i]\n",
        "        seen, res = {h, }, set()\n",
        "        for i in range(1, n - L + 1):\n",
        "            h = (h * a - nums[i - 1] * aL + nums[i + L - 1]) % MOD\n",
        "            if h in seen:\n",
        "                res.add(s[i: i + L])\n",
        "            else:\n",
        "                seen.add(h)\n",
        "        return res"
      ],
      "execution_count": null,
      "outputs": []
    },
    {
      "cell_type": "markdown",
      "metadata": {
        "id": "CnhjGiF6XpcW"
      },
      "source": [
        "## **Rotate Array**\n",
        "Given an array, rotate the array to the right by k steps, where k is non-negative.\n",
        "Follow up:\n",
        "Try to come up as many solutions as you can, there are at least 3 different ways to solve this problem.\n",
        "Could you do it in-place with O(1) extra space?"
      ]
    },
    {
      "cell_type": "code",
      "metadata": {
        "id": "It_Gz6LkYWxR"
      },
      "source": [
        "class Solution:\n",
        "    def rotate(self, nums: List[int], k: int) -> None:\n",
        "        \"\"\" Do not return anything, modify nums in-place instead. \"\"\"\n",
        "        def rev(nums, l, r):\n",
        "            while l < r:\n",
        "                nums[l], nums[r] = nums[r], nums[l]\n",
        "                l += 1\n",
        "                r -= 1\n",
        "        n = len(nums)\n",
        "        k %= n\n",
        "        rev(nums, 0, n - 1)\n",
        "        rev(nums, 0, k - 1)\n",
        "        rev(nums, k, n - 1)"
      ],
      "execution_count": null,
      "outputs": []
    },
    {
      "cell_type": "markdown",
      "metadata": {
        "id": "dWoGTDdDYjpb"
      },
      "source": [
        "## **Reverse Bits**\n",
        "Reverse bits of a given 32 bits unsigned integer."
      ]
    },
    {
      "cell_type": "code",
      "metadata": {
        "id": "Hi42D4ZJYm5Y"
      },
      "source": [
        "lass Solution:\n",
        "    def reverseBits(self, n: int) -> int:\n",
        "        res, power = 0, 31\n",
        "        while n:\n",
        "            res += (n & 1) << power\n",
        "            n >>= 1\n",
        "            power -= 1\n",
        "        return res"
      ],
      "execution_count": null,
      "outputs": []
    },
    {
      "cell_type": "code",
      "metadata": {
        "id": "N21X3u3PYv1A"
      },
      "source": [
        "class Solution:\n",
        "    def reverseBits(self, n: int) -> int:\n",
        "        return int(bin(n)[2:].zfill(32)[::-1], 2)"
      ],
      "execution_count": null,
      "outputs": []
    },
    {
      "cell_type": "markdown",
      "metadata": {
        "id": "DVaaMiFxY5q0"
      },
      "source": [
        "## **House Robber**\n",
        "You are a professional robber planning to rob houses along a street. Each house has a certain amount of money stashed, the only constraint stopping you from robbing each of them is that adjacent houses have security system connected and it will automatically contact the police if two adjacent houses were broken into on the same night.\n",
        "Given a list of non-negative integers representing the amount of money of each house, determine the maximum amount of money you can rob tonight without alerting the police."
      ]
    },
    {
      "cell_type": "code",
      "metadata": {
        "id": "YeIPUG2LZEW7"
      },
      "source": [
        "class Solution:\n",
        "    def rob(self, nums: List[int]) -> int:\n",
        "        dp0 = dp1 = 0\n",
        "        for i in range(len(nums)):\n",
        "            dp0, dp1 = dp1, max(dp0 + nums[i], dp1)\n",
        "        return dp1"
      ],
      "execution_count": null,
      "outputs": []
    },
    {
      "cell_type": "markdown",
      "metadata": {
        "id": "fGCJql1ecDjE"
      },
      "source": [
        "## **House** **Robber** **II**\n",
        "You are a professional robber planning to rob houses along a street. Each house has a certain amount of money stashed. All houses at this place are arranged in a circle. That means the first house is the neighbor of the last one. Meanwhile, adjacent houses have a security system connected, and it will automatically contact the police if two adjacent houses were broken into on the same night.Given a list of non-negative integers nums representing the amount of money of each house, return the maximum amount of money you can rob tonight without alerting the police."
      ]
    },
    {
      "cell_type": "code",
      "metadata": {
        "id": "wxbN__WecTFD"
      },
      "source": [
        "class Solution:\n",
        "    def _rob(self, nums: List[int]) -> int:\n",
        "        dp0 = dp1 = 0\n",
        "        for i in range(len(nums)):\n",
        "            dp0, dp1 = dp1, max(dp0 + nums[i], dp1)\n",
        "        return dp1\n",
        "    def rob(self, nums: List[int]) -> int:\n",
        "        if len(nums) == 1:\n",
        "            return nums[0]\n",
        "        return max(self._rob(nums[:-1]), self._rob(nums[1:]))"
      ],
      "execution_count": null,
      "outputs": []
    },
    {
      "cell_type": "markdown",
      "metadata": {
        "id": "97XghKeYgL3m"
      },
      "source": [
        "## **House Robber III**\n",
        "The thief has found himself a new place for his thievery again. There is only one entrance to this area, called the “root.” Besides the root, each house has one and only one parent house. After a tour, the smart thief realized that “all houses in this place forms a binary tree”. It will automatically contact the police if two directly-linked houses were broken into on the same night.\n",
        "\n",
        "Determine the maximum amount of money the thief can rob tonight without alerting the police."
      ]
    },
    {
      "cell_type": "code",
      "metadata": {
        "id": "whT77RhNgU_C"
      },
      "source": [
        "class Solution:\n",
        "    def rob(self, root: TreeNode) -> int:\n",
        "        def dfs(root):\n",
        "            if not root:\n",
        "                return\n",
        "            dfs(root.left)\n",
        "            dfs(root.right)\n",
        "            f[root] = root.val + g[root.left] + g[root.right]\n",
        "            g[root] = max(f[root.left], g[root.left]) + max(f[root.right], g[root.right])\n",
        "\n",
        "        f, g = defaultdict(int), defaultdict(int)\n",
        "        dfs(root)\n",
        "        return max(f[root], g[root])"
      ],
      "execution_count": null,
      "outputs": []
    },
    {
      "cell_type": "code",
      "metadata": {
        "id": "gExFY0vngVtJ"
      },
      "source": [
        "class Solution:\n",
        "    def rob(self, root: TreeNode) -> int:\n",
        "        def dfs(root):\n",
        "            if not root:\n",
        "                return (0, 0)\n",
        "            left = dfs(root.left)\n",
        "            right = dfs(root.right)\n",
        "            f = root.val + left[1] + right[1]\n",
        "            g = max(left) + max(right)\n",
        "            return (f, g)\n",
        "\n",
        "        return max(dfs(root))"
      ],
      "execution_count": null,
      "outputs": []
    },
    {
      "cell_type": "markdown",
      "metadata": {
        "id": "hn5HIxiYZNFo"
      },
      "source": [
        "## **Number of Islands**\n",
        "Given a 2d grid map of ‘1’s (land) and ‘0’s (water), count the number of islands. An island is surrounded by water and is formed by connecting adjacent lands horizontally or vertically. You may assume all four edges of the grid are all surrounded by water."
      ]
    },
    {
      "cell_type": "code",
      "metadata": {
        "id": "Hj7Gfm8QZXPl"
      },
      "source": [
        "class Solution:\n",
        "    def numIslands(self, grid: List[List[str]]) -> int:\n",
        "        def dfs(i, j):\n",
        "            grid[i][j] = '0'\n",
        "            q = [(i, j)]\n",
        "            while q:\n",
        "                x, y = q.pop()\n",
        "                if x > 0 and grid[x - 1][y] == '1':\n",
        "                    grid[x - 1][y] = '0'\n",
        "                    q.append((x - 1, y))\n",
        "                if y > 0 and grid[x][y - 1] == '1':\n",
        "                    grid[x][y - 1] = '0'\n",
        "                    q.append((x, y - 1))\n",
        "                if x < m - 1 and grid[x + 1][y] == '1':\n",
        "                    grid[x + 1][y] = '0'\n",
        "                    q.append((x + 1, y))\n",
        "                if y < n - 1 and grid[x][y + 1] == '1':\n",
        "                    grid[x][y + 1] = '0'\n",
        "                    q.append((x, y + 1))\n",
        "\n",
        "        m = len(grid)\n",
        "        if m == 0:\n",
        "            return 0\n",
        "        n = len(grid[0])\n",
        "        res = 0\n",
        "        for i in range(m):\n",
        "            for j in range(n):\n",
        "                if grid[i][j] == '1':\n",
        "                    dfs(i, j)\n",
        "                    res += 1\n",
        "        return res"
      ],
      "execution_count": null,
      "outputs": []
    },
    {
      "cell_type": "markdown",
      "metadata": {
        "id": "glqdyx39ZZ3u"
      },
      "source": [
        "## **Bitwise AND of Numbers Range**\n",
        "Given a range [m, n] where 0 <= m <= n <= 2147483647, return the bitwise AND of all numbers in this range, inclusive."
      ]
    },
    {
      "cell_type": "code",
      "metadata": {
        "id": "wpLz5pwHZoU8"
      },
      "source": [
        "class Solution:\n",
        "    def rangeBitwiseAnd(self, m: int, n: int) -> int:\n",
        "        if len(bin(m)) != len(bin(n)):\n",
        "            return 0\n",
        "        res = 0\n",
        "        while (m != n):\n",
        "            m >>= 1\n",
        "            n >>= 1\n",
        "            res += 1\n",
        "        return m << res"
      ],
      "execution_count": null,
      "outputs": []
    },
    {
      "cell_type": "markdown",
      "metadata": {
        "id": "c6Qlw2CEZse2"
      },
      "source": [
        "## **Happy Number**\n",
        "Write an algorithm to determine if a number n is “happy”.\n",
        "A happy number is a number defined by the following process: Starting with any positive integer, replace the number by the sum of the squares of its digits, and repeat the process until the number equals 1 (where it will stay), or it loops endlessly in a cycle which does not include 1. Those numbers for which this process ends in 1 are happy numbers.\n",
        "Return True if n is a happy number, and False if not."
      ]
    },
    {
      "cell_type": "code",
      "metadata": {
        "id": "6g2LO5cGaAHB"
      },
      "source": [
        "class Solution:\n",
        "    def isHappy(self, n):\n",
        "        s = {n}\n",
        "        while n != 1:\n",
        "            tmp = sum([int(c) ** 2 for c in str(n)])\n",
        "            if tmp in s:\n",
        "                return False\n",
        "            s.add(tmp)\n",
        "            n = tmp\n",
        "        return True"
      ],
      "execution_count": null,
      "outputs": []
    },
    {
      "cell_type": "markdown",
      "metadata": {
        "id": "LjQRPRldaLqm"
      },
      "source": [
        "## **Remove Linked List Elements**\n",
        "Remove all elements from a linked list of integers that have value val."
      ]
    },
    {
      "cell_type": "code",
      "metadata": {
        "id": "VJZWn2QwaU94"
      },
      "source": [
        "class Solution:\n",
        "    def removeElements(self, head, val):\n",
        "        dummy = ListNode(0)\n",
        "        dummy.next = head\n",
        "        cur = dummy\n",
        "        while cur.next:\n",
        "            if cur.next.val == val:\n",
        "                cur.next = cur.next.next\n",
        "            else:\n",
        "                cur = cur.next\n",
        "        return dummy.next"
      ],
      "execution_count": null,
      "outputs": []
    },
    {
      "cell_type": "markdown",
      "metadata": {
        "id": "ak-rD9RBaceg"
      },
      "source": [
        "## **Course Schedule**\n",
        "There are a total of numCourses courses you have to take, labeled from 0 to numCourses-1.\n",
        "Some courses may have prerequisites, for example to take course 0 you have to first take course 1, which is expressed as a pair: [0,1]\n",
        "Given the total number of courses and a list of prerequisite pairs, is it possible for you to finish all courses?"
      ]
    },
    {
      "cell_type": "code",
      "metadata": {
        "id": "bF7QuX8Xao7B"
      },
      "source": [
        "class Solution:\n",
        "    def canFinish(self, numCourses, prerequisites):\n",
        "        inbound = [0] * numCourses\n",
        "        edge = defaultdict(list)\n",
        "        for x, y in prerequisites:\n",
        "            inbound[x] += 1\n",
        "            edge[y].append(x)\n",
        "        q = [i for i in range(numCourses) if inbound[i] == 0]\n",
        "        visited = 0\n",
        "        while q:\n",
        "            cur = q.pop()\n",
        "            visited += 1\n",
        "            for n in edge[cur]:\n",
        "                inbound[n] -= 1\n",
        "                if inbound[n] == 0:\n",
        "                    q.append(n)\n",
        "        return  visited == numCourses"
      ],
      "execution_count": null,
      "outputs": []
    },
    {
      "cell_type": "markdown",
      "metadata": {
        "id": "T3OEyPFxbEIy"
      },
      "source": [
        "## **Add and Search Word - Data structure design**\n",
        "Design a data structure that supports the following two operations:\n",
        "void addWord(word)\n",
        "bool search(word)\n",
        "search(word) can search a literal word or a regular expression string containing only letters a-z or .. A . means it can represent any one letter."
      ]
    },
    {
      "cell_type": "code",
      "metadata": {
        "id": "tdJUXZqCbQaT"
      },
      "source": [
        "class WordDictionary:\n",
        "\n",
        "    def __init__(self):\n",
        "        \"\"\" Initialize your data structure here. \"\"\"\n",
        "        self.trie = {}\n",
        "\n",
        "    def addWord(self, word: str) -> None:\n",
        "        \"\"\" Adds a word into the data structure. \"\"\"\n",
        "        cur = self.trie\n",
        "        for c in word:\n",
        "            if c not in cur:\n",
        "                cur[c] = {}\n",
        "            cur = cur[c]\n",
        "        cur['#'] = True\n",
        "\n",
        "    def search(self, word: str) -> bool:\n",
        "        \"\"\" Returns if the word is in the data structure. A word could contain the dot character '.' to represent any one letter. \"\"\"\n",
        "        return self.dfs(self.trie, word, 0)\n",
        "\n",
        "    def dfs(self, node, word, i):\n",
        "        if i == len(word):\n",
        "            return '#' in node\n",
        "        if word[i] == '.':\n",
        "            for child in node:\n",
        "                if child != '#' and self.dfs(node[child], word, i + 1):\n",
        "                    return True\n",
        "            return False\n",
        "\n",
        "        if word[i] not in node:\n",
        "            return False\n",
        "        return self.dfs(node[word[i]], word, i + 1)"
      ],
      "execution_count": null,
      "outputs": []
    },
    {
      "cell_type": "code",
      "metadata": {
        "id": "cddATDWRbXY5"
      },
      "source": [
        "class WordDictionary:\n",
        "    def __init__(self):\n",
        "        \"\"\" Initialize your data structure here. \"\"\"\n",
        "        self.dic = defaultdict(set)\n",
        "    def addWord(self, word: str) -> None:\n",
        "        \"\"\" Adds a word into the data structure. \"\"\"\n",
        "        self.dic[len(word)].add(word)\n",
        "    def search(self, word: str) -> bool:\n",
        "        \"\"\" Returns if the word is in the data structure. A word could contain the dot character '.' to represent any one letter. \"\"\"\n",
        "        if '.' not in word:\n",
        "            return word in self.dic[len(word)]\n",
        "        for v in self.dic[len(word)]:\n",
        "            for i, ch in enumerate(word):\n",
        "                if ch != v[i] and ch != '.':\n",
        "                    break\n",
        "            else:\n",
        "                return True\n",
        "        return False\n",
        "# Your WordDictionary object will be instantiated and called as such: # obj = WordDictionary() # obj.addWord(word) # param_2 = obj.search(word)"
      ],
      "execution_count": null,
      "outputs": []
    },
    {
      "cell_type": "markdown",
      "metadata": {
        "id": "CZQj4_VeGc3K"
      },
      "source": [
        "## **Search a 2D Matrix**\n",
        "Write an efficient algorithm that searches for a value in an m x n matrix. This matrix has the following properties:\n",
        "Integers in each row are sorted from left to right.\n",
        "The first integer of each row is greater than the last integer of the previous row.\n"
      ]
    },
    {
      "cell_type": "code",
      "metadata": {
        "id": "Idtk5DIQGdck"
      },
      "source": [
        "class Solution:\n",
        "    def searchMatrix(self, matrix, target):\n",
        "        m = len(matrix)\n",
        "        if m == 0:\n",
        "            return False\n",
        "        n = len(matrix[0])\n",
        "        if n == 0:\n",
        "            return False\n",
        "        if matrix[0][0] > target or matrix[m - 1][n - 1] < target:\n",
        "            return False\n",
        "        tmp = []\n",
        "        for i in range(m):\n",
        "            tmp.append(matrix[i][0])\n",
        "        ind = bisect.bisect_left(tmp, target)\n",
        "        if ind == len(tmp):\n",
        "            ind = ind - 1\n",
        "        if target < matrix[ind][0]:\n",
        "            ind = ind - 1\n",
        "        ind2 = bisect.bisect_left(matrix[ind], target)\n",
        "        if ind2 == n:\n",
        "            return False\n",
        "        return matrix[ind][ind2] == target"
      ],
      "execution_count": null,
      "outputs": []
    },
    {
      "cell_type": "markdown",
      "metadata": {
        "id": "K-3-6dH5FqWe"
      },
      "source": [
        "## **Edit Distance**\n",
        "Given two words word1 and word2, find the minimum number of operations required to convert word1 to word2.\n",
        "\n",
        "You have the following 3 operations permitted on a word:\n",
        "Insert a character\n",
        "Delete a character\n",
        "Replace a character"
      ]
    },
    {
      "cell_type": "code",
      "metadata": {
        "id": "UVcnoi7sF442"
      },
      "source": [
        "dp[i][0] = i\n",
        "dp[0][i] = i\n",
        "dp[i][j] = dp[i - 1][j - 1] if word2[i - 1] == word1[j - 1]\n",
        "         = min(dp[i - 1][j - 1], dp[i - 1][j], dp[i][j - 1]) + 1 else"
      ],
      "execution_count": null,
      "outputs": []
    },
    {
      "cell_type": "code",
      "metadata": {
        "id": "T6nG2tOEF1Al"
      },
      "source": [
        "class Solution:\n",
        "    def minDistance(self, word1: str, word2: str) -> int:\n",
        "        l1, l2 = len(word1), len(word2)\n",
        "        dp1 = [i for i in range(l1 + 1)]\n",
        "        dp2 = [0] * (l1 + 1)\n",
        "        for i in range(1, l2 + 1):\n",
        "            dp2[0] = i\n",
        "            for j in range(1, l1 + 1):\n",
        "                if word2[i - 1] == word1[j - 1]:\n",
        "                    dp2[j] = dp1[j - 1]\n",
        "                else:\n",
        "                    dp2[j] = min(dp1[j - 1], dp2[j - 1], dp1[j]) + 1\n",
        "            dp1 = dp2[:]\n",
        "        return dp1[-1]"
      ],
      "execution_count": null,
      "outputs": []
    },
    {
      "cell_type": "markdown",
      "metadata": {
        "id": "Ow5UBgTy-Q-u"
      },
      "source": [
        "## **Spiral Matrix II**\n",
        "Given a positive integer n, generate an n x n matrix filled with elements from 1 to n2 in spiral order."
      ]
    },
    {
      "cell_type": "code",
      "metadata": {
        "id": "wa-DA9kj-UFG"
      },
      "source": [
        "class Solution:\n",
        "    def generateMatrix(self, n):\n",
        "        res = [[0] * n for _ in range(n)]\n",
        "        directions = [(0, 1), (1, 0), (0, -1), (-1, 0)]\n",
        "        curx = cury = curd = 0\n",
        "        for i in range(1, n * n + 1):\n",
        "            res[curx][cury] = i\n",
        "            newx, newy = curx + directions[curd][0], cury + directions[curd][1]\n",
        "            if newx < 0 or newx >= n or newy < 0 or newy >= n or res[newx][newy]:\n",
        "                curd = (curd + 1) % 4\n",
        "            curx += directions[curd][0]\n",
        "            cury += directions[curd][1]\n",
        "        return res"
      ],
      "execution_count": null,
      "outputs": []
    },
    {
      "cell_type": "markdown",
      "metadata": {
        "id": "l45vOCQu-R8y"
      },
      "source": [
        "## **Permutation Sequence**\n",
        "The set [1,2,3,...,n] contains a total of n! unique permutations. By listing and labeling all of the permutations in order, we get the following sequence for n = 3:\n",
        "“123”\n",
        "“132”\n",
        "“213”\n",
        "“231”\n",
        "“312”\n",
        "“321” Given n and k, return the kth permutation sequence.\n",
        "Note:\n",
        "Given n will be between 1 and 9 inclusive.\n",
        "Given k will be between 1 and n! inclusive."
      ]
    },
    {
      "cell_type": "code",
      "metadata": {
        "id": "pJNXFEDi-Uke"
      },
      "source": [
        "class Solution:\n",
        "    def getPermutation(self, n, k):\n",
        "        f, nums = [1], [0]\n",
        "        for i in range(1, n + 1):\n",
        "            f.append(f[i - 1] * i)\n",
        "            nums.append(i)\n",
        "        res = []\n",
        "        for i in range(n - 1, -1, -1):\n",
        "            idx = math.ceil(k / f[i])\n",
        "            res.append(nums.pop(idx))\n",
        "            k -= (idx - 1) * f[i]\n",
        "        return ''.join(map(str, res))"
      ],
      "execution_count": null,
      "outputs": []
    },
    {
      "cell_type": "markdown",
      "metadata": {
        "id": "qMkBkaYO-SH6"
      },
      "source": [
        "## **Rotate List**\n",
        "Given a linked list, rotate the list to the right by k places, where k is non-negative."
      ]
    },
    {
      "cell_type": "code",
      "metadata": {
        "id": "SgI4b77T-VEl"
      },
      "source": [
        "class Solution:\n",
        "    def rotateRight(self, head, k):\n",
        "        if not head or not head.next:\n",
        "            return head\n",
        "\n",
        "        tail = head\n",
        "        n = 1\n",
        "        while head.next :\n",
        "            head = head.next\n",
        "            n += 1\n",
        "        head.next = tail\n",
        "        head = head.next\n",
        "\n",
        "        for i in range(n - k % n - 1):\n",
        "            head = head.next\n",
        "        res = head.next\n",
        "        head.next = None\n",
        "        return res"
      ],
      "execution_count": null,
      "outputs": []
    },
    {
      "cell_type": "markdown",
      "metadata": {
        "id": "QvBHoEIR-SS5"
      },
      "source": [
        "## **Unique Paths**\n",
        "A robot is located at the top-left corner of a m x n grid (marked ‘Start’ in the diagram below). The robot can only move either down or right at any point in time. The robot is trying to reach the bottom-right corner of the grid (marked ‘Finish’ in the diagram below). How many possible unique paths are there?"
      ]
    },
    {
      "cell_type": "code",
      "metadata": {
        "id": "w_jw7XRc-VlP"
      },
      "source": [
        "class Solution:\n",
        "    def uniquePaths(self, m: int, n: int) -> int:\n",
        "        dp = [1] * n\n",
        "        for i in range(1, m):\n",
        "            for j in range(1, n):\n",
        "                dp[j] += dp[j - 1]\n",
        "        return dp[-1]"
      ],
      "execution_count": null,
      "outputs": []
    },
    {
      "cell_type": "markdown",
      "metadata": {
        "id": "4c-PKUtS-Scp"
      },
      "source": [
        "## **Minimum Path Sum**\n",
        "Given a m x n grid filled with non-negative numbers, find a path from top left to bottom right which minimizes the sum of all numbers along its path.\n",
        "Note: You can only move either down or right at any point in time."
      ]
    },
    {
      "cell_type": "code",
      "metadata": {
        "id": "tckVlK5v-WFV"
      },
      "source": [
        "class Solution:\n",
        "    def minPathSum(self, grid):\n",
        "        m, n = len(grid), len(grid[0])\n",
        "        for i in range(1, n):\n",
        "            grid[0][i] += grid[0][i - 1]\n",
        "        for i in range(1, m):\n",
        "            grid[i][0] += grid[i - 1][0]\n",
        "            for j in range(1, n):\n",
        "                grid[i][j] += min(grid[i - 1][j], grid[i][j - 1])\n",
        "        return grid[m - 1][n - 1]"
      ],
      "execution_count": null,
      "outputs": []
    },
    {
      "cell_type": "markdown",
      "metadata": {
        "id": "MDeIzyVX-SlQ"
      },
      "source": [
        "## **Plus One**\n",
        "Given a non-empty array of digits representing a non-negative integer, plus one to the integer.The digits are stored such that the most significant digit is at the head of the list, and each element in the array contain a single digit.\n",
        "You may assume the integer does not contain any leading zero, except the number 0 itself"
      ]
    },
    {
      "cell_type": "code",
      "metadata": {
        "id": "OKlZ7ZLa-WtF"
      },
      "source": [
        "lass Solution:\n",
        "    def plusOne(self, digits: List[int]) -> List[int]:\n",
        "        for i in range(len(digits)-1, -1, -1):\n",
        "            if digits[i] == 9:\n",
        "                digits[i] = 0\n",
        "            else:\n",
        "                digits[i] += 1\n",
        "                return digits\n",
        "        return [1] + digits"
      ],
      "execution_count": null,
      "outputs": []
    },
    {
      "cell_type": "markdown",
      "metadata": {
        "id": "dBT8H49x-Sqt"
      },
      "source": [
        "## **Add Binary**\n",
        "Given two binary strings, return their sum (also a binary string).The input strings are both non-empty and contains only characters 1 or 0."
      ]
    },
    {
      "cell_type": "code",
      "metadata": {
        "id": "UoSJ3h5m-XMG"
      },
      "source": [
        "class Solution:\n",
        "    def addBinary(self, a: str, b: str) -> str:\n",
        "        def add(x, y, carry):\n",
        "            s = x + y + carry\n",
        "            return (s // 2, s % 2)\n",
        "        ml = max(len(a), len(b))\n",
        "        res = ''\n",
        "        carry = 0\n",
        "        a = a.rjust(ml, '0')\n",
        "        b = b.rjust(ml, '0')\n",
        "        for i in range(ml-1, -1, -1):\n",
        "            carry, s = add(int(a[i]), int(b[i]), int(carry))\n",
        "            res = str(s) + res\n",
        "        return '1' + res if carry else res"
      ],
      "execution_count": null,
      "outputs": []
    },
    {
      "cell_type": "markdown",
      "metadata": {
        "id": "ucIRNvTF-S0B"
      },
      "source": [
        "## **Climbing Stairs**\n",
        "You are climbing a stair case. It takes n steps to reach to the top. Each time you can either climb 1 or 2 steps. In how many distinct ways can you climb to the top?"
      ]
    },
    {
      "cell_type": "code",
      "metadata": {
        "id": "sohkIXvg-Xw2"
      },
      "source": [
        "class Solution:\n",
        "    def climbStairs(self, n: int) -> int:\n",
        "        dp1, dp2 = 1, 2\n",
        "        for i in range(n - 1):\n",
        "            dp1, dp2 = dp2, dp1 + dp2\n",
        "        return dp1"
      ],
      "execution_count": null,
      "outputs": []
    },
    {
      "cell_type": "markdown",
      "metadata": {
        "id": "CK1cAjdz9xzV"
      },
      "source": [
        "## **Length of Last Word**\n",
        "Given a string s consists of upper/lower-case alphabets and empty space characters ‘ ‘, return the length of last word (last word means the last appearing word if we loop from left to right) in the string.\n",
        "If the last word does not exist, return 0.Note: A word is defined as a maximal substring consisting of non-space characters only."
      ]
    },
    {
      "cell_type": "code",
      "metadata": {
        "id": "SNrMs1Z797QG"
      },
      "source": [
        "class Solution:\n",
        "    def lengthOfLastWord(self, s):\n",
        "        s = s.strip()\n",
        "        return len(s.split()[-1]) if s else 0"
      ],
      "execution_count": null,
      "outputs": []
    },
    {
      "cell_type": "markdown",
      "metadata": {
        "id": "sUlLb_Qa9YF-"
      },
      "source": [
        "## **Insert Interval**\n",
        "Given a set of non-overlapping intervals, insert a new interval into the intervals (merge if necessary). You may assume that the intervals were initially sorted according to their start times."
      ]
    },
    {
      "cell_type": "code",
      "metadata": {
        "id": "qtyNjU6b9f4N"
      },
      "source": [
        "class Solution:\n",
        "    def insert(self, intervals, newInterval):\n",
        "        n = len(intervals)\n",
        "        if n == 0:\n",
        "            return [newInterval]\n",
        "        res = []\n",
        "        i = 0\n",
        "        while i < n and intervals[i][1] < newInterval[0]:\n",
        "            res.append(intervals[i])\n",
        "            i += 1\n",
        "        l, r = newInterval\n",
        "        while i < n and intervals[i][0] <= newInterval[1]:\n",
        "            l = min(l, intervals[i][0])\n",
        "            r = max(r, intervals[i][1])\n",
        "            i += 1\n",
        "        res.append([l, r])\n",
        "        res.extend(intervals[i:])\n",
        "        return res"
      ],
      "execution_count": null,
      "outputs": []
    },
    {
      "cell_type": "markdown",
      "metadata": {
        "id": "BwLa3DvV75MO"
      },
      "source": [
        "##**Merge Intervals**\n",
        "Given an array of intervals where intervals[i] = [starti, endi], merge all overlapping intervals, and return an array of the non-overlapping intervals that cover all the intervals in the input."
      ]
    },
    {
      "cell_type": "code",
      "metadata": {
        "id": "OrXR-oKu8euI"
      },
      "source": [
        "class Solution:\n",
        "    def merge(self, intervals):\n",
        "        intervals.sort(key=lambda x: x[0])\n",
        "        res = [intervals[0]]\n",
        "        for interval in intervals[1:]:\n",
        "            if res[-1][1] >= interval[0]:\n",
        "                res[-1][1] = max(interval[1], res[-1][1])\n",
        "            else:\n",
        "                res.append(interval)\n",
        "        return res"
      ],
      "execution_count": null,
      "outputs": []
    },
    {
      "cell_type": "markdown",
      "metadata": {
        "id": "LKfMpAKH7Y5W"
      },
      "source": [
        "## **Jump Game**\n",
        "Given an array of non-negative integers, you are initially positioned at the first index of the array.Each element in the array represents your maximum jump length at that position.Determine if you are able to reach the last index."
      ]
    },
    {
      "cell_type": "code",
      "metadata": {
        "id": "DuvI9YH276RN"
      },
      "source": [
        "class Solution:\n",
        "    def canJump(self, nums):\n",
        "        reach = 0\n",
        "        for i, n in enumerate(nums):\n",
        "            if i > reach:\n",
        "                return False\n",
        "            reach = max(reach, i + n)\n",
        "        return True"
      ],
      "execution_count": null,
      "outputs": []
    },
    {
      "cell_type": "markdown",
      "metadata": {
        "id": "gzrWptAS7A9x"
      },
      "source": [
        "## **Maximum Subarray**\n",
        "Given an integer array nums, find the contiguous subarray (containing at least one number) which has the largest sum and return its sum."
      ]
    },
    {
      "cell_type": "code",
      "metadata": {
        "id": "_YR4PRDk7I83"
      },
      "source": [
        "class Solution:\n",
        "    def maxSubArray(self, nums):\n",
        "        res = cur = nums[0]\n",
        "        for n in nums[1:]:\n",
        "            cur = max(cur + n, n)\n",
        "            res = max(res, cur)\n",
        "        return res"
      ],
      "execution_count": null,
      "outputs": []
    },
    {
      "cell_type": "markdown",
      "metadata": {
        "id": "FHVa_yq56zXA"
      },
      "source": [
        "Find the three elements that sum to zero from a set of n real numbers"
      ]
    },
    {
      "cell_type": "code",
      "metadata": {
        "id": "zhtMZNyd6yAE"
      },
      "source": [
        "class py_solution:\n",
        " def threeSum(self, nums):\n",
        "        nums, result, i = sorted(nums), [], 0\n",
        "        while i < len(nums) - 2:\n",
        "            j, k = i + 1, len(nums) - 1\n",
        "            while j < k:\n",
        "                if nums[i] + nums[j] + nums[k] < 0:\n",
        "                    j += 1\n",
        "                elif nums[i] + nums[j] + nums[k] > 0:\n",
        "                    k -= 1\n",
        "                else:\n",
        "                    result.append([nums[i], nums[j], nums[k]])\n",
        "                    j, k = j + 1, k - 1\n",
        "                    while j < k and nums[j] == nums[j - 1]:\n",
        "                        j += 1\n",
        "                    while j < k and nums[k] == nums[k + 1]:\n",
        "                        k -= 1\n",
        "            i += 1\n",
        "            while i < len(nums) - 2 and nums[i] == nums[i - 1]:\n",
        "                i += 1\n",
        "        return result\n",
        "\n",
        "print(py_solution().threeSum([-25, -10, -7, -3, 2, 4, 8, 10]))"
      ],
      "execution_count": null,
      "outputs": []
    },
    {
      "cell_type": "markdown",
      "metadata": {
        "id": "2joJ4ePp5TxD"
      },
      "source": [
        "## **50 Pow(x, n)**\n",
        "Implement pow(x, n), which calculates x raised to the power n (x^n)."
      ]
    },
    {
      "cell_type": "code",
      "metadata": {
        "id": "wCyhixL95hE7"
      },
      "source": [
        "class Solution:\n",
        "    def myPow(self, x, n):\n",
        "        if n < 0:\n",
        "            x = 1 / x\n",
        "            n = -n\n",
        "        res = 1\n",
        "        while n > 0:\n",
        "            if n % 2:\n",
        "                res *= x\n",
        "            n //= 2\n",
        "            x *= x\n",
        "        return res"
      ],
      "execution_count": null,
      "outputs": []
    },
    {
      "cell_type": "code",
      "metadata": {
        "colab": {
          "base_uri": "https://localhost:8080/"
        },
        "id": "WzYYdsb16X08",
        "outputId": "37adac06-b544-4d27-f60b-d19f577fdd28"
      },
      "source": [
        "#Write a Python program to implement pow(x, n)\n",
        "class py_solution:\n",
        "   def pow(self, x, n):\n",
        "        if x==0 or x==1 or n==1:\n",
        "            return x\n",
        "        if x==-1:\n",
        "            if n%2 ==0:\n",
        "                return 1\n",
        "            else:\n",
        "                return -1\n",
        "        if n==0:\n",
        "            return 1\n",
        "        if n<0:\n",
        "            return 1/self.pow(x,-n)\n",
        "        val = self.pow(x,n//2)\n",
        "        if n%2 ==0:\n",
        "            return val*val\n",
        "        return val*val*x\n",
        "print(py_solution().pow(2, -3));\n",
        "print(py_solution().pow(3, 5));\n",
        "print(py_solution().pow(100, 0));"
      ],
      "execution_count": null,
      "outputs": [
        {
          "output_type": "stream",
          "text": [
            "0.125\n",
            "243\n",
            "1\n"
          ],
          "name": "stdout"
        }
      ]
    },
    {
      "cell_type": "markdown",
      "metadata": {
        "id": "B2Rb-FEk5BXl"
      },
      "source": [
        "## **Group Anagrams**\n",
        "Given an array of strings, group anagrams together."
      ]
    },
    {
      "cell_type": "code",
      "metadata": {
        "id": "etIuPDCB5HbQ"
      },
      "source": [
        "from collections import defaultdict\n",
        "class Solution:\n",
        "    def groupAnagrams(self, strs):\n",
        "        dic = defaultdict(list)\n",
        "        for s in strs:\n",
        "            dic[''.join(sorted(s))].append(s)\n",
        "        return dic.values()"
      ],
      "execution_count": null,
      "outputs": []
    },
    {
      "cell_type": "markdown",
      "metadata": {
        "id": "ZCK_CT4a4PJI"
      },
      "source": [
        "## **First Missing Positive**\n",
        "Given an unsorted integer array, find the smallest missing positive integer."
      ]
    },
    {
      "cell_type": "code",
      "metadata": {
        "id": "b3_G3Y4B4cY3"
      },
      "source": [
        "class Solution:\n",
        "    def firstMissingPositive(self, nums):\n",
        "        nums.append(0)\n",
        "        l = len(nums)\n",
        "        if l == 1:\n",
        "            return 1\n",
        "        for i in range(l):\n",
        "            if nums[i] < 0 or nums[i] >= l:\n",
        "                nums[i] = 0\n",
        "        for i in range(l):\n",
        "            nums[nums[i] % l] += l\n",
        "        for i in range(1, l):\n",
        "            if nums[i] < l:\n",
        "                return i\n",
        "        return l"
      ],
      "execution_count": null,
      "outputs": []
    },
    {
      "cell_type": "markdown",
      "metadata": {
        "id": "cqWAClbW3dxo"
      },
      "source": [
        "## **Combination Sum**\n",
        "Given an array of distinct integers candidates and a target integer target, return a list of all unique combinations of candidates where the chosen numbers sum to target. You may return the combinations in any order.The same number may be chosen from candidates an unlimited number of times. Two combinations are unique if the frequency of at least one of the chosen numbers is differen"
      ]
    },
    {
      "cell_type": "code",
      "metadata": {
        "id": "ySKUlJCU3fC3"
      },
      "source": [
        "class Solution:\n",
        "    def combinationSum(self, candidates, target):\n",
        "        def dfs(cur, path):\n",
        "            if cur == 0:\n",
        "                res.append(path)\n",
        "            for n in candidates:\n",
        "                if n > cur:\n",
        "                    break\n",
        "                if path and n < path[-1]:\n",
        "                    continue\n",
        "                dfs(cur - n, path + [n])\n",
        "\n",
        "        res = []\n",
        "        candidates.sort()\n",
        "        dfs(target, [])\n",
        "        return res"
      ],
      "execution_count": null,
      "outputs": []
    },
    {
      "cell_type": "markdown",
      "metadata": {
        "id": "ZGyqggDec3Fd"
      },
      "source": [
        "## **Combination Sum III**\n",
        "Find all possible combinations of k numbers that add up to a number n, given that only numbers from 1 to 9 can be used and each combination should be a unique set of numbers.\n",
        "Note:\n",
        "All numbers will be positive integers.\n",
        "The solution set must not contain duplicate combinations."
      ]
    },
    {
      "cell_type": "code",
      "metadata": {
        "id": "HTBNZRRAdFpt"
      },
      "source": [
        "class Solution:\n",
        "    def combinationSum3(self, k: int, n: int) -> List[List[int]]:\n",
        "        def dfs(cur, k, n, tmp):\n",
        "            if k == 0:\n",
        "                if n == 0:\n",
        "                    res.append(tmp[:])\n",
        "                return\n",
        "            for i in range(cur, 10):\n",
        "                if i > n:\n",
        "                    return\n",
        "                tmp.append(i)\n",
        "                dfs(i + 1, k - 1, n - i, tmp)\n",
        "                tmp.pop()\n",
        "        res = []\n",
        "        dfs(1, k, n, [])\n",
        "        return res"
      ],
      "execution_count": null,
      "outputs": []
    },
    {
      "cell_type": "code",
      "metadata": {
        "id": "Eobptrkec9eI"
      },
      "source": [],
      "execution_count": null,
      "outputs": []
    },
    {
      "cell_type": "markdown",
      "metadata": {
        "id": "bEhQjytn21kW"
      },
      "source": [
        "## **Search Insert Position**\n",
        "\n",
        "Given a sorted array and a target value, return the index if the target is found. If not, return the index where it would be if it were inserted in order.\n",
        "You may assume no duplicates in the array"
      ]
    },
    {
      "cell_type": "code",
      "metadata": {
        "id": "HIXxDICd3HP2"
      },
      "source": [
        "class Solution:\n",
        "    def searchInsert(self, nums, target):\n",
        "        # return bisect.bisect_left(nums, target)\n",
        "        l, r = 0, len(nums) - 1\n",
        "        while l <= r:\n",
        "            m = (l + r) // 2\n",
        "            if nums[m] == target:\n",
        "                return m\n",
        "            if nums[m] < target:\n",
        "                l = m + 1\n",
        "            else:\n",
        "                r = m - 1\n",
        "        return l"
      ],
      "execution_count": null,
      "outputs": []
    },
    {
      "cell_type": "markdown",
      "metadata": {
        "id": "G3JcTiUK2Hag"
      },
      "source": [
        "## **Search in Rotated Sorted Array**\n",
        "Suppose an array sorted in ascending order is rotated at some pivot unknown to you beforehand. (i.e., [0,1,2,4,5,6,7] might become [4,5,6,7,0,1,2]).\n",
        "You are given a target value to search. If found in the array return its index, otherwise return -1.You may assume no duplicate exists in the array.Your algorithm’s runtime complexity must be in the order of O(log n)."
      ]
    },
    {
      "cell_type": "code",
      "metadata": {
        "id": "pbAvRM7M2XZe"
      },
      "source": [
        "class Solution:\n",
        "    def search(self, num, target):\n",
        "        l, r = 0, len(nums) - 1\n",
        "        while l <= r:\n",
        "            m = (l + r) // 2\n",
        "            if nums[m] == target:\n",
        "                return m\n",
        "            elif nums[l] <= nums[m] < target or \\\n",
        "                target < nums[l] <= nums[m] or \\\n",
        "                nums[m] < target < nums[l]:\n",
        "                l = m + 1\n",
        "            else:\n",
        "                r = m - 1\n",
        "        return -1"
      ],
      "execution_count": null,
      "outputs": []
    },
    {
      "cell_type": "markdown",
      "metadata": {
        "id": "N5RdnuQR1rdW"
      },
      "source": [
        "##**Swap Nodes in Pairs**\n",
        "Given a linked list, swap every two adjacent nodes and return its head.You may not modify the values in the list’s nodes. Only nodes itself may be changed."
      ]
    },
    {
      "cell_type": "code",
      "metadata": {
        "id": "X7R65Gya1sIu"
      },
      "source": [
        "class Solution:\n",
        "    def swapPairs(self, head: ListNode) -> ListNode:\n",
        "        dummy = ListNode(0)\n",
        "        res = dummy\n",
        "        dummy.next = head\n",
        "        while dummy.next and dummy.next.next:\n",
        "            first = dummy.next\n",
        "            second = dummy.next.next\n",
        "            first.next = second.next\n",
        "            second.next = first\n",
        "            dummy.next = second\n",
        "            dummy = dummy.next.next\n",
        "        return res.next"
      ],
      "execution_count": null,
      "outputs": []
    },
    {
      "cell_type": "markdown",
      "metadata": {
        "id": "V0HK7MLT1QKA"
      },
      "source": [
        "## **Merge two sorted linked lists**\n",
        " and return it as a sorted list. The list should be made by splicing together the nodes of the first two lists."
      ]
    },
    {
      "cell_type": "code",
      "metadata": {
        "id": "_ta2ttbD1bML"
      },
      "source": [
        "class Solution:\n",
        "    def mergeTwoLists(self, l1, l2):\n",
        "        dummy = ListNode(0)\n",
        "        pre = dummy\n",
        "        while l1 and l2:\n",
        "            if l1.val < l2.val:\n",
        "                pre.next = l1\n",
        "                l1 = l1.next\n",
        "            else:\n",
        "                pre.next = l2\n",
        "                l2 = l2.next\n",
        "            pre = pre.next\n",
        "        pre.next = l1 if l1 is not None else l2\n",
        "        return dummy.next"
      ],
      "execution_count": null,
      "outputs": []
    },
    {
      "cell_type": "markdown",
      "metadata": {
        "id": "vra_pI1_0jyC"
      },
      "source": [
        "## **Three Sum**\n",
        "Given an array nums of n integers, are there elements a, b, c in nums such that a + b + c = 0? Find all unique triplets in the array which gives the sum of zero"
      ]
    },
    {
      "cell_type": "code",
      "metadata": {
        "id": "iGxWAl2j0z13"
      },
      "source": [
        "class Solution:\n",
        "    def threeSum(self, nums):\n",
        "        n = len(nums)\n",
        "        nums.sort()\n",
        "        res = []\n",
        "\n",
        "        for i in range(n - 2):\n",
        "            if nums[i] > 0:\n",
        "                break\n",
        "            if i > 0 and nums[i] == nums[i - 1]:\n",
        "                continue\n",
        "            j, k = i + 1, n - 1\n",
        "            while j < k:\n",
        "                cur = nums[i] + nums[j] + nums[k]\n",
        "                if cur < 0:\n",
        "                    j += 1\n",
        "                elif cur > 0:\n",
        "                    k -= 1\n",
        "                else:\n",
        "                    res.append([nums[i], nums[j], nums[k]])\n",
        "                    while j + 1 < k and nums[j] == nums[j + 1]:\n",
        "                        j += 1\n",
        "                    while k - 1 > j and nums[k] == nums[k - 1]:\n",
        "                        k -= 1\n",
        "                    j += 1\n",
        "                    k -= 1\n",
        "        return res"
      ],
      "execution_count": null,
      "outputs": []
    },
    {
      "cell_type": "markdown",
      "metadata": {
        "id": "QCc7HXLz0PkY"
      },
      "source": [
        "##**Longest Substring Without Repeating Characters**"
      ]
    },
    {
      "cell_type": "code",
      "metadata": {
        "id": "4rmt_SaL0Vvg"
      },
      "source": [
        "class Solution:\n",
        "    def lengthOfLongestSubstring(self, s):\n",
        "        tmp = {}\n",
        "        start = res = 0\n",
        "        for i, c in enumerate(s):\n",
        "            if c in tmp and start <= tmp[c]:\n",
        "                start = tmp[c] + 1\n",
        "            else:\n",
        "                res = max(res, i - start + 1)\n",
        "            tmp[c] = i\n",
        "        return res"
      ],
      "execution_count": null,
      "outputs": []
    },
    {
      "cell_type": "markdown",
      "metadata": {
        "id": "UnQVl9s3zuLJ"
      },
      "source": [
        "##**Remove Duplicates from Sorted Array II** - 80 leetcode"
      ]
    },
    {
      "cell_type": "code",
      "metadata": {
        "id": "K30f-rumz90X"
      },
      "source": [
        "class Solution:\n",
        "    def removeDuplicates(self, nums):\n",
        "        i = 0\n",
        "        for n in nums:\n",
        "            if i < 2 or n != nums[i - 2]:\n",
        "                nums[i] = n\n",
        "                i += 1\n",
        "        return i"
      ],
      "execution_count": null,
      "outputs": []
    },
    {
      "cell_type": "markdown",
      "metadata": {
        "id": "A7WTNu2QX4Nh"
      },
      "source": [
        "##**Reverse Words in a Sentence**"
      ]
    },
    {
      "cell_type": "code",
      "metadata": {
        "id": "lC7BV_-UX5IL"
      },
      "source": [
        "class Solution:\n",
        "    def reverseWords(self, s: str) -> str:\n",
        "        return \" \".join(s.split()[::-1])"
      ],
      "execution_count": null,
      "outputs": []
    },
    {
      "cell_type": "markdown",
      "metadata": {
        "id": "_SteZEfRTXwR"
      },
      "source": [
        "## **Rearrange Odd and Even values in Alternate Fashion**"
      ]
    },
    {
      "cell_type": "code",
      "metadata": {
        "id": "8ySDOzx4Tfy-"
      },
      "source": [
        "def AlternateRearrange(arr, n):\n",
        "\tarr.sort()\n",
        "\tv1 = list() # to insert even values\n",
        "\tv2 = list() # to insert odd values\n",
        "\tfor i in range(n):\n",
        "\t\tif (arr[i] % 2 == 0):\n",
        "\t\t\tv1.append(arr[i])\n",
        "\t\telse:\n",
        "\t\t\tv2.append(arr[i])\n",
        "\tindex = 0\n",
        "\ti = 0\n",
        "\tj = 0\n",
        "\tflag = False\n",
        "\tif (arr[0] % 2 == 0):\n",
        "\t\tflag = True\n",
        "\twhile (index < n):\n",
        "\t\tif (flag == True):\n",
        "\t\t\tarr[index] = v1[i]\n",
        "\t\t\tindex += 1\n",
        "\t\t\ti += 1\n",
        "\t\t\tflag = ~flag\n",
        "\t\telse:\n",
        "\t\t\tarr[index] = v2[j]\n",
        "\t\t\tindex += 1\n",
        "\t\t\tj += 1\n",
        "\t\t\tflag = ~flag"
      ],
      "execution_count": null,
      "outputs": []
    },
    {
      "cell_type": "markdown",
      "metadata": {
        "id": "8BO0tdnfP-4w"
      },
      "source": [
        "## **Minimum Deletion**"
      ]
    },
    {
      "cell_type": "code",
      "metadata": {
        "id": "NlqJhu5KP_nH"
      },
      "source": [
        "#bruteforce\n",
        "class Solution:\n",
        "    def minDeletions(self, s: str) -> int:\n",
        "        d = dict()\n",
        "        for char in s:\n",
        "            d[char] = d.get(char, 0) + 1\n",
        "        aux = sorted(d.keys(), key= lambda k: -d[k])\n",
        "        seen = set()\n",
        "        res = 0\n",
        "        for key in aux:\n",
        "            if d[key] not in seen:\n",
        "                seen.add(d[key])\n",
        "            else:\n",
        "                tmp = d[key]\n",
        "                while tmp in seen and tmp > 0:\n",
        "                    tmp -= 1\n",
        "                    res += 1\n",
        "                if tmp != 0:\n",
        "                    seen.add(tmp)\n",
        "        return res"
      ],
      "execution_count": null,
      "outputs": []
    },
    {
      "cell_type": "code",
      "metadata": {
        "id": "pfhpGglMUzyq"
      },
      "source": [
        "class Solution:\n",
        "    def minDeletions(self, s: str) -> int:\n",
        "        ans=0\n",
        "        d={}\n",
        "        for i in set(s):\n",
        "            d[i]=s.count(i)\n",
        "        helper=set()\n",
        "        for i in sorted(d.values(),reverse=True):\n",
        "            while i in helper:\n",
        "                i-=1\n",
        "                ans+=1\n",
        "            if i:\n",
        "                helper.add(i)\n",
        "        return ans"
      ],
      "execution_count": null,
      "outputs": []
    },
    {
      "cell_type": "code",
      "metadata": {
        "id": "a3uUmObfQtdR"
      },
      "source": [
        "class Solution:\n",
        "    def minDeletions(self, s: str) -> int:\n",
        "        s_dict = {}\n",
        "        for char in s:\n",
        "            if char in s_dict:\n",
        "                s_dict[char] += 1\n",
        "            else:\n",
        "                s_dict[char] = 1\n",
        "        count = 0\n",
        "        letters = []\n",
        "        for key, value in s_dict.items():\n",
        "            letters.append([key, value])\n",
        "        letters = sorted(letters, key=lambda x: x[1])\n",
        "        letters.reverse()\n",
        "        for i in range(1, len(letters)):\n",
        "            if letters[i-1][1] <= letters[i][1]:\n",
        "                while letters[i][1] > 0 and letters[i-1][1] <= letters[i][1]:\n",
        "                    count += 1\n",
        "                    letters[i][1] -= 1\n",
        "        return count"
      ],
      "execution_count": null,
      "outputs": []
    },
    {
      "cell_type": "markdown",
      "metadata": {
        "id": "ZvnZEqjw2yEU"
      },
      "source": [
        "##**Maximum even sum subsequence of length K**"
      ]
    },
    {
      "cell_type": "code",
      "metadata": {
        "id": "NUkRXCXl4yf-"
      },
      "source": [
        "# brute-force\n",
        "def largest_even_sum3(arr, k):\n",
        "    if len(arr) < k:\n",
        "      return -1\n",
        "    arr.sort()\n",
        "\n",
        "    for i in range(len(arr))[::-1]:\n",
        "        if i >= k - 1:\n",
        "            res = 0\n",
        "            n = k\n",
        "            j = i\n",
        "            while n > 0:\n",
        "                res += arr[j]\n",
        "                j -= 1\n",
        "                n -= 1\n",
        "            if not (res & 1):\n",
        "                return res\n",
        "        else:\n",
        "            return -1"
      ],
      "execution_count": null,
      "outputs": []
    },
    {
      "cell_type": "code",
      "metadata": {
        "id": "xTBzw7cp235X"
      },
      "source": [
        "def evenSumK(arr, N, K):\n",
        "    if (K > N):\n",
        "        return -1\n",
        "\n",
        "    maxSum = 0\n",
        "    even = []\n",
        "    odd = []\n",
        "\n",
        "    # Traverse the array\n",
        "    for i in range(N):\n",
        "        if (arr[i] % 2):\n",
        "            Odd.append(arr[i])\n",
        "        else:\n",
        "            Even.append(arr[i])\n",
        "    Odd.sort(reverse = False)\n",
        "    Even.sort(reverse = False)\n",
        "    i = len(Even) - 1\n",
        "    j = len(Odd) - 1\n",
        "\n",
        "    while (K > 0):\n",
        "        if (K % 2 == 1):\n",
        "            if (i >= 0):\n",
        "                maxSum += Even[i]\n",
        "                i -= 1\n",
        "            else:\n",
        "                return -1\n",
        "            K -= 1\n",
        "        elif (i >= 1 and j >= 1):\n",
        "            if (Even[i] + Even[i - 1] <=\n",
        "                 Odd[j] + Odd[j - 1]):\n",
        "                maxSum += Odd[j] + Odd[j - 1]\n",
        "                j -= 2\n",
        "            else:\n",
        "                maxSum += Even[i] + Even[i - 1]\n",
        "                i -= 2\n",
        "            K -= 2\n",
        "        elif (i >= 1):\n",
        "            maxSum += Even[i] + Even[i - 1]\n",
        "            i -= 2\n",
        "            K -= 2\n",
        "        elif (j >= 2):\n",
        "            maxSum += Odd[j] + Odd[j - 1]\n",
        "            j -= 2\n",
        "            K -= 2\n",
        "    return maxSum"
      ],
      "execution_count": null,
      "outputs": []
    },
    {
      "cell_type": "code",
      "metadata": {
        "id": "7XENxWoi45P1"
      },
      "source": [
        "# recursive + memo\n",
        "def largest_even_sum1(arr, k):\n",
        "    if len(arr) < k:\n",
        "        return -1\n",
        "    odds = [x for x in arr if x & 1]\n",
        "    evens = [x for x in arr if not x & 1]\n",
        "    odds.sort(key = lambda x : -x)\n",
        "    evens.sort(key = lambda x : -x)\n",
        "    m, n = len(evens), len(odds)\n",
        "    def dp(i, j, k):\n",
        "        if k <= 0:\n",
        "            return 0\n",
        "        p1 = 0 if not i < m else dp(i + 1, j,  k - 1) + evens[i]\n",
        "        p2 = 0 if not j < n - 1 else dp(i, j + 1,  k - 2) + odds[j] + odds[j + 1]\n",
        "        return max(p1, p2)\n",
        "    return dp(0, 0, k)"
      ],
      "execution_count": null,
      "outputs": []
    },
    {
      "cell_type": "markdown",
      "metadata": {
        "id": "FaNiY5yo0A5i"
      },
      "source": [
        "## **Reverse individual words**"
      ]
    },
    {
      "cell_type": "code",
      "metadata": {
        "id": "bCQeHYbhvVCy"
      },
      "source": [
        "class Solution:\n",
        "    def reverseWords(self, s):\n",
        "        return \" \".join(s.split()[::-1])"
      ],
      "execution_count": null,
      "outputs": []
    },
    {
      "cell_type": "code",
      "metadata": {
        "colab": {
          "base_uri": "https://localhost:8080/"
        },
        "id": "5yvB9taD0MAC",
        "outputId": "53d83356-4500-48d2-d062-ada06dd50332"
      },
      "source": [
        "# reverses individual words of a string\n",
        "def reverserWords(string):\n",
        "    st = list()\n",
        "    for i in range(len(string)):\n",
        "        if string[i] != \" \":\n",
        "            st.append(string[i])\n",
        "        else:\n",
        "            while len(st) > 0:\n",
        "                print(st[-1], end= \"\")\n",
        "                st.pop()\n",
        "            print(end = \" \")\n",
        "    while len(st) > 0:\n",
        "        print(st[-1], end = \"\")\n",
        "        st.pop()\n",
        "print(reverserWords(\"Hello World This is Stella\"))"
      ],
      "execution_count": null,
      "outputs": [
        {
          "output_type": "stream",
          "text": [
            "olleH dlroW sihT si alletSNone\n"
          ],
          "name": "stdout"
        }
      ]
    },
    {
      "cell_type": "markdown",
      "metadata": {
        "id": "B3Qx4u_8weK6"
      },
      "source": [
        "## **Rotate Array**"
      ]
    },
    {
      "cell_type": "code",
      "metadata": {
        "id": "N1-LdmNKwfww"
      },
      "source": [
        "class Solution:\n",
        "    def rotate(self, nums, K):\n",
        "        \"\"\" Do not return anything, modify nums in-place instead. \"\"\"\n",
        "        def rev(nums, start, end):\n",
        "            while start < end:\n",
        "                nums[start], nums[end] = nums[start], nums[end]\n",
        "                start += 1\n",
        "                end -= 1\n",
        "\n",
        "        N = len(nums)\n",
        "        K %= N\n",
        "\n",
        "        rev(nums, 0, N - 1)\n",
        "        rev(nums, 0, K - 1)\n",
        "        rev(nums, K, N - 1)"
      ],
      "execution_count": null,
      "outputs": []
    },
    {
      "cell_type": "markdown",
      "metadata": {
        "id": "ZT2qjiKtgxts"
      },
      "source": [
        "## **Max Slice Problem**"
      ]
    },
    {
      "cell_type": "code",
      "metadata": {
        "id": "1XGzN7-GeCkH"
      },
      "source": [
        "class Solution(object):\n",
        "    def maxSubArray(self, nums):\n",
        "        \"\"\"\n",
        "        :type nums: List[int]\n",
        "        :rtype: int\n",
        "        \"\"\"\n",
        "        n = len(nums)\n",
        "        max_current = 0\n",
        "        for p in range(n):\n",
        "          for q in range (p, n):\n",
        "              current_sum = 0\n",
        "              for i in range (q, q+1):\n",
        "                  current_sum += A[1]\n",
        "              max_current = max(max_current, current_sum)\n",
        "        return max_current"
      ],
      "execution_count": null,
      "outputs": []
    },
    {
      "cell_type": "markdown",
      "metadata": {
        "id": "iGOhtWOGWyLt"
      },
      "source": [
        "##**Maximum Subarray**\n",
        "Given an integer array nums, find the contiguous subarray which has the largest sum and return its sum."
      ]
    },
    {
      "cell_type": "code",
      "metadata": {
        "id": "6caHlymJXF5K"
      },
      "source": [
        "class Solution(object):\n",
        "    def maxSubArray(self, nums):\n",
        "        \"\"\"\n",
        "        :type nums: List[int]\n",
        "        :rtype: int\n",
        "        \"\"\"\n",
        "        max_current = max_final = nums[0]\n",
        "        for i in nums[1:]:\n",
        "            max_final = max(i, max_final + i)\n",
        "            max_current = max(max_final, max_current)\n",
        "        return max_current"
      ],
      "execution_count": null,
      "outputs": []
    },
    {
      "cell_type": "markdown",
      "metadata": {
        "id": "-pM3U90FS6Ie"
      },
      "source": [
        "##**Find the length of largest subarray with 0 sum**"
      ]
    },
    {
      "cell_type": "code",
      "metadata": {
        "id": "JX2ZksDiS_MR"
      },
      "source": [
        "def maxLen(arr):\n",
        "    max_len = 0\n",
        "    for i in range(len(arr)):\n",
        "        curr_sum = 0\n",
        "        for j in range(i, len(arr)):\n",
        "            curr_sum += arr[j]\n",
        "            if curr_sum == 0:\n",
        "                max_len = max(max_len, j-i + 1)\n",
        "    return max_len"
      ],
      "execution_count": null,
      "outputs": []
    },
    {
      "cell_type": "markdown",
      "metadata": {
        "id": "SfxwWOyfD58R"
      },
      "source": [
        "##**Maximum Length of a Concatenated String with Unique Characters**"
      ]
    },
    {
      "cell_type": "code",
      "metadata": {
        "id": "8sW-jAXnKONs"
      },
      "source": [
        "def rc(index, current):\n",
        "        if index == len(arr):\n",
        "            return len(current)\n",
        "\n",
        "        with_index = 0\n",
        "        if len(set(arr[index]+current)) == len(arr[index]+current):\n",
        "            with_index = rc(index+1, current+arr[index])\n",
        "        without_index = rc(index+1, current)\n",
        "        return max(with_index, without_index)\n",
        "        b = 0\n",
        "        for init_index in range(len(arr)):\n",
        "            if len(set(arr[init_index])) == len(arr[init_index]):\n",
        "                b = max(b, rc(init_index+1, arr[init_index]))\n",
        "        return b"
      ],
      "execution_count": null,
      "outputs": []
    },
    {
      "cell_type": "code",
      "metadata": {
        "colab": {
          "base_uri": "https://localhost:8080/"
        },
        "id": "UO-ujCclFNPn",
        "outputId": "b29ccb78-bee5-4524-dea6-27f2d0265c5f"
      },
      "source": [
        "def maxLength(arr):\n",
        "  result = [float('-inf')]\n",
        "  unique_char(\"\", arr, 0, result)\n",
        "  if not result[0] == float('-inf'):\n",
        "    return result[0]\n",
        "  return 0\n",
        "\n",
        "def unique_char(cur, arr, index, result):\n",
        "  if index == len(arr):\n",
        "    return\n",
        "  for index in range(index,len(arr)):\n",
        "    if len(set(cur + arr[index])) == len(list(cur + arr[index])):\n",
        "      result[0] = max(result[0],len(cur + arr[index]))\n",
        "      unique_char(cur + arr[index], arr, index + 1,result)\n",
        "# Driver Code\n",
        "if __name__=='__main__':\n",
        "    s = []\n",
        "    s.append(\"abcdefgh\")\n",
        "    print(maxLength(s))\n"
      ],
      "execution_count": null,
      "outputs": [
        {
          "output_type": "stream",
          "text": [
            "8\n"
          ],
          "name": "stdout"
        }
      ]
    },
    {
      "cell_type": "code",
      "metadata": {
        "colab": {
          "base_uri": "https://localhost:8080/"
        },
        "id": "UTVUQICpGezw",
        "outputId": "0f7b36e0-e005-4ee6-ab04-15e71b073c5b"
      },
      "source": [
        "# Function to check if all the string characters are unique\n",
        "def check(s):\n",
        "    a = set()\n",
        "    for i in s:\n",
        "        if i in a:\n",
        "            return False\n",
        "        a.add(i)\n",
        "    return True\n",
        "def helper(arr, ind):\n",
        "    if (ind == len(arr)):\n",
        "        return [\"\"]\n",
        "    tmp = helper(arr, ind + 1)\n",
        "    ret = tmp\n",
        "    for i in tmp:\n",
        "        test = i + arr[ind]\n",
        "        if (check(test)):\n",
        "            ret.append(test)\n",
        "    return ret\n",
        "def maxLength(arr):\n",
        "    tmp = helper(arr, 0)\n",
        "    l = 0\n",
        "    for i in tmp:\n",
        "        l = l if l > len(i) else len(i)\n",
        "    return l\n",
        "# Driver Code\n",
        "if __name__=='__main__':\n",
        "    s = []\n",
        "    s.append(\"abcdefgh\")\n",
        "    print(maxLength(s))"
      ],
      "execution_count": null,
      "outputs": [
        {
          "output_type": "stream",
          "text": [
            "8\n"
          ],
          "name": "stdout"
        }
      ]
    },
    {
      "cell_type": "markdown",
      "metadata": {
        "id": "knR1dmPQHlC_"
      },
      "source": [
        "##**CyclicRotation of An Array**\n"
      ]
    },
    {
      "cell_type": "code",
      "metadata": {
        "id": "3pNxaxvaHnUH"
      },
      "source": [
        "def solution(A, K):\n",
        "    pass\n",
        "    \"\"\"\n",
        "    A = [1,2,3,4,5]\n",
        "    K = 3\n",
        "    Output: []\n",
        "    \"\"\"\n",
        "    #rotate array A\n",
        "    N = len(A)\n",
        "    X = [0]*N\n",
        "    if N < 1:\n",
        "        return A\n",
        "    for i in range (N):\n",
        "        X[i]= A[(i-K) % N]\n",
        "    return X"
      ],
      "execution_count": null,
      "outputs": []
    },
    {
      "cell_type": "markdown",
      "metadata": {
        "id": "bR1fpbRPX1Bj"
      },
      "source": []
    },
    {
      "cell_type": "code",
      "metadata": {
        "id": "6ZXxA9xlN9Ln"
      },
      "source": [
        "def leftRotate(arr, n, k):\n",
        "    mod = d % length\n",
        "    s = \"\"\n",
        "    for i in range(length):\n",
        "        print str(arr[(mod + i) % length]),\n",
        "    print\n",
        "    return"
      ],
      "execution_count": null,
      "outputs": []
    },
    {
      "cell_type": "code",
      "metadata": {
        "id": "ta03zK_qOTvv"
      },
      "source": [
        "from collections import deque\n",
        "def leftRotate(a, d, n):\n",
        "    a = deque(a)\n",
        "    a.rotate(-k)\n",
        "    a = list(a)\n",
        "    for i in range(n):\n",
        "        print(arr[i], end = \" \")"
      ],
      "execution_count": null,
      "outputs": []
    },
    {
      "cell_type": "code",
      "metadata": {
        "id": "Xc6XaaWpO6JH"
      },
      "source": [
        "# Complete the rotLeft function below.\n",
        "from collections import deque\n",
        "def leftRotate(a, d):\n",
        "    length = len(a)\n",
        "    a = deque(a)\n",
        "    a.rotate(-divmod)\n",
        "    a = list(a)\n",
        "    for i in range(length):\n",
        "        print(arr[i], end = \" \")"
      ],
      "execution_count": null,
      "outputs": []
    },
    {
      "cell_type": "code",
      "metadata": {
        "colab": {
          "base_uri": "https://localhost:8080/"
        },
        "id": "EnH2xFNqD6jT",
        "outputId": "ba7c2fe0-5d4e-4f8c-8b35-c0d0f08e853d"
      },
      "source": [
        "\n",
        "from collections import defaultdict\n",
        "def groupInKConsecutive(arr, K):\n",
        "    count = defaultdict(int)\n",
        "    for h in arr:\n",
        "        count[h] += 1\n",
        "    for key, value in count.items():\n",
        "        cur = key\n",
        "        n = value\n",
        "        if (n > 0):\n",
        "            for i in range(1, K):\n",
        "                if ((cur + i) not in count):\n",
        "                    return False\n",
        "                count[cur + i] -= n\n",
        "                if (count[cur + i] < 0):\n",
        "                    return False\n",
        "    return True\n",
        "# Driver Code\n",
        "if __name__ == \"__main__\":\n",
        "    arr = [ 1, 2, 3, 6, 2, 3, 4, 7, 8 ]\n",
        "    k = 3\n",
        "    if (groupInKConsecutive(arr, k)):\n",
        "        print(\"True\")\n",
        "    else:\n",
        "        print(\"False\")"
      ],
      "execution_count": null,
      "outputs": [
        {
          "output_type": "stream",
          "text": [
            "True\n"
          ],
          "name": "stdout"
        }
      ]
    },
    {
      "cell_type": "markdown",
      "metadata": {
        "id": "ixXiM2wLPMIY"
      },
      "source": [
        "##**Binary Strings Sum**\n"
      ]
    },
    {
      "cell_type": "code",
      "metadata": {
        "id": "eRSczYnZMWpn"
      },
      "source": [
        "\n",
        "class Solution(object):\n",
        "    def addBinary(self, a, b):\n",
        "        \"\"\"\n",
        "        Given two binary strings a and b, return their sum as a binary string.\n",
        "        Example 1:\n",
        "        Input: a = \"11\", b = \"1\"\n",
        "        Output: \"100\"\n",
        "        \"\"\"\n",
        "        result = \"\"\n",
        "        aCount = len(a) - 1\n",
        "        bCount = len(b) - 1\n",
        "        carry = 0\n",
        "        while aCount >= 0 or bCount >= 0:\n",
        "            totalSum = carry\n",
        "            if aCount >= 0:\n",
        "                totalSum += int(a[aCount])\n",
        "                aCount -= 1\n",
        "            if bCount >= 0:\n",
        "                totalSum += int(b[bCount])\n",
        "                bCount -= 1\n",
        "            result = str(totalSum % 2) + result\n",
        "            carry = totalSum // 2\n",
        "        if carry > 0:\n",
        "            result = str(1) +\n",
        "        return result"
      ],
      "execution_count": null,
      "outputs": []
    },
    {
      "cell_type": "markdown",
      "metadata": {
        "id": "ACARb0dPE6i8"
      },
      "source": []
    },
    {
      "cell_type": "markdown",
      "metadata": {
        "id": "iLrVFEJNRgYk"
      },
      "source": [
        "##**Check if Strings s1 and s2 are Anagram**\n",
        "\n"
      ]
    },
    {
      "cell_type": "code",
      "metadata": {
        "id": "ZQGoYNpEQA6E"
      },
      "source": [
        "class Solution:\n",
        "    def isAnagram(self, s: str, t: str) -> bool:\n",
        "        \"\"\"Given two strings s and t , write a function to determine if t is an anagram of s.\n",
        "        Example 1:\n",
        "        Input: s = \"anagram\", t = \"nagaram\"\n",
        "        Output: true\"\"\"\n",
        "        s = s.replace(' ','').lower()\n",
        "        t = t.replace(' ','').lower()\n",
        "\n",
        "        if len(s) != len(t):\n",
        "            return False\n",
        "\n",
        "        count = {}\n",
        "        for x in s:\n",
        "            if x in count:\n",
        "                count[x] += 1\n",
        "            else:\n",
        "                count[x] = 1\n",
        "\n",
        "        for x in t:\n",
        "            if x in count:\n",
        "                count[x] -= 1\n",
        "            else:\n",
        "                count[x] = 1\n",
        "\n",
        "        for k in count:\n",
        "            if count[k] != 0:\n",
        "                return False"
      ],
      "execution_count": null,
      "outputs": []
    },
    {
      "cell_type": "markdown",
      "metadata": {
        "id": "4h2WE8v4wY0i"
      },
      "source": [
        "##**TwoSum**\n",
        "Given an array of integers nums and an integer target, return indices of the two numbers such that they add up to target.\n",
        "\n",
        "You may assume that each input would have exactly one solution, and you may not use the same element twice.\n",
        "\n",
        "You can return the answer in any order."
      ]
    },
    {
      "cell_type": "code",
      "metadata": {
        "id": "L_CS6GQ8SHoM"
      },
      "source": [
        "# Brute force approach\n",
        "class Solution(object):\n",
        "    def two_sum_brute_force(nums, target):\n",
        "        length = len(nums)\n",
        "        for i in range(length - 1):\n",
        "            for j in range(1, length):\n",
        "                if nums[i] + nums[j] == target:\n",
        "                    return i, j\n",
        "        return None"
      ],
      "execution_count": null,
      "outputs": []
    },
    {
      "cell_type": "code",
      "metadata": {
        "id": "GmOyvEwTtg86"
      },
      "source": [
        "#Using hash tables\n",
        "class Solution(object):\n",
        "    def twoSum(self, nums, target):\n",
        "        \"\"\"\n",
        "         :type nums: List[int]\n",
        "         :type target: int\n",
        "         :rtype: List[int]\n",
        "         \"\"\"\n",
        "        x = {}\n",
        "        for i in range(len(nums)):\n",
        "            if target - nums[i] in x:\n",
        "                return [x[target - nums[i]],i]\n",
        "            else:\n",
        "                x[nums[i]]=i"
      ],
      "execution_count": null,
      "outputs": []
    },
    {
      "cell_type": "markdown",
      "metadata": {
        "id": "F7S2yFbMBzTt"
      },
      "source": [
        "The two sum problem is stated as follows: given an unsorted list and a number S, find all the pairs of numbers in that list such that their sum equals S.\n",
        "For example, if the list is [3, 5, 2, -4, 8, 11][3,5,2,−4,8,11] and the value of S is 77, then the program should return pairs (11,-4)(11,−4) and (2,5)(2,5) since 11 +(-4)11+(−4) and 2+52+5 are equal to 77."
      ]
    },
    {
      "cell_type": "code",
      "metadata": {
        "colab": {
          "base_uri": "https://localhost:8080/"
        },
        "id": "Oqk2vTWqB28d",
        "outputId": "0204e86d-ca6a-48b1-cce5-309bbee0e909"
      },
      "source": [
        "#O(n**2) - Naive Approach\n",
        "def twoSumNaive(num_arr, pair_sum):\n",
        "  # search first element in the array\n",
        "  for i in range(len(num_arr) - 1):\n",
        "    # search other element in the array\n",
        "    for j in range(i + 1, len(num_arr)):\n",
        "      # if these two elements sum to pair_sum, print the pair\n",
        "      if num_arr[i] + num_arr[j] == pair_sum:\n",
        "        print(\"Pair with sum\", pair_sum,\"is: (\", num_arr[i],\",\",num_arr[j],\")\")\n",
        "# Driver Code\n",
        "num_arr = [3, 5, 2, -4, 8, 11]\n",
        "pair_sum = 7\n",
        "# Function call inside print\n",
        "twoSumNaive(num_arr, pair_sum)"
      ],
      "execution_count": null,
      "outputs": [
        {
          "output_type": "stream",
          "text": [
            "Pair with sum 7 is: ( 5 , 2 )\n",
            "Pair with sum 7 is: ( -4 , 11 )\n"
          ],
          "name": "stdout"
        }
      ]
    },
    {
      "cell_type": "code",
      "metadata": {
        "colab": {
          "base_uri": "https://localhost:8080/"
        },
        "id": "6Z_c84cXCwaL",
        "outputId": "cc9e863f-4994-460c-dea5-80dbf7c6a569"
      },
      "source": [
        "#Using Hash Tables\n",
        "def twoSumHashing(num_arr, pair_sum):\n",
        "    sums = []\n",
        "    hashTable = {}\n",
        "    for i in range(len(num_arr)):\n",
        "        complement = pair_sum - num_arr[i]\n",
        "        if complement in hashTable:\n",
        "            print(\"Pair with sum\", pair_sum,\"is: (\", num_arr[i],\",\",complement,\")\")\n",
        "        hashTable[num_arr[i]] = num_arr[i]\n",
        "# Driver Code\n",
        "num_arr = [4, 5, 1, 8]\n",
        "pair_sum = 9\n",
        "# Calling function\n",
        "twoSumHashing(num_arr, pair_sum)"
      ],
      "execution_count": null,
      "outputs": [
        {
          "output_type": "stream",
          "text": [
            "Pair with sum 9 is: ( 5 , 4 )\n",
            "Pair with sum 9 is: ( 8 , 1 )\n"
          ],
          "name": "stdout"
        }
      ]
    },
    {
      "cell_type": "markdown",
      "metadata": {
        "id": "wIhvvCUErNHu"
      },
      "source": [
        "## **Three Sum**"
      ]
    },
    {
      "cell_type": "code",
      "metadata": {
        "id": "nbQoGbaErNrb"
      },
      "source": [
        "class Solution:\n",
        "    def threeSum(self, nums):\n",
        "        n = len(nums)\n",
        "        nums.sort()\n",
        "        res = []\n",
        "        for i in range(n - 2):\n",
        "            if nums[i] > 0:\n",
        "                break\n",
        "            if i > 0 and nums[i] == nums[i - 1]:\n",
        "                continue\n",
        "            j, k = i + 1, n - 1\n",
        "            while j < k:\n",
        "                cur = nums[i] + nums[j] + nums[k]\n",
        "                if cur < 0:\n",
        "                    j += 1\n",
        "                elif cur > 0:\n",
        "                    k -= 1\n",
        "                else:\n",
        "                    res.append([nums[i], nums[j], nums[k]])\n",
        "                    while j + 1 < k and nums[j] == nums[j + 1]:\n",
        "                        j += 1\n",
        "                    while k - 1 > j and nums[k] == nums[k - 1]:\n",
        "                        k -= 1\n",
        "                    j += 1\n",
        "                    k -= 1\n",
        "        return res"
      ],
      "execution_count": null,
      "outputs": []
    },
    {
      "cell_type": "markdown",
      "metadata": {
        "id": "n79dGvWekSNv"
      },
      "source": [
        "A function that computes a student’s GPA with a point value\n",
        "system that can be customized as an optional parameter."
      ]
    },
    {
      "cell_type": "code",
      "metadata": {
        "id": "BC6D0vKBUqSI"
      },
      "source": [
        "def compute_gpa(grades, points={ \"A+\" :4.0, \"A\" :4.0, \"A-\" :3.67, \"B+\" :3.33,\n",
        "\"B\" :3.0, \"B-\" :2.67, 'C+' :2.33, 'C' :2.0,\n",
        "'C' :1.67, 'D+' :1.33, 'D' :1.0, 'F' :0.0}):\n",
        "    num_courses = 0\n",
        "    total_points = 0\n",
        "    for g in grades:\n",
        "        if g in points:\n",
        "            num_courses += 1\n",
        "            total_points += points[g]\n",
        "    return total_points / num_courses"
      ],
      "execution_count": null,
      "outputs": []
    },
    {
      "cell_type": "markdown",
      "metadata": {
        "id": "_KBaJs3YbvUT"
      },
      "source": [
        "##**Binary Search**\n",
        "Given an array nums and a value val, remove all instances of that value in-place and return the new length.\n",
        "\n",
        "Do not allocate extra space for another array, you must do this by modifying the input array in-place with O(1) extra memory.\n",
        "\n",
        "The order of elements can be changed. It doesn't matter what you leave beyond the new length.\n",
        "\n",
        "Clarification:\n",
        "\n",
        "Confused why the returned value is an integer but your answer is an array?\n",
        "\n",
        "Note that the input array is passed in by reference, which means a modification to the input array will be known to the caller as well.\n",
        "\n",
        "Internally you can think of this:"
      ]
    },
    {
      "cell_type": "code",
      "metadata": {
        "id": "GhD857FWbve6"
      },
      "source": [
        "class Solution(object):\n",
        "    def removeElement(self, nums, val):\n",
        "        \"\"\"\n",
        "        :type nums: List[int]\n",
        "        :type val: int\n",
        "        :rtype: int\n",
        "        \"\"\"\n",
        "        for i in nums[:]:\n",
        "            if i == val:\n",
        "                nums.remove(val)\n",
        "                i += 1\n",
        "        return len(nums)\n",
        ""
      ],
      "execution_count": null,
      "outputs": []
    },
    {
      "cell_type": "markdown",
      "metadata": {
        "id": "4CQH-NPgh61v"
      },
      "source": [
        "##**Trailing** **Zeros**\n",
        "Given an integer n, return the number of trailing zeroes in n!.\n",
        "\n",
        "Follow up: Could you write a solution that works in logarithmic time complexity?\n",
        "\n",
        "\n",
        "\n",
        "Example 1:\n",
        "\n",
        "Input: n = 3\n",
        "Output: 0\n",
        "Explanation: 3! = 6, no trailing zero.\n",
        "Example 2:\n",
        "\n",
        "Input: n = 5\n",
        "Output: 1\n",
        "Explanation: 5! = 120, one trailing zero.\n",
        "Example 3:\n",
        "\n",
        "Input: n = 0\n",
        "Output: 0\n",
        "\n",
        "\n",
        "Constraints:\n",
        "\n",
        "0 <= n <= 104"
      ]
    },
    {
      "cell_type": "code",
      "metadata": {
        "id": "8Tx9uLMjh8d8"
      },
      "source": [
        "class Solution(object):\n",
        "    def trailingZeroes(self, n):\n",
        "        \"\"\"\n",
        "        :type n: int\n",
        "        :rtype: int\n",
        "        \"\"\"\n",
        "        result = 0\n",
        "        while n > 0:\n",
        "            result += n / 5\n",
        "            n /= 5\n",
        "        return result"
      ],
      "execution_count": null,
      "outputs": []
    },
    {
      "cell_type": "markdown",
      "metadata": {
        "id": "Qg_OATOEjb8P"
      },
      "source": [
        "Given an integer array nums, find the contiguous subarray (containing at least one number) which has the largest sum and return its sum.\n",
        "\n",
        "Follow up: If you have figured out the O(n) solution, try coding another solution using the divide and conquer approach, which is more subtle.\n",
        "\n",
        "\n",
        "\n",
        "Example 1:\n",
        "\n",
        "Input: nums = [-2,1,-3,4,-1,2,1,-5,4]\n",
        "Output: 6\n",
        "Explanation: [4,-1,2,1] has the largest sum = 6.\n",
        "Example 2:\n",
        "\n",
        "Input: nums = [1]\n",
        "Output: 1\n",
        "Example 3:\n",
        "\n",
        "Input: nums = [0]\n",
        "Output: 0\n",
        "Example 4:\n",
        "\n",
        "Input: nums = [-1]\n",
        "Output: -1\n",
        "Example 5:\n",
        "\n",
        "Input: nums = [-2147483647]\n",
        "Output: -2147483647"
      ]
    },
    {
      "cell_type": "code",
      "metadata": {
        "id": "iIMP4GCAjcs1"
      },
      "source": [
        "class Solution(object):\n",
        "    def maxSubArray(self, nums):\n",
        "        \"\"\"\n",
        "        :type nums: List[int]\n",
        "        :rtype: int\n",
        "        \"\"\"\n",
        "        max_current = max_final = nums[0]\n",
        "        for i in nums[1:]:\n",
        "            max_final = max(i, max_final + i)\n",
        "            max_current = max(max_final, max_current)\n",
        "        return max_current"
      ],
      "execution_count": null,
      "outputs": []
    },
    {
      "cell_type": "markdown",
      "metadata": {
        "id": "TSbutl1-fHpL"
      },
      "source": [
        "You are given a zero-indexed array A consisting of n integers: a0, a1, . . . , an−1.\n",
        "Array A represents a scenario in a grocery store, and contains only 0s and/or 1s:\n",
        "• 0 represents the action of a new person joining the line in the grocery store,\n",
        "• 1 represents the action of the person at the front of the queue being served and leaving\n",
        "the line.\n",
        "The goal is to count the minimum number of people who should have been in the line before\n",
        "the above scenario, so that the scenario is possible (it is not possible to serve a person if the\n",
        "line is empty)"
      ]
    },
    {
      "cell_type": "code",
      "metadata": {
        "id": "rpsHj-QpfG-E"
      },
      "source": [
        "def grocery_store(A):\n",
        "  n = len(A)\n",
        "  size, result = 0, 0\n",
        "  for i in xrange(n):\n",
        "    if A[i] == 0:\n",
        "      size += 1\n",
        "    else:\n",
        "      size -= 1\n",
        "      result = max(result, -size)\n",
        "  return result"
      ],
      "execution_count": null,
      "outputs": []
    },
    {
      "cell_type": "markdown",
      "metadata": {
        "id": "kvUG56c8f3nT"
      },
      "source": [
        "## **Balanced** **parentheses** **in** **an** **expression**"
      ]
    },
    {
      "cell_type": "code",
      "metadata": {
        "colab": {
          "base_uri": "https://localhost:8080/"
        },
        "id": "MZywx3MQxGcR",
        "outputId": "b0e81f68-ee68-4e6e-f579-1ef0aa4085b9"
      },
      "source": [
        "# 100% on codility\n",
        "def check(S):\n",
        "    open_tup = tuple('({[')\n",
        "    close_tup = tuple(')}]')\n",
        "    map = dict(zip(open_tup, close_tup))\n",
        "    queue = []\n",
        "    for i in S:\n",
        "        if i in open_tup:\n",
        "            queue.append(map[i])\n",
        "        elif i in close_tup:\n",
        "            if not queue or i != queue.pop():\n",
        "                return 0\n",
        "    if not queue:\n",
        "        return 1\n",
        "    else:\n",
        "        return 0\n",
        "# Driver code\n",
        "S = \"{[]{()}}\"\n",
        "print(string, \"-\", check(S))\n",
        "S = \"((())\"\n",
        "print(string,\"-\",check(S))"
      ],
      "execution_count": null,
      "outputs": [
        {
          "output_type": "stream",
          "text": [
            "anna - 1\n",
            "anna - 0\n"
          ],
          "name": "stdout"
        }
      ]
    },
    {
      "cell_type": "code",
      "metadata": {
        "id": "JJf-fI1Nxoru"
      },
      "source": [
        "# 75% on codility\n",
        "def solution(S):\n",
        "    pass\n",
        "    opening_brackets = ['(', '{', '[']\n",
        "    closing_brackets = [')', '}', ']']\n",
        "    stack = []\n",
        "    if len(S) == 0:\n",
        "        return 0\n",
        "\n",
        "    for i in S:\n",
        "        if i in opening_brackets:\n",
        "            stack.append(i)\n",
        "\n",
        "        elif i in closing_brackets:\n",
        "            pos = closing_brackets.index(i)\n",
        "            if (len(stack) > 0) and (opening_brackets[pos]== stack[len(stack)-1]):\n",
        "                stack.pop()\n",
        "        else:\n",
        "            return 0\n",
        "    if len(stack) == 0:\n",
        "        return 1\n",
        "    else:\n",
        "        return 0"
      ],
      "execution_count": null,
      "outputs": []
    },
    {
      "cell_type": "markdown",
      "metadata": {
        "id": "Ux6_GC1UmThB"
      },
      "source": [
        "\n",
        "## **Validity of a string of parentheses, '(', ')', '{', '}', '[' and ']**\n",
        "\n"
      ]
    },
    {
      "cell_type": "code",
      "metadata": {
        "id": "bxU6E3wOmUGU"
      },
      "source": [
        "class py_solution:\n",
        "   def is_valid_parenthese(self, str1):\n",
        "        stack, pchar = [], {\"(\": \")\", \"{\": \"}\", \"[\": \"]\"}\n",
        "        for parenthese in str1:\n",
        "            if parenthese in pchar:\n",
        "                stack.append(parenthese)\n",
        "            elif len(stack) == 0 or pchar[stack.pop()] != parenthese:\n",
        "                return False\n",
        "        return len(stack) == 0\n",
        "\n",
        "print(py_solution().is_valid_parenthese(\"(){}[]\"))\n",
        "print(py_solution().is_valid_parenthese(\"()[{)}\"))\n",
        "print(py_solution().is_valid_parenthese(\"()\"))"
      ],
      "execution_count": null,
      "outputs": []
    },
    {
      "cell_type": "markdown",
      "metadata": {
        "id": "WkT48spt37oD"
      },
      "source": [
        "##**CyclicRotation of Array**\n",
        "An array A consisting of N integers is given. Rotation of the array means that each element is shifted right by one index, and the last element of the array is moved to the first place. For example, the rotation of array A = [3, 8, 9, 7, 6] is [6, 3, 8, 9, 7] (elements are shifted right by one index and 6 is moved to the first place).\n",
        "\n",
        "The goal is to rotate array A K times; that is, each element of A will be shifted to the right K times.\n",
        "\n",
        "Write a function:\n",
        "\n",
        "def solution(A, K)\n",
        "\n",
        "that, given an array A consisting of N integers and an integer K, returns the array A rotated K times.\n",
        "\n",
        "For example, given\n",
        "\n",
        "    A = [3, 8, 9, 7, 6]\n",
        "    K = 3\n",
        "the function should return [9, 7, 6, 3, 8]. Three rotations were made:\n",
        "\n",
        "    [3, 8, 9, 7, 6] -> [6, 3, 8, 9, 7]\n",
        "    [6, 3, 8, 9, 7] -> [7, 6, 3, 8, 9]\n",
        "    [7, 6, 3, 8, 9] -> [9, 7, 6, 3, 8]\n",
        "For another example, given\n",
        "\n",
        "    A = [0, 0, 0]\n",
        "    K = 1\n",
        "the function should return [0, 0, 0]\n",
        "\n",
        "Given\n",
        "\n",
        "    A = [1, 2, 3, 4]\n",
        "    K = 4\n",
        "the function should return [1, 2, 3, 4]\n",
        "\n",
        "Assume that:\n",
        "\n",
        "N and K are integers within the range [0..100];\n",
        "each element of array A is an integer within the range [−1,000..1,000].\n",
        "In your solution, focus on correctness. The performance of your solution will not be the focus of the assessment."
      ]
    },
    {
      "cell_type": "code",
      "metadata": {
        "colab": {
          "base_uri": "https://localhost:8080/"
        },
        "id": "27OcOV6t3_BH",
        "outputId": "449e72c4-af54-4a43-e85e-086c7240028e"
      },
      "source": [
        "def solution(A, K):\n",
        "    # write your code in Python 3.6\n",
        "    pass\n",
        "    N = len(A)\n",
        "    X = [0]*N\n",
        "\n",
        "    if N < 1:\n",
        "        return A\n",
        "    for i in range (N):\n",
        "        X[i]= A[(i-K) % N]\n",
        "    return X\n",
        "A = [3, 8, 9, 7, 6]\n",
        "K = 3\n",
        "print(solution(A, K))"
      ],
      "execution_count": null,
      "outputs": [
        {
          "output_type": "stream",
          "text": [
            "[9, 7, 6, 3, 8]\n"
          ],
          "name": "stdout"
        }
      ]
    },
    {
      "cell_type": "markdown",
      "metadata": {
        "id": "CXJAKFGIAf8j"
      },
      "source": [
        "Given a sorted array nums, remove the duplicates in-place such that each element appears only once and returns the new length.\n",
        "\n",
        "Do not allocate extra space for another array, you must do this by modifying the input array in-place with O(1) extra memory.\n",
        "\n",
        "Clarification:\n",
        "\n",
        "Confused why the returned value is an integer but your answer is an array?\n",
        "\n",
        "Note that the input array is passed in by reference, which means a modification to the input array will be known to the caller as well.\n",
        "\n",
        "Internally you can think of this:"
      ]
    },
    {
      "cell_type": "code",
      "metadata": {
        "id": "bW-B9qeTAklb"
      },
      "source": [
        "class Solution:\n",
        "    def removeDuplicates(self, nums):\n",
        "        if len(nums) == 0:\n",
        "            return 0\n",
        "        length = 1\n",
        "        previous = nums[0]\n",
        "        index = 1\n",
        "        for i in range(1,len(nums)):\n",
        "            if nums[i] != previous:\n",
        "                length += 1\n",
        "                previous = nums[i]\n",
        "                nums[index] = nums[i]\n",
        "                index+=1\n",
        "        return length\n",
        ""
      ],
      "execution_count": null,
      "outputs": []
    },
    {
      "cell_type": "markdown",
      "metadata": {
        "id": "jr6YmTF_O23J"
      },
      "source": [
        "Given an array of integers nums and an integer target, return indices of the two numbers such that they add up to target.\n",
        "\n",
        "You may assume that each input would have exactly one solution, and you may not use the same element twice.\n",
        "\n",
        "You can return the answer in any order.\n",
        "\n",
        "Example 1:\n",
        "\n",
        "Input: nums = [2,7,11,15], target = 9\n",
        "Output: [0,1]\n",
        "Output: Because nums[0] + nums[1] == 9, we return [0, 1].\n",
        "Example 2:\n",
        "\n",
        "Input: nums = [3,2,4], target = 6\n",
        "Output: [1,2]\n",
        "Example 3:\n",
        "\n",
        "Input: nums = [3,3], target = 6\n",
        "Output: [0,1]"
      ]
    },
    {
      "cell_type": "code",
      "metadata": {
        "id": "tJDueRYrO5nP"
      },
      "source": [
        "class Solution(object):\n",
        "    def twoSum(self, nums, target):\n",
        "        \"\"\"\n",
        "         :type nums: List[int]\n",
        "         :type target: int\n",
        "         :rtype: List[int]\n",
        "         \"\"\"\n",
        "        x = {}\n",
        "\n",
        "        for i in range(len(nums)):\n",
        "\n",
        "            if target - nums[i] in x:\n",
        "                return [x[target - nums[i]],i]\n",
        "\n",
        "            else:\n",
        "                x[nums[i]]=i"
      ],
      "execution_count": null,
      "outputs": []
    },
    {
      "cell_type": "markdown",
      "metadata": {
        "id": "Ue0MkZdKTvnb"
      },
      "source": [
        "Given an array with positive and negative integers.Finf the maximum sum of that array."
      ]
    },
    {
      "cell_type": "code",
      "metadata": {
        "colab": {
          "base_uri": "https://localhost:8080/"
        },
        "id": "dAoRmY1WUxtR",
        "outputId": "c952fd85-2bc5-418b-855a-6068c9ce9ceb"
      },
      "source": [
        "def largest(A):\n",
        "  if len(A) == 0:\n",
        "    return print('Too Small')\n",
        "\n",
        "  max_sum = current_sum = A[0]\n",
        "  for num in A[1:]:\n",
        "    current_sum = max(current_sum + num , num)\n",
        "    max_sum = max(current_sum, max_sum)\n",
        "  return max_sum\n",
        "print(largest([1,2,3,4,5,6,-7]))"
      ],
      "execution_count": null,
      "outputs": [
        {
          "output_type": "stream",
          "text": [
            "21\n"
          ],
          "name": "stdout"
        }
      ]
    },
    {
      "cell_type": "markdown",
      "metadata": {
        "id": "ap34JKpMcCpG"
      },
      "source": [
        "##**Isormophic**\n",
        "Two strings A and B are isomorphic if there exists character mapping which replaces characters from A to get B. Rules for character mapping are:\n",
        "\n",
        "all occurrences of one character (e.g. ‘x’) must be replaced with the same character (e.g. ‘y’)\n",
        "no two different characters may map to the same character\n",
        "a character may map to itself\n",
        "Write a function that returns true if provided strings are isomorphic, otherwise false:\n",
        "\n",
        "bool AreStringsIsomorphic(char* a, char* b)\n",
        "\n",
        "The strings are NULL-terminated, with characters from lower case English alphabet ‘a’ – ‘z’.\n",
        "\n",
        "Examples:\n",
        "\n",
        "Input\tOutput\n",
        "A = “brain”, B = “space”\t\ttrue\n",
        "A = “noon”, B = “feet”\t\tfalse\n",
        "A = “aab”, B = “ccd”\t\ttrue"
      ]
    },
    {
      "cell_type": "code",
      "metadata": {
        "colab": {
          "base_uri": "https://localhost:8080/"
        },
        "id": "R7oGJTKrcNz7",
        "outputId": "79edcccb-ddfd-454f-ac30-d0481aa1be8e"
      },
      "source": [
        "# Solution One -GeekforGeeks\n",
        "MAX_CHARS = 256\n",
        "def areIsomorphic(string1, string2):\n",
        "    m = len(string1)\n",
        "    n = len(string2)\n",
        "    if m != n:\n",
        "        return False\n",
        "\n",
        "    marked = [False] * MAX_CHARS\n",
        "    map = [-1] * MAX_CHARS\n",
        "\n",
        "    for i in range(n):\n",
        "        if map[ord(string1[i])] == -1:\n",
        "            if marked[ord(string2[i])] == True:\n",
        "                return False\n",
        "            marked[ord(string2[i])] = True\n",
        "            map[ord(string1[i])] = string2[i]\n",
        "        elif map[ord(string1[i])] != string2[i]:\n",
        "            return False\n",
        "    return True\n",
        "print (areIsomorphic(\"egg\",\"add\"))\n",
        "print (areIsomorphic(\"aab\",\"xyz\"))"
      ],
      "execution_count": null,
      "outputs": [
        {
          "output_type": "stream",
          "text": [
            "True\n",
            "False\n"
          ],
          "name": "stdout"
        }
      ]
    },
    {
      "cell_type": "code",
      "metadata": {
        "colab": {
          "base_uri": "https://localhost:8080/"
        },
        "id": "oZda8KMjeK9z",
        "outputId": "0e33b064-44c1-4ae7-b2b7-54f1602f90f0"
      },
      "source": [
        "#Solution 2\n",
        "def isIsomorphic(s, t):\n",
        "    dict_s = {}\n",
        "    dict_t = {}\n",
        "\n",
        "    for i, value in enumerate(s):\n",
        "        dict_s[value] = dict_s.get(value, []) + [i]\n",
        "\n",
        "    for j, value in enumerate(t):\n",
        "        dict_t[value] = dict_t.get(value, []) + [j]\n",
        "\n",
        "    if sorted(dict_s.values()) == sorted(dict_t.values()):\n",
        "        return True\n",
        "    else:\n",
        "        return False\n",
        "print (isIsomorphic(\"aab\",\"xxy\"))\n",
        "print (isIsomorphic(\"aab\",\"xyz\"))"
      ],
      "execution_count": null,
      "outputs": [
        {
          "output_type": "stream",
          "text": [
            "True\n",
            "False\n"
          ],
          "name": "stdout"
        }
      ]
    },
    {
      "cell_type": "markdown",
      "metadata": {
        "id": "6Ln_xh-TiIHK"
      },
      "source": [
        "##**Sort Array In Ascending Order**\n",
        "Given an array of integers nums, sort the array in ascending order.\n",
        "Example 1:\n",
        "\n",
        "Input: nums = [5,2,3,1]\n",
        "Output: [1,2,3,5]"
      ]
    },
    {
      "cell_type": "code",
      "metadata": {
        "id": "KECh13zyiT03"
      },
      "source": [
        "class Solution(object):\n",
        "    def sortArray(self, nums):\n",
        "        \"\"\"\n",
        "        :type nums: List[int]\n",
        "        :rtype: List[int]\n",
        "        \"\"\"\n",
        "        for i in range(0, len(nums)):\n",
        "            nums.sort(reverse = False)\n",
        "            return nums\n",
        ""
      ],
      "execution_count": null,
      "outputs": []
    },
    {
      "cell_type": "markdown",
      "metadata": {
        "id": "54cT7uFnOEkP"
      },
      "source": [
        "#**Longest common prefix**\n",
        "Write a Python program to find the longest common prefix string amongst a given array of strings. Return false If there is no common prefix.\n",
        "For Example, longest common prefix of \"abcdefgh\" and \"abcefgh\" is \"abc\""
      ]
    },
    {
      "cell_type": "code",
      "metadata": {
        "colab": {
          "base_uri": "https://localhost:8080/"
        },
        "id": "hM8tfLwGOQ2c",
        "outputId": "68d24143-3cd7-4cd1-869b-900fb0dcc880"
      },
      "source": [
        "def longest_Common_Prefix(str1):\n",
        "    if not str1:\n",
        "        return \"\"\n",
        "    short_str = min(str1,key=len)\n",
        "    for i, char in enumerate(short_str):\n",
        "        for other in str1:\n",
        "            if other[i] != char:\n",
        "                return short_str[:i]\n",
        "    return short_str\n",
        "print(longest_Common_Prefix([\"abcdefgh\",\"abcefgh\"]))\n",
        "print(longest_Common_Prefix([\"w3r\",\"w3resource\"]))\n",
        "print(longest_Common_Prefix([\"Python\",\"PHP\", \"Perl\"]))\n",
        "print(longest_Common_Prefix([\"Python\",\"PHP\", \"Java\"]))"
      ],
      "execution_count": null,
      "outputs": [
        {
          "output_type": "stream",
          "text": [
            "abc\n",
            "w3r\n",
            "P\n",
            "\n"
          ],
          "name": "stdout"
        }
      ]
    },
    {
      "cell_type": "markdown",
      "metadata": {
        "id": "6ArMXIzTSBv5"
      },
      "source": [
        "\n",
        "#**Reverse Vowels Only in a String**\n",
        "Write a Python program to reverse only the vowels of a given string."
      ]
    },
    {
      "cell_type": "code",
      "metadata": {
        "colab": {
          "base_uri": "https://localhost:8080/"
        },
        "id": "YRESXTo9SBSY",
        "outputId": "4622dc2e-4456-4cf5-ee16-fae16fa8dabb"
      },
      "source": [
        "def reverseVowels(s):\n",
        "\tvowels = \"\"\n",
        "\tfor char in s:\n",
        "\t\tif char in \"aeiouAEIOU\":\n",
        "\t\t\tvowels += char\n",
        "\tresult = \"\"\n",
        "\tfor char in s:\n",
        "\t\tif char in \"aeiouAEIOU\":\n",
        "\t\t\tresult += vowels[-1]\n",
        "\t\t\tvowels = vowels[:-1]\n",
        "\t\telse:\n",
        "\t\t\tresult += char\n",
        "\treturn result\n",
        "\n",
        "print(reverse_vowels(\"hello\"))\n",
        "print(reverse_vowels(\"Python\"))\n",
        "print(reverse_vowels(\"leetcode\"))\n"
      ],
      "execution_count": null,
      "outputs": [
        {
          "output_type": "stream",
          "text": [
            "holle\n",
            "Python\n",
            "leotcede\n"
          ],
          "name": "stdout"
        }
      ]
    },
    {
      "cell_type": "markdown",
      "metadata": {
        "id": "iESAkie1ZRup"
      },
      "source": [
        "#**Remove Duplicates from Array of numbers and return Length**\n",
        "Python program to remove the duplicate elements of a given array of numbers such that each element appear only once and return the new length of the given array."
      ]
    },
    {
      "cell_type": "code",
      "metadata": {
        "colab": {
          "base_uri": "https://localhost:8080/"
        },
        "id": "gtadvwmQZf9W",
        "outputId": "f913132e-d248-4ff6-8762-73344029a7c3"
      },
      "source": [
        "def removeDuplicates(nums):\n",
        "    for i in range (len(nums)-1, 0, -1):\n",
        "        if nums[i] == nums[i-1]:\n",
        "            del nums[i-1]\n",
        "    return len(nums)\n",
        "print(removeDuplicates([0,0,1,1,2,2,3,3,4,4,4]))\n",
        "print(removeDuplicates([1, 2, 2, 3, 4, 4]))"
      ],
      "execution_count": null,
      "outputs": [
        {
          "output_type": "stream",
          "text": [
            "5\n",
            "4\n"
          ],
          "name": "stdout"
        }
      ]
    },
    {
      "cell_type": "markdown",
      "metadata": {
        "id": "8kJZgRwtfeze"
      },
      "source": [
        "##**Remove Duplicate Characters in a String**"
      ]
    },
    {
      "cell_type": "code",
      "metadata": {
        "colab": {
          "base_uri": "https://localhost:8080/"
        },
        "id": "nkreZoMad00_",
        "outputId": "d1d2cedf-187d-4d87-9fae-18fcc6247a11"
      },
      "source": [
        "# Python program to remvoe duplicate characters from an input string (0 log n)\n",
        "MAX_CHARS = 256\n",
        "# Since strings in Python are immutable and cannot be changed convert the string to list\n",
        "def toMutable(s):\n",
        "    List = []\n",
        "    for i in s:\n",
        "        List.append(i)\n",
        "    return List\n",
        "\n",
        "# changes list to string\n",
        "def toString(List):\n",
        "    return ''.join(List)\n",
        "\n",
        "# Removes duplicate characters from the string\n",
        "def removeDuplicates(s):\n",
        "    bin_hash = [0] * MAX_CHARS\n",
        "    input_ind = 0\n",
        "    result_ind = 0\n",
        "    temp = \"\"\n",
        "    mutableString = toMutable(s)\n",
        "\n",
        "    # Removal of duplicate characters\n",
        "    while input_ind != len(mutableString):\n",
        "        temp = mutableString[input_ind]\n",
        "        if bin_hash[ord(temp)] == 0:\n",
        "            bin_hash[ord(temp)] = 1\n",
        "            mutableString[result_ind] = mutableString[input_ind]\n",
        "            result_ind+=1\n",
        "        input_ind+=1\n",
        "    return toString(mutableString[0:result_ind])\n",
        "\n",
        "# Driver program to test the above functions\n",
        "s = \"bcabc\"\n",
        "print(removeDuplicates(string))"
      ],
      "execution_count": null,
      "outputs": [
        {
          "output_type": "stream",
          "text": [
            "geksfor\n"
          ],
          "name": "stdout"
        }
      ]
    },
    {
      "cell_type": "code",
      "metadata": {
        "colab": {
          "base_uri": "https://localhost:8080/"
        },
        "id": "MjsEm4UTflbT",
        "outputId": "58b330bf-a2a3-4079-c4b2-68605cc975ac"
      },
      "source": [
        "def removeDuplicates(s, n):\n",
        "    index = 0\n",
        "    for i in range(0, n):\n",
        "        for j in range(0, i + 1):\n",
        "            if (s[i] == s[j]):\n",
        "                break\n",
        "        if (j == i):\n",
        "            s[index] = s[i]\n",
        "            index += 1\n",
        "    s.sort(reverse = True)\n",
        "    return \"\".join(s[:index])\n",
        "# Driver code\n",
        "s= \"cbacdcccrtcgesaaaaaabc\"\n",
        "n = len(s)\n",
        "print(removeDuplicates(list(s), n))"
      ],
      "execution_count": null,
      "outputs": [
        {
          "output_type": "stream",
          "text": [
            "ttssrggee\n"
          ],
          "name": "stdout"
        }
      ]
    },
    {
      "cell_type": "markdown",
      "metadata": {
        "id": "T-YnVxvDamA3"
      },
      "source": [
        "##**Remove Element**\n",
        "Given an array nums and a value val, remove all instances of that value in-place and return the new length.Do not allocate extra space for another array, you must do this by modifying the input array in-place with O(1) extra memory.The order of elements can be changed. It doesn't matter what you leave beyond the new length.\n",
        "Clarification:Confused why the returned value is an integer but your answer is an array?Note that the input array is passed in by reference, which means a modification to the input array will be known to the caller as well.\n",
        "\n",
        "Internally you can think of this:"
      ]
    },
    {
      "cell_type": "code",
      "metadata": {
        "id": "ErUTgG6oa1oS"
      },
      "source": [
        "class Solution(object):\n",
        "    def removeElement(self, nums, val):\n",
        "        \"\"\"\n",
        "        :type nums: List[int]\n",
        "        :type val: int\n",
        "        :rtype: int\n",
        "        \"\"\"\n",
        "        for i in nums[:]:\n",
        "            if i == val:\n",
        "                nums.remove(val)\n",
        "                i += 1\n",
        "        return len(nums)\n",
        "\n"
      ],
      "execution_count": null,
      "outputs": []
    },
    {
      "cell_type": "markdown",
      "metadata": {
        "id": "80LpVndIkNoy"
      },
      "source": [
        "##*Max Profit from Selling Stock**\n"
      ]
    },
    {
      "cell_type": "code",
      "metadata": {
        "colab": {
          "base_uri": "https://localhost:8080/"
        },
        "id": "GpHDp19vkUzv",
        "outputId": "12edafb2-2dd9-4c50-de8a-942556122609"
      },
      "source": [
        "def buy_and_sell(stock_price):\n",
        "    max_profit_val, current_max_val = 0, 0\n",
        "    for price in reversed(stock_price):\n",
        "        current_max_val = max(current_max_val, price)\n",
        "        potential_profit = current_max_val - price\n",
        "        max_profit_val = max(potential_profit, max_profit_val)\n",
        "\n",
        "    return max_profit_val\n",
        "\n",
        "print(buy_and_sell([8, 10, 7, 5, 7, 15]))\n",
        "print(buy_and_sell([1, 2, 8, 1]))\n",
        "print(buy_and_sell([]))"
      ],
      "execution_count": null,
      "outputs": [
        {
          "output_type": "stream",
          "text": [
            "10\n",
            "7\n",
            "0\n"
          ],
          "name": "stdout"
        }
      ]
    },
    {
      "cell_type": "markdown",
      "metadata": {
        "id": "nJ6JNqMw1Gtt"
      },
      "source": [
        "##**Check whether a given number is a palindrome.**\n"
      ]
    },
    {
      "cell_type": "code",
      "metadata": {
        "colab": {
          "base_uri": "https://localhost:8080/"
        },
        "id": "DDiMgI491Hdg",
        "outputId": "17e6e781-a845-4aca-bf32-920ca0278d7c"
      },
      "source": [
        "n=int(input(\"Enter number:\"))\n",
        "temp=n\n",
        "rev=0\n",
        "while(n>0):\n",
        "    dig=n%10\n",
        "    rev=rev*10+dig\n",
        "    n=n//10\n",
        "if(temp==rev):\n",
        "    print(\"The number is a palindrome!\")\n",
        "else:\n",
        "    print(\"The number isn't a palindrome!\")"
      ],
      "execution_count": null,
      "outputs": [
        {
          "output_type": "stream",
          "text": [
            "Enter number:443\n",
            "The number isn't a palindrome!\n"
          ],
          "name": "stdout"
        }
      ]
    },
    {
      "cell_type": "markdown",
      "metadata": {
        "id": "MTv4Tg4sJt30"
      },
      "source": [
        "##**Power of Two**\n",
        "Given an integer, write a function to determine if it is a power of two.\n"
      ]
    },
    {
      "cell_type": "code",
      "metadata": {
        "id": "0jOHH_Tzikul"
      },
      "source": [
        "class Solution:\n",
        "    def isPowerOfTwo(self, n: int) -> bool:\n",
        "        return n and not (n & (n - 1))"
      ],
      "execution_count": null,
      "outputs": []
    },
    {
      "cell_type": "code",
      "metadata": {
        "id": "D-eG8RhGJr0r",
        "colab": {
          "base_uri": "https://localhost:8080/"
        },
        "outputId": "68ce5b5b-17dd-4603-8323-3171ff532b06"
      },
      "source": [
        "class Solution(object):\n",
        "    def isPowerOfTwo(self, x):\n",
        "        \"\"\"\n",
        "        :type n: int\n",
        "        :rtype: bool\n",
        "        \"\"\"\n",
        "        if x <= 0:\n",
        "            return False\n",
        "        else:\n",
        "            return x & (x - 1) == 0\n",
        "print(isPowerOfTwo(31))"
      ],
      "execution_count": null,
      "outputs": [
        {
          "output_type": "stream",
          "text": [
            "False\n"
          ],
          "name": "stdout"
        }
      ]
    },
    {
      "cell_type": "code",
      "metadata": {
        "colab": {
          "base_uri": "https://localhost:8080/"
        },
        "id": "ufCFRH2zUg5D",
        "outputId": "84ca8e25-30e2-4f37-b775-2c4537a97ead"
      },
      "source": [
        "def isPowerOfTwo(n):\n",
        "    if (x == 0):\n",
        "        return False\n",
        "    while (x != 1):\n",
        "            if (n % 2 != 0):\n",
        "                return False\n",
        "            x = x // 2\n",
        "    return True\n",
        "print(isPowerOfTwo(31))"
      ],
      "execution_count": null,
      "outputs": [
        {
          "output_type": "stream",
          "text": [
            "False\n"
          ],
          "name": "stdout"
        }
      ]
    },
    {
      "cell_type": "code",
      "metadata": {
        "id": "b3OXUTtzibyu"
      },
      "source": [
        "def isPowerOfTwo(n):\n",
        "    if (n == 0):\n",
        "        return False\n",
        "    while (n != 1):\n",
        "            if (n % 2 != 0):\n",
        "                return False\n",
        "            n = n // 2\n",
        "\n",
        "    return True"
      ],
      "execution_count": null,
      "outputs": []
    },
    {
      "cell_type": "markdown",
      "metadata": {
        "id": "AH7okSrLN77y"
      },
      "source": [
        "##**Power of Four**\n"
      ]
    },
    {
      "cell_type": "code",
      "metadata": {
        "colab": {
          "base_uri": "https://localhost:8080/"
        },
        "id": "j4wCGOB2OF0-",
        "outputId": "dfeeca14-ad74-4bb0-9678-7bf68ca22b7d"
      },
      "source": [
        "# Function1 to check if x is power of 4\n",
        "def is_Power_of_four(n):\n",
        "    while n and not (n & 0b11):\n",
        "        n >>= 2\n",
        "    return (n == 1)\n",
        "print(is_Power_of_four(4))\n",
        "print(is_Power_of_four(16))\n",
        "print(is_Power_of_four(255))"
      ],
      "execution_count": null,
      "outputs": [
        {
          "output_type": "stream",
          "text": [
            "True\n",
            "True\n",
            "False\n"
          ],
          "name": "stdout"
        }
      ]
    },
    {
      "cell_type": "code",
      "metadata": {
        "colab": {
          "base_uri": "https://localhost:8080/"
        },
        "id": "uXO2ZNhDPEyI",
        "outputId": "209cf6c3-126b-491b-94ff-d70c68c99395"
      },
      "source": [
        "# Function2 to check if x is power of 4\n",
        "def is_Power_of_four(n):\n",
        "    if (n == 0):\n",
        "        return False\n",
        "    while (n != 1):\n",
        "            if (n % 4 != 0):\n",
        "                return False\n",
        "            n = n // 4\n",
        "    return True\n",
        "print(is_Power_of_four(4))\n",
        "print(is_Power_of_four(16))\n",
        "print(is_Power_of_four(255))\n"
      ],
      "execution_count": null,
      "outputs": [
        {
          "output_type": "stream",
          "text": [
            "True\n",
            "True\n",
            "False\n"
          ],
          "name": "stdout"
        }
      ]
    },
    {
      "cell_type": "code",
      "metadata": {
        "colab": {
          "base_uri": "https://localhost:8080/"
        },
        "id": "hpyqW05aPgo6",
        "outputId": "a53633a4-c435-4757-f990-6fe366bb918e"
      },
      "source": [
        "# Function3 to check if x is power of 4\n",
        "def is_Power_of_four(n):\n",
        "    count = 0\n",
        "    if (n and (not(n & (n - 1)))):\n",
        "        while(n > 1):\n",
        "            n >>= 1\n",
        "            count += 1\n",
        "        if(count % 2 == 0):\n",
        "            return True\n",
        "        else:\n",
        "            return False\n",
        "print(is_Power_of_four(4))\n",
        "print(is_Power_of_four(16))\n",
        "print(is_Power_of_four(255))\n",
        ""
      ],
      "execution_count": null,
      "outputs": [
        {
          "output_type": "stream",
          "text": [
            "True\n",
            "True\n",
            "None\n"
          ],
          "name": "stdout"
        }
      ]
    },
    {
      "cell_type": "markdown",
      "metadata": {
        "id": "RkFaAOc0g68q"
      },
      "source": [
        "## **Power of Four**\n",
        "Given an integer (signed 32 bits), write a function to check whether it is a power of 4."
      ]
    },
    {
      "cell_type": "code",
      "metadata": {
        "id": "kaD5I_jXhAWI"
      },
      "source": [
        "class Solution:\n",
        "    def isPowerOfFour(self, num: int) -> bool:\n",
        "        return num > 0 and num & (num - 1) == 0 and num % 3 == 1"
      ],
      "execution_count": null,
      "outputs": []
    },
    {
      "cell_type": "markdown",
      "metadata": {
        "id": "eeUOLGZkTLh4"
      },
      "source": [
        "##**Sum of Digits in a Number**"
      ]
    },
    {
      "cell_type": "code",
      "metadata": {
        "colab": {
          "base_uri": "https://localhost:8080/"
        },
        "id": "98GKQUxmTJW3",
        "outputId": "99db411b-9b75-4595-832f-afc014368718"
      },
      "source": [
        "n=int(input(\"Enter a number:\"))\n",
        "tot=0\n",
        "while(n>0):\n",
        "    dig=n%10\n",
        "    tot=tot+dig\n",
        "    n=n//10\n",
        "print(\"The total sum of digits is:\",tot)"
      ],
      "execution_count": null,
      "outputs": [
        {
          "output_type": "stream",
          "text": [
            "Enter a number:45\n",
            "The total sum of digits is: 9\n"
          ],
          "name": "stdout"
        }
      ]
    },
    {
      "cell_type": "markdown",
      "metadata": {
        "id": "38-IHf79hOzz"
      },
      "source": [
        "##**Remove all the vowels from a string:**"
      ]
    },
    {
      "cell_type": "code",
      "metadata": {
        "id": "kyle3KhwT09e",
        "colab": {
          "base_uri": "https://localhost:8080/"
        },
        "outputId": "96494494-117e-4225-a304-b62aaa45610f"
      },
      "source": [
        "def remove_vowels(s):\n",
        "    vowels = \"aeiouAEIOU\"\n",
        "    s_without_vowels = \"\"\n",
        "    for x in s:\n",
        "        if x not in vowels:\n",
        "            s_without_vowels += x\n",
        "    return s_without_vowels\n",
        "print(remove_vowels(\"compsci\"))\n"
      ],
      "execution_count": null,
      "outputs": [
        {
          "output_type": "stream",
          "text": [
            "cmpsc\n"
          ],
          "name": "stdout"
        }
      ]
    },
    {
      "cell_type": "markdown",
      "metadata": {
        "id": "XZnx6Mdeh9Av"
      },
      "source": [
        "##**Find and return the index of ch in strng.Return -1 if ch does not occur in strng.**"
      ]
    },
    {
      "cell_type": "code",
      "metadata": {
        "colab": {
          "base_uri": "https://localhost:8080/"
        },
        "id": "bR1Nzo4pizvy",
        "outputId": "bdf73180-51dd-4312-adba-45c2798759c4"
      },
      "source": [
        "def find(strng, ch):\n",
        "    \"\"\"\n",
        "    Find and return the index of ch in strng.\n",
        "    Return -1 if ch does not occur in strng.\n",
        "    \"\"\"\n",
        "    ix = 0\n",
        "    while ix < len(strng):\n",
        "        if strng[ix] == ch:\n",
        "            return ix\n",
        "        ix += 1\n",
        "    return -1\n",
        "print(find(\"computer\", \"o\"))\n",
        "print(find(\"computer\", \"x\"))"
      ],
      "execution_count": null,
      "outputs": [
        {
          "output_type": "stream",
          "text": [
            "1\n",
            "-1\n"
          ],
          "name": "stdout"
        }
      ]
    },
    {
      "cell_type": "markdown",
      "metadata": {
        "id": "vf_hZtlRmDHE"
      },
      "source": [
        "##**Getting the largest even sum of an array with k element**s"
      ]
    },
    {
      "cell_type": "code",
      "metadata": {
        "colab": {
          "base_uri": "https://localhost:8080/"
        },
        "id": "vABRYyL2mK84",
        "outputId": "30eea04b-73b1-4de6-f8a6-5bf0a3656900"
      },
      "source": [
        "def FindMaximalEvenArray(a, k):\n",
        "    a = sorted(a)\n",
        "    chosen = a[len(a)-k:]\n",
        "    not_chosen = a[0:len(a)-k]\n",
        "\n",
        "    if sum(chosen) % 2 == 0:\n",
        "        return sum(chosen)\n",
        "\n",
        "    smallest_chosen_even = max((x for x in chosen if x % 2 == 0), None)\n",
        "    biggest_not_chosen_odd = max((x for x in not_chosen[::-1] if x % 2 != 0), None)\n",
        "    candidiate1 = smallest_chosen_even - biggest_not_chosen_odd  if smallest_chosen_even and biggest_not_chosen_odd else float(\"inf\")\n",
        "\n",
        "    smallest_chosen_odd = max((x for x in chosen if x % 2 != 0), None)\n",
        "    biggest_not_chosen_even = max((x for x in not_chosen[::-1] if x % 2 == 0), None)\n",
        "    candidiate2 = smallest_chosen_odd - biggest_not_chosen_even  if smallest_chosen_odd and biggest_not_chosen_even else float(\"inf\")\n",
        "\n",
        "    if candidiate1 == float(\"inf\") and candidiate2 == float(\"inf\"):\n",
        "        return -1\n",
        "    return sum(chosen) - min(candidiate1, candidiate2)\n",
        "\n",
        "a = [4,2,6,7,8]\n",
        "K = 3\n",
        "print(FindMaximalEvenArray(a, K))"
      ],
      "execution_count": null,
      "outputs": [
        {
          "output_type": "stream",
          "text": [
            "None\n"
          ],
          "name": "stdout"
        }
      ]
    },
    {
      "cell_type": "code",
      "metadata": {
        "colab": {
          "base_uri": "https://localhost:8080/"
        },
        "id": "oHN1rInGrTM0",
        "outputId": "076df6bb-c053-496e-94a0-366a133f81bb"
      },
      "source": [
        "def evenSumK(arr, N, K):\n",
        "    if (K > N):\n",
        "        return -1\n",
        "    maxSum = 0\n",
        "    Even = []\n",
        "    Odd = []\n",
        "    for i in range(N):\n",
        "        if (arr[i] % 2):\n",
        "            Odd.append(arr[i])\n",
        "        else:\n",
        "            Even.append(arr[i])\n",
        "    Odd.sort(reverse = False)\n",
        "    Even.sort(reverse = False)\n",
        "    i = len(Even) - 1\n",
        "    j = len(Odd) - 1\n",
        "    while (K > 0):\n",
        "        if (K % 2 == 1):\n",
        "            if (i >= 0):\n",
        "                maxSum += Even[i]\n",
        "                i -= 1\n",
        "            else:\n",
        "                return -1\n",
        "            K -= 1\n",
        "        elif (i >= 1 and j >= 1):\n",
        "            if (Even[i] + Even[i - 1] <=\n",
        "                 Odd[j] + Odd[j - 1]):\n",
        "                maxSum += Odd[j] + Odd[j - 1]\n",
        "                j -= 2\n",
        "            else:\n",
        "                maxSum += Even[i] + Even[i - 1]\n",
        "                i -= 2\n",
        "            K -= 2\n",
        "        elif (i >= 1):\n",
        "            maxSum += Even[i] + Even[i - 1]\n",
        "            i -= 2\n",
        "            K -= 2\n",
        "        elif (j >= 2):\n",
        "            maxSum += Odd[j] + Odd[j - 1]\n",
        "            j -= 2\n",
        "            K -= 2\n",
        "    return maxSum\n",
        "arr = [4,2,6,7,8]\n",
        "N = len(arr)\n",
        "K = 3\n",
        "print(evenSumK(arr, N, K))"
      ],
      "execution_count": null,
      "outputs": [
        {
          "output_type": "stream",
          "text": [
            "18\n"
          ],
          "name": "stdout"
        }
      ]
    },
    {
      "cell_type": "markdown",
      "metadata": {
        "id": "8acTC3F3u_01"
      },
      "source": [
        "##**Maximum slice problem**"
      ]
    },
    {
      "cell_type": "code",
      "metadata": {
        "id": "fuue5cjgvWMg"
      },
      "source": [
        "#Brute Force Solution\n",
        "def slow_max_slice(A):\n",
        "    n = len(A)\n",
        "    result = 0\n",
        "    for p in xrange(n):\n",
        "        for q in xrange(p, n):\n",
        "            sum = 0\n",
        "        for i in xrange(p, q + 1):\n",
        "            sum += A[i]\n",
        "            result = max(result, sum)\n",
        "    return result"
      ],
      "execution_count": null,
      "outputs": []
    },
    {
      "cell_type": "code",
      "metadata": {
        "id": "heIXzEf2vtng"
      },
      "source": [
        "def quadratic_max_slice(A, pref):\n",
        "    n = len(A)\n",
        "    result = 0\n",
        "    for p in xrange(n):\n",
        "        for q in xrange(p, n):\n",
        "            sum = pref[q + 1] - pref[p]\n",
        "        result = max(result, sum)\n",
        "    return result"
      ],
      "execution_count": null,
      "outputs": []
    },
    {
      "cell_type": "code",
      "metadata": {
        "id": "mNlb35BRwYun"
      },
      "source": [
        "def quadratic_max_slice(A):\n",
        "    n = len(A)\n",
        "    result = 0\n",
        "    for p in xrange(n):\n",
        "        sum = 0\n",
        "        for q in xrange(p, n):\n",
        "            sum += A[q]\n",
        "        result = max(result, sum)\n",
        "    return result"
      ],
      "execution_count": null,
      "outputs": []
    },
    {
      "cell_type": "code",
      "metadata": {
        "id": "IY3dlRJ1wkaw"
      },
      "source": [
        "def golden_max_slice(A):\n",
        "    max_ending = max_slice = 0\n",
        "    for a in A:\n",
        "        max_ending = max(0, max_ending + a)\n",
        "        max_slice = max(max_slice, max_ending)\n",
        "    return max_slice"
      ],
      "execution_count": null,
      "outputs": []
    },
    {
      "cell_type": "code",
      "metadata": {
        "id": "0keODmzKAO7s"
      },
      "source": [
        "# you can write to stdout for debugging purposes, e.g.\n",
        "# print(\"this is a debug message\")\n",
        "\n",
        "def solution(A):\n",
        "    # write your code in Python 3.6\n",
        "    pass\n",
        "    max_A = max(A)\n",
        "    max_end = max_slice = 0\n",
        "    if len(A) > 1:\n",
        "        for a in A:\n",
        "            max_end = max(0, max_end + a)\n",
        "            max_slice = max(max_slice, max_end)\n",
        "    else:\n",
        "        max_slice = max_A\n",
        "    return max_slice"
      ],
      "execution_count": null,
      "outputs": []
    },
    {
      "cell_type": "markdown",
      "metadata": {
        "id": "CDBDQer6Eg_p"
      },
      "source": [
        "##**Find the Missing Element**\n",
        "An array A consisting of N different integers is given. The array contains integers in the range [1..(N + 1)],"
      ]
    },
    {
      "cell_type": "code",
      "metadata": {
        "id": "HiAjbQQWEvB1"
      },
      "source": [
        "# you can write to stdout for debugging purposes, e.g.\n",
        "# print(\"this is a debug message\")\n",
        "\n",
        "def solution(A):\n",
        "    # write your code in Python 3.6\n",
        "    pass\n",
        "    n = len(A)\n",
        "    xor_sum = 0\n",
        "    for i in range(0, n):\n",
        "        xor_sum = xor_sum ^ A[i] ^ (i + 1)\n",
        "    return xor_sum^(n + 1)"
      ],
      "execution_count": null,
      "outputs": []
    },
    {
      "cell_type": "code",
      "metadata": {
        "colab": {
          "base_uri": "https://localhost:8080/"
        },
        "id": "DpbcOXsZFOwe",
        "outputId": "f2e12b6d-d7b6-4aad-e1eb-fe3d12ba2975"
      },
      "source": [
        "# getMissingNo takes list as argument\n",
        "def solution(A):\n",
        "    n = len(A)\n",
        "    total = (n + 1)*(n + 2)/2\n",
        "    sum_of_A = sum(A)\n",
        "    return total - sum_of_A\n",
        "# Driver program to test the above function\n",
        "A = [1, 2, 4, 5, 6]\n",
        "miss = getMissingNo(A)\n",
        "print(miss)"
      ],
      "execution_count": null,
      "outputs": [
        {
          "output_type": "stream",
          "text": [
            "3.0\n"
          ],
          "name": "stdout"
        }
      ]
    },
    {
      "cell_type": "markdown",
      "metadata": {
        "id": "3VsQrih-eJw2"
      },
      "source": [
        "##**Return number of times a substring occurs in a string.**\n"
      ]
    },
    {
      "cell_type": "code",
      "metadata": {
        "colab": {
          "base_uri": "https://localhost:8080/"
        },
        "id": "MwyyUtGGeNG_",
        "outputId": "35f52d7c-1bb6-4984-8e7f-d558b830dfb1"
      },
      "source": [
        "raw_string = \"EATARSTENATREAGANERICKVALENTINAEATDORETHEASEBASTIANKRISROBERTAEATIVONNEEAT\"\n",
        "def get_num_substrings(raw_string, sub_string):\n",
        "    num_substrings = 0\n",
        "    subs_len = len(sub_string)\n",
        "    for i in range(0, len(raw_string) - subs_len + 1):\n",
        "        if sub_string == raw_string[i: i + subs_len]:\n",
        "            num_substrings += 1\n",
        "    return num_substrings\n",
        "\n",
        "print (get_num_substrings(raw_string, 'EAT'))"
      ],
      "execution_count": null,
      "outputs": [
        {
          "output_type": "stream",
          "text": [
            "4\n"
          ],
          "name": "stdout"
        }
      ]
    },
    {
      "cell_type": "markdown",
      "metadata": {
        "id": "oNJws7VkicJd"
      },
      "source": [
        "##**Determine if it is a palindrome**\n",
        "Given a string, determine if it is a palindrome, considering only alphanumeric characters and ignoring cases."
      ]
    },
    {
      "cell_type": "code",
      "metadata": {
        "id": "lsWDuq3buE9p"
      },
      "source": [
        "class Solution:\n",
        "    def isPalindrome(self, s: str) -> bool:\n",
        "        l, r = 0, len(s) - 1\n",
        "        while l < r:\n",
        "            while l < r and not s[l].isalnum():\n",
        "                l += 1\n",
        "            while l < r and not s[r].isalnum():\n",
        "                r -= 1\n",
        "            if l < r:\n",
        "                if s[l].lower() != s[r].lower():\n",
        "                    return False\n",
        "                l += 1\n",
        "                r -= 1\n",
        "        return True"
      ],
      "execution_count": null,
      "outputs": []
    },
    {
      "cell_type": "code",
      "metadata": {
        "colab": {
          "base_uri": "https://localhost:8080/"
        },
        "id": "s9ZoU588tZhC",
        "outputId": "70c42df2-cba4-4777-cc63-0c582c5e5b3a"
      },
      "source": [
        "string = input(str(\"Enter a string:\"))\n",
        "str2 = \"\"\n",
        "for i in string:\n",
        "    str2 = i + str2\n",
        "if (string == str2):\n",
        "    print(\"Yes\")\n",
        "else:\n",
        "    print(\"No\")"
      ],
      "execution_count": null,
      "outputs": [
        {
          "output_type": "stream",
          "text": [
            "Enter a string:anna\n",
            "Yes\n"
          ],
          "name": "stdout"
        }
      ]
    },
    {
      "cell_type": "code",
      "metadata": {
        "colab": {
          "base_uri": "https://localhost:8080/"
        },
        "id": "0uexnYJpfFLu",
        "outputId": "66942789-7a46-4575-ad70-c0160ba127ff"
      },
      "source": [
        "def is_palindrome(string):\n",
        "    return string == string[::-1]\n",
        "\n",
        "print (is_palindrome('ANNA'))\n",
        "print (is_palindrome('ANNAA'))"
      ],
      "execution_count": null,
      "outputs": [
        {
          "output_type": "stream",
          "text": [
            "True\n",
            "False\n"
          ],
          "name": "stdout"
        }
      ]
    },
    {
      "cell_type": "code",
      "metadata": {
        "id": "YO9_gkobigu6"
      },
      "source": [
        "class Solution(object):\n",
        "    def isPalindrome(self, s):\n",
        "        \"\"\"\n",
        "        :type s: str\n",
        "        :rtype: bool\n",
        "        \"\"\"\n",
        "        x = \"\"\n",
        "        diff = ord('a') - ord('A')\n",
        "        for i in s:\n",
        "            if ord(i)>=ord('a') and ord(i)<=ord('z') or ord(i)>=ord(\"0\") and ord(i)<=ord(\"9\"):\n",
        "                x+=i\n",
        "            elif ord(i)>=ord('A') and ord(i)<=ord('Z'):\n",
        "                i = chr(diff+ord(i))\n",
        "                x+=i\n",
        "        return x == x[::-1]"
      ],
      "execution_count": null,
      "outputs": []
    },
    {
      "cell_type": "code",
      "metadata": {
        "id": "2GkEwAAgqkY6"
      },
      "source": [
        "class Solution(object):\n",
        "  def isPalindrome(str):\n",
        "      # Run loop from 0 to len/2\n",
        "      for i in range(0, int(len(str)/2)):\n",
        "          if str[i] != str[len(str)-i-1]:\n",
        "              return False\n",
        "      return True"
      ],
      "execution_count": null,
      "outputs": []
    },
    {
      "cell_type": "code",
      "metadata": {
        "id": "uFWu6Av3q2ih"
      },
      "source": [
        "class Solution(object):\n",
        "    def isPalindrome(s):\n",
        "        rev = ''.join(reversed(s))\n",
        "        if (s == rev):\n",
        "            return True\n",
        "        return False"
      ],
      "execution_count": null,
      "outputs": []
    },
    {
      "cell_type": "markdown",
      "metadata": {
        "id": "nmwnowJLkuAy"
      },
      "source": [
        "## **Remove Duplicates from Sorted List**"
      ]
    },
    {
      "cell_type": "code",
      "metadata": {
        "id": "UL-1Wf3WkwFi"
      },
      "source": [
        "# Definition for singly-linked list.\n",
        "class ListNode(object):\n",
        "    def __init__(self, val=0, next=None):\n",
        "        self.val = val\n",
        "        self.next = next\n",
        "class Solution(object):\n",
        "    def deleteDuplicates(self, head):\n",
        "        \"\"\"\n",
        "        :type head: ListNode\n",
        "        :rtype: ListNode\n",
        "        \"\"\"\n",
        "        if not head:\n",
        "            return head\n",
        "        if head.next:\n",
        "            if head.val == head.next.val:\n",
        "                head = self.deleteDuplicates(head.next)\n",
        "            else:\n",
        "                head.next = self.deleteDuplicates(head.next)\n",
        "        return head"
      ],
      "execution_count": null,
      "outputs": []
    },
    {
      "cell_type": "markdown",
      "metadata": {
        "id": "ef9Rb2N5liXP"
      },
      "source": [
        "##**Given two arrays, write a function to compute their intersection.**"
      ]
    },
    {
      "cell_type": "code",
      "metadata": {
        "id": "XskiSU3ilktJ"
      },
      "source": [
        "class Solution(object):\n",
        "    def intersection(self, nums1, nums2):\n",
        "        \"\"\"\n",
        "        :type nums1: List[int]\n",
        "        :type nums2: List[int]\n",
        "        :rtype: List[int]\n",
        "        \"\"\"\n",
        "        nums1 = set(nums1)\n",
        "        nums2 = set(nums2)\n",
        "        nums = nums1 & nums2\n",
        "        return nums"
      ],
      "execution_count": null,
      "outputs": []
    },
    {
      "cell_type": "markdown",
      "metadata": {
        "id": "P-MmmIpTmj4S"
      },
      "source": [
        "##**Determine whether an integer is a palindrome.**\n",
        "Determine whether an integer is a palindrome. An integer is a palindrome when it reads the same backward as forward.Follow up: Could you solve it without converting the integer to a string?\n",
        "\n",
        "Example 1:\n",
        "Input: x = 121\n",
        "Output: true"
      ]
    },
    {
      "cell_type": "code",
      "metadata": {
        "id": "BqHsU8Thmt8j"
      },
      "source": [
        "class Solution(object):\n",
        "    def isPalindrome(self, x):\n",
        "        \"\"\"\n",
        "        :type x: int\n",
        "        :rtype: bool\n",
        "        \"\"\"\n",
        "        if x < 0:\n",
        "            return False\n",
        "        revertedNumber = 0\n",
        "        while x > revertedNumber:\n",
        "            revertedNumber = revertedNumber*10 + x%10\n",
        "            x/=10\n",
        "        return x"
      ],
      "execution_count": null,
      "outputs": []
    },
    {
      "cell_type": "code",
      "metadata": {
        "colab": {
          "base_uri": "https://localhost:8080/"
        },
        "id": "BuQhfNbSm_Da",
        "outputId": "2b418d49-f0f2-4894-c970-94b93ff86e95"
      },
      "source": [
        "class Solution(object):\n",
        "   def isPalindrome(self, x):\n",
        "      \"\"\"\n",
        "      :type x: int\n",
        "      :rtype: bool\n",
        "      \"\"\"\n",
        "      val = str(x)\n",
        "      return val == val[::-1]\n",
        "ob1 = Solution()\n",
        "print(ob1.isPalindrome(424))\n",
        "print(ob1.isPalindrome(-565))"
      ],
      "execution_count": null,
      "outputs": [
        {
          "output_type": "stream",
          "text": [
            "True\n",
            "False\n"
          ],
          "name": "stdout"
        }
      ]
    },
    {
      "cell_type": "markdown",
      "metadata": {
        "id": "y7jteGQkoTgx"
      },
      "source": [
        "##**Remove an element from a linked list**"
      ]
    },
    {
      "cell_type": "code",
      "metadata": {
        "id": "myOIgYsfohzB"
      },
      "source": [
        "class ListNode(object):\n",
        "    def __init__(self, x):\n",
        "        self.val = x\n",
        "        self.next = None\n",
        "class Solution(object):\n",
        "    def removeElements(self, head, val):\n",
        "        dummy = ListNode(float(\"-inf\"))\n",
        "        dummy.next = head\n",
        "        prev, curr = dummy, dummy.next\n",
        "        while curr:\n",
        "            if curr.val == val:\n",
        "                prev.next = curr.next\n",
        "            else:\n",
        "                prev = curr\n",
        "            curr = curr.next\n",
        "        return dummy.next"
      ],
      "execution_count": null,
      "outputs": []
    },
    {
      "cell_type": "markdown",
      "metadata": {
        "id": "6PlTqXMQo9kS"
      },
      "source": [
        "##**Remove Element in Array**\n",
        "**Given an array nums and a value val, remove all instances of that value in-place and return the new length.**"
      ]
    },
    {
      "cell_type": "code",
      "metadata": {
        "id": "Er7lpyWXpGgx"
      },
      "source": [
        "class Solution(object):\n",
        "    def removeElement(self, nums, val):\n",
        "        \"\"\"\n",
        "        :type nums: List[int]\n",
        "        :type val: int\n",
        "        :rtype: int\n",
        "        \"\"\"\n",
        "        for i in nums[:]:\n",
        "            if i == val:\n",
        "                nums.remove(val)\n",
        "                i += 1\n",
        "        return len(nums)"
      ],
      "execution_count": null,
      "outputs": []
    },
    {
      "cell_type": "markdown",
      "metadata": {
        "id": "HHlj9hQjiyHl"
      },
      "source": [
        "## **Delete Node in a Linked List**\n",
        "Write a function to delete a node (except the tail) in a singly linked list, given only access to that node."
      ]
    },
    {
      "cell_type": "code",
      "metadata": {
        "id": "KuS-ut2Ti363"
      },
      "source": [
        "class Solution:\n",
        "    def deleteNode(self, node):\n",
        "        \"\"\" :type node: ListNode :rtype: void Do not return anything, modify node in-place instead. \"\"\"\n",
        "        node.val = node.next.val\n",
        "        node.next = node.next.next"
      ],
      "execution_count": null,
      "outputs": []
    },
    {
      "cell_type": "markdown",
      "metadata": {
        "id": "OSi1eAe2p3kB"
      },
      "source": [
        "##**Check Palindrome on LinkedList**\n",
        "**Suppose we have a linked list. We have to check whether the list elements are forming a palindrome or not**"
      ]
    },
    {
      "cell_type": "code",
      "metadata": {
        "colab": {
          "base_uri": "https://localhost:8080/"
        },
        "id": "uDJA5T61qD27",
        "outputId": "7a99b583-21d0-4654-e582-47d54583fc22"
      },
      "source": [
        "class ListNode:\n",
        "   def __init__(self, data, next = None):\n",
        "      self.data = data\n",
        "      self.next = next\n",
        "def make_list(elements):\n",
        "   head = ListNode(elements[0])\n",
        "   for element in elements[1:]:\n",
        "      ptr = head\n",
        "      while ptr.next:\n",
        "         ptr = ptr.next\n",
        "      ptr.next = ListNode(element)\n",
        "   return head\n",
        "class Solution(object):\n",
        "   def isPalindrome(self, head):\n",
        "      fast,slow = head,head\n",
        "      rev = None\n",
        "      flag = 1\n",
        "      if not head:\n",
        "         return True\n",
        "      while fast and fast.next:\n",
        "         if not fast.next.next:\n",
        "            flag = 0\n",
        "            break\n",
        "         fast = fast.next.next\n",
        "         temp = slow\n",
        "         slow = slow.next\n",
        "         temp.next = rev\n",
        "         rev = temp\n",
        "      #print(fast.val)\n",
        "      fast = slow.next\n",
        "      slow.next = rev\n",
        "      if flag:\n",
        "         slow = slow.next\n",
        "      while fast and slow:\n",
        "         if fast.data != slow.data:\n",
        "            return False\n",
        "         fast = fast.next\n",
        "         slow = slow.next\n",
        "      return True\n",
        "head = make_list([1,2,3,2,1])\n",
        "ob1 = Solution()\n",
        "print(ob1.isPalindrome(head))"
      ],
      "execution_count": null,
      "outputs": [
        {
          "output_type": "stream",
          "text": [
            "True\n"
          ],
          "name": "stdout"
        }
      ]
    },
    {
      "cell_type": "markdown",
      "metadata": {
        "id": "7pp9o3M1xqW9"
      },
      "source": [
        "## **Reverse the nodes of a linked list**\n",
        "Given a linked list, reverse the nodes of a linked list k at a time and return its modified list. k is a positive integer and is less than or equal to the length of the linked list. If the number of nodes is not a multiple of k then left-out nodes in the end should remain as it is.\""
      ]
    },
    {
      "cell_type": "code",
      "metadata": {
        "id": "d9AfhygsxX1A"
      },
      "source": [
        "def reverseKGroup(self, head, k):\n",
        "    dummy = jump = ListNode(0)\n",
        "    dummy.next = l = r = head\n",
        "    while True:\n",
        "        count = 0\n",
        "        while r and count < k:   # use r to locate the range\n",
        "            r = r.next\n",
        "            count += 1\n",
        "        if count == k:  # if size k satisfied, reverse the inner linked list\n",
        "            pre, cur = r, l\n",
        "            for _ in range(k):\n",
        "                cur.next, cur, pre = pre, cur.next, cur  # standard reversing\n",
        "            jump.next, jump, l = pre, l, r  # connect two k-groups\n",
        "        else:\n",
        "            return dummy.next"
      ],
      "execution_count": null,
      "outputs": []
    },
    {
      "cell_type": "markdown",
      "metadata": {
        "id": "VtZIfkmox_7c"
      },
      "source": [
        "##**Linked List Deep Copy**\n",
        "A linked list is given such that each node contains an additional random pointer which could point to any node in the list or null. Return a deep copy of the list."
      ]
    },
    {
      "cell_type": "code",
      "metadata": {
        "id": "KnZSwH0xx-jq"
      },
      "source": [
        "def copyRandomList(self, head):\n",
        "    # Insert each node's copy right after it, already copy .label\n",
        "    node = head\n",
        "    while node:\n",
        "        copy = RandomListNode(node.label)\n",
        "        copy.next = node.next\n",
        "        node.next = copy\n",
        "        node = copy.next\n",
        "    # Set each copy's .random\n",
        "    node = head\n",
        "    while node:\n",
        "        node.next.random = node.random and node.random.next\n",
        "        node = node.next.next\n",
        "    # Separate the copied list from the original, (re)setting every .next\n",
        "    node = head\n",
        "    copy = head_copy = head and head.next\n",
        "    while node:\n",
        "        node.next = node = copy.next\n",
        "        copy.next = copy = node and node.next\n",
        "    return head_copy"
      ],
      "execution_count": null,
      "outputs": []
    },
    {
      "cell_type": "markdown",
      "metadata": {
        "id": "Y9_SM8wRyLq5"
      },
      "source": [
        "##**Merge all the linked-lists**\n",
        "\"You are given an array of k linked-lists lists, each linked-list is sorted in ascending order. Merge all the linked-lists into one sorted linked-list and return it.\""
      ]
    },
    {
      "cell_type": "code",
      "metadata": {
        "id": "h3q4cyMzyfql"
      },
      "source": [
        "def mergeKLists(self, lists):\n",
        "        if lists is None:\n",
        "            return []\n",
        "        array = []\n",
        "        for n in lists:\n",
        "            while n != None:\n",
        "                array.append(n.val)\n",
        "                n = n.next\n",
        "        if array is None:\n",
        "            return []\n",
        "        array.sort()\n",
        "        listed = ListNode(0)\n",
        "        res = listed\n",
        "        for n in array:\n",
        "            new = ListNode(n)\n",
        "            while res.next!=None:\n",
        "                res = res.next\n",
        "            res.next = new\n",
        "            new = res.next\n",
        "        return listed.next"
      ],
      "execution_count": null,
      "outputs": []
    },
    {
      "cell_type": "code",
      "metadata": {
        "id": "jEM8GSFA-Xci"
      },
      "source": [
        "class Solution:\n",
        "    def mergeKLists(self, lists):\n",
        "        min_heap, i = [], 0\n",
        "        for head in lists:\n",
        "            if head != None:\n",
        "                min_heap.append( (head.val, i, head) )\n",
        "                i += 1\n",
        "        result=ListNode()\n",
        "        temp=result\n",
        "        heapq.heapify(min_heap)\n",
        "        while min_heap:\n",
        "            node_val, count, head=heapq.heappop(min_heap)\n",
        "            if head.next != None:\n",
        "                heapq.heappush(min_heap, (head.next.val, count, head.next))\n",
        "            result.next=head\n",
        "            result=result.next\n",
        "        result.next=None\n",
        "        return temp.next"
      ],
      "execution_count": null,
      "outputs": []
    },
    {
      "cell_type": "code",
      "metadata": {
        "id": "cCxXj_dS-5tN"
      },
      "source": [
        "class Solution:\n",
        "    def mergeKLists(self, lists):\n",
        "        # base cases\n",
        "        if len(lists) == 0:\n",
        "            return\n",
        "        if len(lists) == 1:\n",
        "            return lists[0]\n",
        "        l = []\n",
        "        # basically loop all linked lists and add the values to a new list l\n",
        "        for i in range(len(lists)):\n",
        "            if lists[i] == None:\n",
        "                continue\n",
        "            while lists[i]:\n",
        "                l.append(lists[i].val)\n",
        "                lists[i] = lists[i].next\n",
        "        if len(l) == 0:\n",
        "            return\n",
        "        # Sort the list\n",
        "        l.sort()\n",
        "        # Create a linked list with values from smallest to biggest from within the sorted list\n",
        "        Node = ListNode()\n",
        "        tmp = ListNode(l[0])\n",
        "        Node.next = tmp\n",
        "        for i in range(1, len(l)):\n",
        "            tmp.next  = ListNode(l[i])\n",
        "            tmp = tmp.next\n",
        "        return Node.next"
      ],
      "execution_count": null,
      "outputs": []
    },
    {
      "cell_type": "code",
      "metadata": {
        "id": "2oA7bSwa_Q_b"
      },
      "source": [
        "class Solution:\n",
        "    def mergeKLists(self, lists):\n",
        "        if not lists:\n",
        "            return None\n",
        "        ans = []\n",
        "        for node in lists:\n",
        "            curr = node\n",
        "            while curr:\n",
        "                ans.append(curr.val)\n",
        "                curr = curr.next\n",
        "        ans = sorted(ans)\n",
        "        current = dummy = ListNode(0)\n",
        "        for value in ans:\n",
        "            current.next = ListNode(value)\n",
        "            current = current.next\n",
        "        return dummy.next"
      ],
      "execution_count": null,
      "outputs": []
    },
    {
      "cell_type": "markdown",
      "metadata": {
        "id": "0mQbuxAw_psH"
      },
      "source": [
        "## **Swap every two adjacent nodes**\n",
        "Given a linked list, swap every two adjacent nodes and return its head. You may not modify the values in the list's nodes, only nodes itself may be changed.**"
      ]
    },
    {
      "cell_type": "code",
      "metadata": {
        "id": "dw-ClKHtAYwN"
      },
      "source": [
        "def swapPairs(self, head):\n",
        "    pre, pre.next = self, head\n",
        "    while pre.next and pre.next.next:\n",
        "        a = pre.next\n",
        "        b = a.next\n",
        "        pre.next, b.next, a.next = b, a, b.next\n",
        "        pre = a\n",
        "    return self.next"
      ],
      "execution_count": null,
      "outputs": []
    },
    {
      "cell_type": "code",
      "metadata": {
        "id": "nFm3_GQMAjrr"
      },
      "source": [
        "class Solution:\n",
        "    def swapPairs(self, head):\n",
        "        dummy = pre = ListNode(0)\n",
        "        pre.next = head\n",
        "        while pre.next and pre.next.next:\n",
        "            a = pre.next\n",
        "            b = a.next\n",
        "            pre.next, a.next, b.next = b, b.next, a\n",
        "            pre = a\n",
        "        return dummy.next"
      ],
      "execution_count": null,
      "outputs": []
    },
    {
      "cell_type": "markdown",
      "metadata": {
        "id": "tJP0kPABAt_D"
      },
      "source": [
        "##**Sort Linked List**\n",
        "Given the head of a linked list, return the list after sorting it in ascending order. Follow up: Can you sort the linked list in O(n logn) time and O(1) memory (i.e. constant space)?"
      ]
    },
    {
      "cell_type": "code",
      "metadata": {
        "id": "-d3QOdcDBSoJ"
      },
      "source": [
        "def sortList(self, head):\n",
        "        if not head:return None\n",
        "        nums=[]\n",
        "        while head:\n",
        "            nums.append(head.val)\n",
        "            head=head.next\n",
        "        nums.sort()\n",
        "        dummy=ListNode('dummy')\n",
        "        ptr=ListNode(nums[0])\n",
        "        dummy.next=ptr\n",
        "        for i in nums[1:]:\n",
        "            new=ListNode(i)\n",
        "            ptr.next=new\n",
        "            ptr=ptr.next\n",
        "        return dummy.next"
      ],
      "execution_count": null,
      "outputs": []
    },
    {
      "cell_type": "code",
      "metadata": {
        "id": "cTLDRPH4BCNv"
      },
      "source": [
        "class Solution:\n",
        "    def sortList(self, head):\n",
        "        def merge_sort(head):\n",
        "            if head.next:\n",
        "                slow,fast=head,head.next\n",
        "                while fast.next and fast.next.next:\n",
        "                    slow = slow.next\n",
        "                    fast = fast.next.next\n",
        "                right = slow.next\n",
        "                left = head\n",
        "                slow.next =None\n",
        "                return merge(merge_sort(left),merge_sort(right))\n",
        "            else:\n",
        "                return head\n",
        "        def merge(left,right):\n",
        "            pre = medium = ListNode(0)\n",
        "            while left and right:\n",
        "                if left.val <= right.val:\n",
        "                    medium.next,medium = left,left\n",
        "                    left = left.next\n",
        "                else:\n",
        "                    medium.next,medium = right,right\n",
        "                    right = right.next\n",
        "            if not left:\n",
        "                medium.next = right\n",
        "            if not right:\n",
        "                medium.next = left\n",
        "            return pre.next\n",
        "        if head:\n",
        "            return merge_sort(head)\n",
        "        else:\n",
        "            return None"
      ],
      "execution_count": null,
      "outputs": []
    },
    {
      "cell_type": "markdown",
      "metadata": {
        "id": "I_8sixllDDcq"
      },
      "source": [
        "##**Valid BST**\n",
        "Given a binary tree, determine if it is a valid binary search tree (BST)"
      ]
    },
    {
      "cell_type": "code",
      "metadata": {
        "id": "qisGOeNoDqG-"
      },
      "source": [
        "class Solution(object):\n",
        "    def isValidBST(self, root):\n",
        "        \"\"\"\n",
        "        :type root: TreeNode\n",
        "        :rtype: bool\n",
        "        \"\"\"\n",
        "        def visit(node, lb, ub):\n",
        "            if node:\n",
        "                if not visit(node.left, lb, node):\n",
        "                    return False\n",
        "                if lb and node.val <= lb.val:\n",
        "                    return False\n",
        "                if ub and node.val >= ub.val:\n",
        "                    return False\n",
        "                return visit(node.right, node, ub)\n",
        "            else:\n",
        "                return True\n",
        "        return visit(root, None, None)"
      ],
      "execution_count": null,
      "outputs": []
    },
    {
      "cell_type": "code",
      "metadata": {
        "id": "e0OWhIyuED8O"
      },
      "source": [
        "def isValidBST(self, root, lower=float(\"-inf\"), upper=float(\"inf\")):\n",
        "        \"\"\"\n",
        "        :type root: TreeNode\n",
        "        :rtype: bool\n",
        "        \"\"\"\n",
        "        # Base case: null node\n",
        "        if not root:\n",
        "            return True\n",
        "        # Base case: node value out of range\n",
        "        if root.val <= lower or root.val >= upper:\n",
        "            return False\n",
        "        # Recursive case: check left and right subtrees\n",
        "        return self.isValidBST(root.left,lower,root.val) and self.isValidBST(root.right,root.val,upper)"
      ],
      "execution_count": null,
      "outputs": []
    },
    {
      "cell_type": "markdown",
      "metadata": {
        "id": "Jbx5fCz_pwlv"
      },
      "source": [
        "## **Longest Common Subsequence**"
      ]
    },
    {
      "cell_type": "code",
      "metadata": {
        "id": "mMBe2vGYp02d"
      },
      "source": [
        "def lcs(X, Y, s, t):\n",
        "\n",
        "    if s == 0 or t == 0:\n",
        "       return 0;\n",
        "    elif X[s-1] == Y[t-1]:\n",
        "       return 1 + lcs(X, Y, s-1, t-1);\n",
        "    else:\n",
        "       return max(lcs(X, Y, s, t-1), lcs(X, Y, s-1, t));"
      ],
      "execution_count": null,
      "outputs": []
    },
    {
      "cell_type": "markdown",
      "metadata": {
        "id": "17Rh3odKr2MN"
      },
      "source": [
        "## **Remove Duplicates**"
      ]
    },
    {
      "cell_type": "code",
      "metadata": {
        "id": "OPIgYeQfr2jc"
      },
      "source": [
        "class Solution:\n",
        "    def removeDuplicates(self, nums)\n",
        "        i = 0\n",
        "        for n in nums:\n",
        "            if i < 2 or n != nums[i - 2]:\n",
        "                nums[i] = n\n",
        "                i += 1\n",
        "        return i"
      ],
      "execution_count": null,
      "outputs": []
    },
    {
      "cell_type": "markdown",
      "metadata": {
        "id": "2JaIXv8vdccl"
      },
      "source": [
        "## **Contains Duplicate III**\n",
        "Given an array of integers, find out whether there are two distinct indices i and j in the array such that the absolute difference between nums[i] and nums[j] is at most t and the absolute difference between i and j is at most k."
      ]
    },
    {
      "cell_type": "code",
      "metadata": {
        "id": "NaoF_bk8dnI6"
      },
      "source": [
        "class Solution:\n",
        "    def containsNearbyAlmostDuplicate(self, nums: List[int], k: int, t: int) -> bool:\n",
        "        if t == 0 and len(nums) == len(set(nums)):\n",
        "            return False\n",
        "        if k == 0 or t < 0:\n",
        "            return False\n",
        "        for i, num in enumerate(nums):\n",
        "            for j in range(i + 1, min(i + k + 1, len(nums))):\n",
        "                if abs(num - nums[j]) <= t:\n",
        "                    return True\n",
        "        return False"
      ],
      "execution_count": null,
      "outputs": []
    },
    {
      "cell_type": "code",
      "metadata": {
        "id": "K3oSSJ8-drY-"
      },
      "source": [
        "class Solution:\n",
        "    def containsNearbyAlmostDuplicate(self, nums: List[int], k: int, t: int) -> bool:\n",
        "        if t == 0 and len(nums) == len(set(nums)):\n",
        "            return False\n",
        "        if k == 0 or t < 0:\n",
        "            return False\n",
        "        bucket = {}\n",
        "        n = len(nums)\n",
        "        for i in range(n):\n",
        "            m = nums[i] // (t + 1)\n",
        "            if m in bucket:\n",
        "                return True\n",
        "            if m - 1 in bucket:\n",
        "                if abs(nums[i] - bucket[m - 1]) <= t:\n",
        "                    return True\n",
        "            if m + 1 in bucket:\n",
        "                if abs(nums[i] - bucket[m + 1]) <= t:\n",
        "                    return True\n",
        "            if i >= k:\n",
        "                del bucket[nums[i - k] // (t + 1)]\n",
        "            bucket[m] = nums[i]\n",
        "        return False"
      ],
      "execution_count": null,
      "outputs": []
    },
    {
      "cell_type": "markdown",
      "metadata": {
        "id": "exyq9L4Zsvm2"
      },
      "source": [
        "## **Validate Binary Search Tree**"
      ]
    },
    {
      "cell_type": "code",
      "metadata": {
        "id": "vdc0oGWhswq9"
      },
      "source": [
        "class Solution:\n",
        "    def isValidBST(self, root):\n",
        "        def check(root, l, r):\n",
        "            if root == None:\n",
        "                return True\n",
        "            val = root.val\n",
        "            if val <= l or val >= r:\n",
        "                return False\n",
        "            return check(root.left, l, val) and check(root.right, val, r)\n",
        "        return check(root, float('-inf'), float('inf'))"
      ],
      "execution_count": null,
      "outputs": []
    },
    {
      "cell_type": "markdown",
      "metadata": {
        "id": "7xKHpcc9dS_R"
      },
      "source": [
        "## **Maximal Square**\n",
        "Given a 2D binary matrix filled with 0’s and 1’s, find the largest square containing only 1’s and return its area"
      ]
    },
    {
      "cell_type": "code",
      "metadata": {
        "id": "n9cf8dhqeA9h"
      },
      "source": [
        "class Solution:\n",
        "    def maximalSquare(self, matrix: List[List[str]]) -> int:\n",
        "        m = len(matrix)\n",
        "        if m == 0:\n",
        "            return 0\n",
        "        n = len(matrix[0])\n",
        "        if n == 0:\n",
        "            return 0\n",
        "        res = 0\n",
        "        dp1 = [0] * (n + 1)\n",
        "        dp2 = [0] * (n + 1)\n",
        "        for i in range(1, m + 1):\n",
        "            for j in range(1, n + 1):\n",
        "                if matrix[i - 1][j - 1] == \"1\":\n",
        "                    dp2[j] = min(dp1[j - 1], dp1[j], dp2[j - 1]) + 1\n",
        "                    res = max(res, dp2[j])\n",
        "                else:\n",
        "                    dp2[j] = 0\n",
        "            dp1 = dp2[:]\n",
        "        return res * res"
      ],
      "execution_count": null,
      "outputs": []
    },
    {
      "cell_type": "markdown",
      "metadata": {
        "id": "S_O-eVPHg0ZS"
      },
      "source": [
        "## **Summary Ranges**\n",
        "You are given a sorted unique integer array nums.\n",
        "Return the smallest sorted list of ranges that cover all the numbers in the array exactly. That is, each element of nums is covered by exactly one of the ranges, and there is no integer x such that x is in one of the ranges but not in nums.Each range [a,b] in the list should be output as:\n",
        "\n",
        "“a->b” if a != b\n",
        "“a” if a == b"
      ]
    },
    {
      "cell_type": "code",
      "metadata": {
        "id": "Yo-2wfk_g7_F"
      },
      "source": [
        "class Solution:\n",
        "    def summaryRanges(self, nums: List[int]) -> List[str]:\n",
        "        l = len(nums)\n",
        "        if l == 0:\n",
        "            return []\n",
        "        nums.append(float('inf'))\n",
        "        res, start = [], 0\n",
        "        for i in range(l):\n",
        "            if nums[i + 1] != nums[i] + 1:\n",
        "                res.append(str(nums[i]) if i == start else \"%s->%s\" % (nums[start], nums[i]))\n",
        "                start = i + 1\n",
        "        return res"
      ],
      "execution_count": null,
      "outputs": []
    },
    {
      "cell_type": "markdown",
      "metadata": {
        "id": "bKjC7kQXjF0J"
      },
      "source": [
        "## **Product of Array Except Self**\n",
        "Given an array nums of n integers where n > 1, return an array output such that output[i] is equal to the product of all the elements of nums except nums[i]."
      ]
    },
    {
      "cell_type": "code",
      "metadata": {
        "id": "1v2tGayVjO9I"
      },
      "source": [
        "class Solution:\n",
        "    def productExceptSelf(self, nums: List[int]) -> List[int]:\n",
        "        l = len(nums)\n",
        "        res = [1] * l\n",
        "        # l -> r         for i in range(1, l):\n",
        "            res[i] = res[i - 1] * nums[i - 1]\n",
        "        # r -> l         productR = 1\n",
        "        for i in range(l-1, -1, -1):\n",
        "            res[i] *= productR\n",
        "            productR *= nums[i]\n",
        "        return res"
      ],
      "execution_count": null,
      "outputs": []
    },
    {
      "cell_type": "markdown",
      "metadata": {
        "id": "ngY97y-WjRoT"
      },
      "source": [
        "## **Sliding Window Maximum**\n",
        "You are given an array of integers nums, there is a sliding window of size k which is moving from the very left of the array to the very right. You can only see the k numbers in the window. Each time the sliding window moves right by one position.Return the max sliding window."
      ]
    },
    {
      "cell_type": "code",
      "metadata": {
        "id": "Ki-32TUYjcX1"
      },
      "source": [
        "from collections import deque\n",
        "class Solution:\n",
        "    def maxSlidingWindow(self, nums: List[int], k: int) -> List[int]:\n",
        "        n = len(nums)\n",
        "        res = []\n",
        "        q = deque()\n",
        "        for i in range(n):\n",
        "            while q and nums[q[-1]] < nums[i]:\n",
        "                q.pop()\n",
        "            q.append(i)\n",
        "            if q[0] == i - k:\n",
        "                q.popleft()\n",
        "            if i >= k - 1:\n",
        "                res.append(nums[q[0]])\n",
        "        return res"
      ],
      "execution_count": null,
      "outputs": []
    },
    {
      "cell_type": "markdown",
      "metadata": {
        "id": "YUur8JVPjh1o"
      },
      "source": [
        "## **Add Digits**\n",
        "Given a non-negative integer num, repeatedly add all its digits until the result has only one digit."
      ]
    },
    {
      "cell_type": "code",
      "metadata": {
        "id": "Zgc40AjsjnAz"
      },
      "source": [
        "class Solution:\n",
        "    def addDigits(self, num: int) -> int:\n",
        "        if num <= 9:\n",
        "            return num\n",
        "        tmp = 0\n",
        "        while num > 0:\n",
        "            tmp += num % 10\n",
        "            num //= 10\n",
        "        return self.addDigits(tmp)"
      ],
      "execution_count": null,
      "outputs": []
    },
    {
      "cell_type": "code",
      "metadata": {
        "id": "K5KLvti6jrmI"
      },
      "source": [
        "class Solution:\n",
        "    def addDigits(self, num: int) -> int:\n",
        "        return (num - 1) % 9 + 1 if num else 0"
      ],
      "execution_count": null,
      "outputs": []
    },
    {
      "cell_type": "markdown",
      "metadata": {
        "id": "-9ovs7FUnCvh"
      },
      "source": [
        "## **H-Index**\n",
        "Given an array of citations (each citation is a non-negative integer) of a researcher, write a function to compute the researcher’s h-index. According to the definition of h-index on Wikipedia: “A scientist has index h if h of his/her N papers have at least h citations each, and the other N − h papers have no more than h citations each.”"
      ]
    },
    {
      "cell_type": "code",
      "metadata": {
        "id": "_ZnzEF72nCS5"
      },
      "source": [
        "class Solution:\n",
        "    def hIndex(self, citations: List[int]) -> int:\n",
        "        n = len(citations)\n",
        "        paper = [0] * (n + 1)\n",
        "        for c in citations:\n",
        "            paper[min(n, c)] += 1\n",
        "        s, h = paper[-1], n\n",
        "        while h > s:\n",
        "            h -= 1\n",
        "            s += paper[h]\n",
        "        return h"
      ],
      "execution_count": null,
      "outputs": []
    },
    {
      "cell_type": "markdown",
      "metadata": {
        "id": "jRmOxQpenMNG"
      },
      "source": [
        "## **H-Index II**\n",
        "Given an array of citations sorted in ascending order (each citation is a non-negative integer) of a researcher, write a function to compute the researcher’s h-index.\n",
        "According to the definition of h-index on Wikipedia: “A scientist has index h if h of his/her N papers have at least h citations each, and the other N − h papers have no more than h citations each.”"
      ]
    },
    {
      "cell_type": "code",
      "metadata": {
        "id": "7KkWnpl3nWlT"
      },
      "source": [
        "class Solution:\n",
        "    def hIndex(self, citations: List[int]) -> int:\n",
        "        n = len(citations)\n",
        "        l, r = 0, n - 1\n",
        "        while l <= r:\n",
        "            mid = (l + r) // 2\n",
        "            if citations[mid] == n - mid:\n",
        "                return n - mid\n",
        "            if citations[mid] > n - mid:\n",
        "                r = mid - 1\n",
        "            else:\n",
        "                l = mid + 1\n",
        "        return n - l"
      ],
      "execution_count": null,
      "outputs": []
    },
    {
      "cell_type": "markdown",
      "metadata": {
        "id": "xWyE3F5znbXj"
      },
      "source": [
        "## **First Bad Version**\n",
        "You are a product manager and currently leading a team to develop a new product. Unfortunately, the latest version of your product fails the quality check. Since each version is developed based on the previous version, all the versions after a bad version are also bad.\n",
        "Suppose you have n versions [1, 2, …, n] and you want to find out the first bad one, which causes all the following ones to be bad.\n",
        "You are given an API bool isBadVersion(version) which will return whether version is bad. Implement a function to find the first bad version. You should minimize the number of calls to the API."
      ]
    },
    {
      "cell_type": "code",
      "metadata": {
        "id": "OcjzyCu4nhAz"
      },
      "source": [
        "class Solution:\n",
        "    def firstBadVersion(self, n):\n",
        "        \"\"\" :type n: int :rtype: int \"\"\"\n",
        "        l, r = 1, n\n",
        "        while l < r:\n",
        "            m = (l + r) // 2\n",
        "            if isBadVersion(m):\n",
        "                r = m\n",
        "            else:\n",
        "                l = m + 1\n",
        "        return l"
      ],
      "execution_count": null,
      "outputs": []
    },
    {
      "cell_type": "markdown",
      "metadata": {
        "id": "9zUfaeMKnmPZ"
      },
      "source": [
        "## **Perfect Squares**\n",
        "Given a positive integer n, find the least number of perfect square numbers (for example, 1, 4, 9, 16, …) which sum to n."
      ]
    },
    {
      "cell_type": "code",
      "metadata": {
        "id": "513Obn1intdF"
      },
      "source": [
        "class Solution:\n",
        "    def numSquares(self, n: int) -> int:\n",
        "        square_nums = [i**2 for i in range(1, int(math.sqrt(n)) + 1)]\n",
        "        dp = [float('inf')] * (n + 1)\n",
        "        dp[0] = 0\n",
        "        for i in range(1, n+1):\n",
        "            for square in square_nums:\n",
        "                if i < square:\n",
        "                    break\n",
        "                dp[i] = min(dp[i], dp[i - square] + 1)\n",
        "        return dp[-1]"
      ],
      "execution_count": null,
      "outputs": []
    },
    {
      "cell_type": "code",
      "metadata": {
        "id": "tHZzEXLSnuDb"
      },
      "source": [
        "class Solution:\n",
        "    def numSquares(self, n: int) -> int:\n",
        "        square_nums = [i**2 for i in range(1, int(math.sqrt(n)) + 1)]\n",
        "        level = 0\n",
        "        queue = {n}\n",
        "        while queue:\n",
        "            level += 1\n",
        "            tmp = set()\n",
        "            for num in queue:\n",
        "                for sq in square_nums:\n",
        "                    if num == sq:\n",
        "                        return level\n",
        "                    elif num < sq:\n",
        "                        break\n",
        "                    else:\n",
        "                        tmp.add(num - sq)\n",
        "            queue = tmp"
      ],
      "execution_count": null,
      "outputs": []
    },
    {
      "cell_type": "code",
      "metadata": {
        "id": "KHgCFsS7nxx7"
      },
      "source": [
        "class Solution:\n",
        "    def numSquares(self, n: int) -> int:\n",
        "        def check(n):\n",
        "            return (math.sqrt(n) - int(math.sqrt(n)) < 0.00000001)\n",
        "\n",
        "        if check(n):\n",
        "            return 1\n",
        "        while n % 4 == 0:\n",
        "            n /= 4\n",
        "        if (n - 7) % 8 == 0:\n",
        "            return 4\n",
        "        for i in range(int(math.sqrt(n))):\n",
        "            if check(n-(i+1)*(i+1)):\n",
        "                return 2\n",
        "        return 3"
      ],
      "execution_count": null,
      "outputs": []
    },
    {
      "cell_type": "markdown",
      "metadata": {
        "id": "AqyJo27ch_N4"
      },
      "source": [
        "## **Find the three elements that sum to zero from a set (array) of n real numbers.**"
      ]
    },
    {
      "cell_type": "code",
      "metadata": {
        "colab": {
          "base_uri": "https://localhost:8080/"
        },
        "id": "28rp0l1JiDTW",
        "outputId": "fc4dea41-7f81-45e1-e3e6-f28223bc4725"
      },
      "source": [
        "class py_solution:\n",
        " def threeSum(self, nums):\n",
        "        nums, result, i = sorted(nums), [], 0\n",
        "        while i < len(nums) - 2:\n",
        "            j, k = i + 1, len(nums) - 1\n",
        "            while j < k:\n",
        "                if nums[i] + nums[j] + nums[k] < 0:\n",
        "                    j += 1\n",
        "                elif nums[i] + nums[j] + nums[k] > 0:\n",
        "                    k -= 1\n",
        "                else:\n",
        "                    result.append([nums[i], nums[j], nums[k]])\n",
        "                    j, k = j + 1, k - 1\n",
        "                    while j < k and nums[j] == nums[j - 1]:\n",
        "                        j += 1\n",
        "                    while j < k and nums[k] == nums[k + 1]:\n",
        "                        k -= 1\n",
        "            i += 1\n",
        "            while i < len(nums) - 2 and nums[i] == nums[i - 1]:\n",
        "                i += 1\n",
        "        return result\n",
        "\n",
        "print(py_solution().threeSum([-25, -10, -7, -3, 2, 4, 8, 10]))"
      ],
      "execution_count": null,
      "outputs": [
        {
          "output_type": "stream",
          "text": [
            "[[-10, 2, 8], [-7, -3, 10]]\n"
          ],
          "name": "stdout"
        }
      ]
    },
    {
      "cell_type": "markdown",
      "metadata": {
        "id": "waF4Faskiqlv"
      },
      "source": []
    },
    {
      "cell_type": "markdown",
      "metadata": {
        "id": "6DoDBZgMiquR"
      },
      "source": [
        "## **Reverse a string word by word**"
      ]
    },
    {
      "cell_type": "code",
      "metadata": {
        "colab": {
          "base_uri": "https://localhost:8080/"
        },
        "id": "U_EUeY6pi5AG",
        "outputId": "44ba1f4d-0c92-4c0d-c6af-8e14d1b19f24"
      },
      "source": [
        "class py_solution:\n",
        "    def reverse_words(self, s):\n",
        "        return ' '.join(reversed(s.split()))\n",
        "print(py_solution().reverse_words('This is It'))"
      ],
      "execution_count": null,
      "outputs": [
        {
          "output_type": "stream",
          "text": [
            "It is This\n"
          ],
          "name": "stdout"
        }
      ]
    },
    {
      "cell_type": "markdown",
      "metadata": {
        "id": "9eD3lnPIjZih"
      },
      "source": [
        "## **Implement pow(x, n)**"
      ]
    },
    {
      "cell_type": "code",
      "metadata": {
        "colab": {
          "base_uri": "https://localhost:8080/"
        },
        "id": "LMgxIAmWjjq3",
        "outputId": "c5504e67-1481-40e1-db8a-fe07cdb1ff10"
      },
      "source": [
        "class py_solution:\n",
        "   def pow(self, x, n):\n",
        "        if x==0 or x==1 or n==1:\n",
        "            return x\n",
        "        if x==-1:\n",
        "            if n%2 ==0:\n",
        "                return 1\n",
        "            else:\n",
        "                return -1\n",
        "        if n==0:\n",
        "            return 1\n",
        "        if n<0:\n",
        "            return 1/self.pow(x,-n)\n",
        "        val = self.pow(x,n//2)\n",
        "        if n%2 ==0:\n",
        "            return val*val\n",
        "        return val*val*x\n",
        "print(py_solution().pow(2, -3));\n",
        "print(py_solution().pow(3, 5));\n",
        "print(py_solution().pow(100, 0));"
      ],
      "execution_count": null,
      "outputs": [
        {
          "output_type": "stream",
          "text": [
            "0.125\n",
            "243\n",
            "1\n"
          ],
          "name": "stdout"
        }
      ]
    },
    {
      "cell_type": "markdown",
      "metadata": {
        "id": "ZCRZf1XajN-J"
      },
      "source": [
        "## **Pair Sum to Target**\n",
        "Find a pair of elements (indices of the two numbers) from a given array whose sum equals a specific target number."
      ]
    },
    {
      "cell_type": "code",
      "metadata": {
        "colab": {
          "base_uri": "https://localhost:8080/"
        },
        "id": "3U-jWNKBk4YX",
        "outputId": "e0eac7d1-2f9b-40e1-fb59-88a71fea109f"
      },
      "source": [
        "class Solution:\n",
        "   def twoSum(self, nums, target):\n",
        "        lookup = {}\n",
        "        for i, num in enumerate(nums):\n",
        "            if target - num in lookup:\n",
        "                return (lookup[target - num], i )\n",
        "            lookup[num] = i\n",
        "print(\"index1=%d, index2=%d\" %  Solution().twoSum((10,20,10,40,50,60,70),50))"
      ],
      "execution_count": null,
      "outputs": [
        {
          "output_type": "stream",
          "text": [
            "index1=2, index2=3\n"
          ],
          "name": "stdout"
        }
      ]
    },
    {
      "cell_type": "markdown",
      "metadata": {
        "id": "F0ss0doZlQ44"
      },
      "source": [
        "## **Unique subsets from a set**\n",
        "Find all possible unique subsets from a set of distinct integers"
      ]
    },
    {
      "cell_type": "code",
      "metadata": {
        "id": "vpXXwhCSla0D"
      },
      "source": [
        "class py_solution:\n",
        "    def sub_sets(self, sset):\n",
        "        return self.subsetsRecur([], sorted(sset))\n",
        "\n",
        "    def subsetsRecur(self, current, sset):\n",
        "        if sset:\n",
        "            return self.subsetsRecur(current, sset[1:]) + self.subsetsRecur(current + [sset[0]], sset[1:])\n",
        "        return [current]\n",
        "\n",
        "print(py_solution().sub_sets([4,5,6]))"
      ],
      "execution_count": null,
      "outputs": []
    },
    {
      "cell_type": "markdown",
      "metadata": {
        "id": "KRCb23wZluZv"
      },
      "source": [
        "## **First Bad Version**\n",
        "You are a product manager and currently leading a team to develop a new product. Unfortunately, the latest version of your product fails the quality check. Since each version is developed based on the previous version, all the versions after a bad version are also bad.Suppose you have n versions [1, 2, …, n] and you want to find out the first bad one, which causes all the following ones to be bad.You are given an API bool isBadVersion(version) which will return whether version is bad. Implement a function to find the first bad version. You should minimize the number of calls to the API."
      ]
    },
    {
      "cell_type": "code",
      "metadata": {
        "id": "lvWJTiUUl1D5"
      },
      "source": [
        "class Solution:\n",
        "    def firstBadVersion(self, n):\n",
        "        \"\"\" :type n: int :rtype: int \"\"\"\n",
        "        l, r = 1, n\n",
        "        while l < r:\n",
        "            m = (l + r) // 2\n",
        "            if isBadVersion(m):\n",
        "                r = m\n",
        "            else:\n",
        "                l = m + 1\n",
        "        return l"
      ],
      "execution_count": null,
      "outputs": []
    },
    {
      "cell_type": "markdown",
      "metadata": {
        "id": "zqiAWgzunuAq"
      },
      "source": [
        "## **Perfect Squares**\n",
        "Given a positive integer n, find the least number of perfect square numbers (for example, 1, 4, 9, 16, …) which sum to n."
      ]
    },
    {
      "cell_type": "code",
      "metadata": {
        "id": "ovFzpGVYoJ3Q"
      },
      "source": [
        "class Solution:\n",
        "    def numSquares(self, n: int) -> int:\n",
        "        square_nums = [i**2 for i in range(1, int(math.sqrt(n)) + 1)]\n",
        "        dp = [float('inf')] * (n + 1)\n",
        "        dp[0] = 0\n",
        "        for i in range(1, n+1):\n",
        "            for square in square_nums:\n",
        "                if i < square:\n",
        "                    break\n",
        "                dp[i] = min(dp[i], dp[i - square] + 1)\n",
        "        return dp[-1]"
      ],
      "execution_count": null,
      "outputs": []
    },
    {
      "cell_type": "code",
      "metadata": {
        "id": "eaweHHOzoDFb"
      },
      "source": [
        "class Solution:\n",
        "    def numSquares(self, n: int) -> int:\n",
        "        square_nums = [i**2 for i in range(1, int(math.sqrt(n)) + 1)]\n",
        "        level = 0\n",
        "        queue = {n}\n",
        "        while queue:\n",
        "            level += 1\n",
        "            tmp = set()\n",
        "            for num in queue:\n",
        "                for sq in square_nums:\n",
        "                    if num == sq:\n",
        "                        return level\n",
        "                    elif num < sq:\n",
        "                        break\n",
        "                    else:\n",
        "                        tmp.add(num - sq)\n",
        "            queue = tmp"
      ],
      "execution_count": null,
      "outputs": []
    },
    {
      "cell_type": "code",
      "metadata": {
        "id": "Cuv6zcQQoEGf"
      },
      "source": [
        "class Solution:\n",
        "    def numSquares(self, n: int) -> int:\n",
        "        def check(n):\n",
        "            return (math.sqrt(n) - int(math.sqrt(n)) < 0.00000001)\n",
        "\n",
        "        if check(n):\n",
        "            return 1\n",
        "        while n % 4 == 0:\n",
        "            n /= 4\n",
        "        if (n - 7) % 8 == 0:\n",
        "            return 4\n",
        "        for i in range(int(math.sqrt(n))):\n",
        "            if check(n-(i+1)*(i+1)):\n",
        "                return 2\n",
        "        return 3"
      ],
      "execution_count": null,
      "outputs": []
    },
    {
      "cell_type": "markdown",
      "metadata": {
        "id": "jdrVWntjoLC7"
      },
      "source": [
        "## **Move Zeroes**\n",
        "Given an array nums, write a function to move all 0’s to the end of it while maintaining the relative order of the non-zero elements."
      ]
    },
    {
      "cell_type": "code",
      "metadata": {
        "id": "-_qsg6VLoVcv"
      },
      "source": [
        "class Solution:\n",
        "    def moveZeros(self, nums):\n",
        "        \"\"\" Do not return anything, modify nums in-place instead. \"\"\"\n",
        "        nums = list(nums)\n",
        "        l, r, n = 0, 0, len(nums)\n",
        "        while r < n:\n",
        "            if nums[r] != 0:\n",
        "                nums[l] = nums[r]\n",
        "                l += 1\n",
        "            r += 1\n",
        "        while l < n:\n",
        "            nums[l] = 0\n",
        "            l += 1"
      ],
      "execution_count": null,
      "outputs": []
    },
    {
      "cell_type": "markdown",
      "metadata": {
        "id": "cYIJ-KxBpUzH"
      },
      "source": [
        "## **Find the Duplicate Number**\n",
        "Given an array nums containing n + 1 integers where each integer is between 1 and n (inclusive), prove that at least one duplicate number must exist. Assume that there is only one duplicate number, find the duplicate one."
      ]
    },
    {
      "cell_type": "code",
      "metadata": {
        "id": "eUCj7kj9pX5O"
      },
      "source": [
        "class Solution:\n",
        "    def findDuplicate(self, nums: List[int]) -> int:\n",
        "        slow, fast = nums[0], nums[nums[0]]\n",
        "        while slow != fast:\n",
        "            slow = nums[slow]\n",
        "            fast = nums[nums[fast]]\n",
        "        slow = 0\n",
        "        while slow != fast:\n",
        "            slow = nums[slow]\n",
        "            fast = nums[fast]\n",
        "        return fast"
      ],
      "execution_count": null,
      "outputs": []
    },
    {
      "cell_type": "markdown",
      "metadata": {
        "id": "RDdkG2chplAq"
      },
      "source": [
        "## **Reconstruct Itinerary**\n",
        "Given a list of airline tickets represented by pairs of departure and arrival airports [from, to], reconstruct the itinerary in order. All of the tickets belong to a man who departs from JFK. Thus, the itinerary must begin with JFK.\n",
        "\n",
        "Note:\n",
        "\n",
        "If there are multiple valid itineraries, you should return the itinerary that has the smallest lexical order when read as a single string. For example, the itinerary [“JFK”, “LGA”] has a smaller lexical order than [“JFK”, “LGB”].\n",
        "All airports are represented by three capital letters (IATA code).\n",
        "You may assume all tickets form at least one valid itinerary.\n",
        "One must use all the tickets once and only once."
      ]
    },
    {
      "cell_type": "code",
      "metadata": {
        "id": "U-l5z0ILfi8f"
      },
      "source": [
        "class Solution:\n",
        "    def findItinerary(self, tickets: List[List[str]]) -> List[str]:\n",
        "        def dfs(dep):\n",
        "            arr = paths[dep]\n",
        "            while arr:\n",
        "                dfs(arr.pop())\n",
        "            res.append(dep)\n",
        "\n",
        "        res = []\n",
        "        paths = defaultdict(list)\n",
        "        tickets.sort(key=lambda x: x[1], reverse=True)\n",
        "        for s, t in tickets:\n",
        "            paths[s].append(t)\n",
        "        dfs('JFK')\n",
        "        return res[::-1]"
      ],
      "execution_count": null,
      "outputs": []
    },
    {
      "cell_type": "markdown",
      "metadata": {
        "id": "dgoLKnRwfmSk"
      },
      "source": [
        "## **Increasing Triplet Subsequence**\n",
        "Given an integer array nums, return true if there exists a triple of indices (i, j, k) such that i < j < k and nums[i] < nums[j] < nums[k]. If no such indices exists, return false."
      ]
    },
    {
      "cell_type": "code",
      "metadata": {
        "id": "lky2TTGof0vt"
      },
      "source": [
        "class Solution:\n",
        "    def increasingTriplet(self, nums: List[int]) -> bool:\n",
        "        first = second = float('inf')\n",
        "        for n in nums:\n",
        "            if n <= first:\n",
        "                first = n\n",
        "            elif n <= second:\n",
        "                second = n\n",
        "            else:\n",
        "                return True\n",
        "        return False"
      ],
      "execution_count": null,
      "outputs": []
    },
    {
      "cell_type": "markdown",
      "metadata": {
        "id": "mi5TzkrAf1vW"
      },
      "source": [
        "## **Counting Bits**\n",
        "Given a non negative integer number num. For every numbers i in the range 0 ≤ i ≤ num calculate the number of 1’s in their binary representation and return them as an array."
      ]
    },
    {
      "cell_type": "code",
      "metadata": {
        "id": "dPFU3JTaguvX"
      },
      "source": [
        "class Solution:\n",
        "    def countBits(self, num: int) -> List[int]:\n",
        "        res = [0] * (num + 1)\n",
        "        for i in range(num + 1):\n",
        "            res[i] = res[i >> 1] + (i & 1)\n",
        "        return res"
      ],
      "execution_count": null,
      "outputs": []
    },
    {
      "cell_type": "markdown",
      "metadata": {
        "id": "-T9w-bzihITz"
      },
      "source": [
        "## **Reverse String**\n",
        "Write a function that reverses a string. The input string is given as an array of characters char[].\n",
        "\n",
        "Do not allocate extra space for another array, you must do this by modifying the input array in-place with O(1) extra memory.\n",
        "\n",
        "You may assume all the characters consist of printable ascii characters."
      ]
    },
    {
      "cell_type": "code",
      "metadata": {
        "id": "AbbUHdZngp02"
      },
      "source": [
        "# two pointers class Solution:\n",
        "    def reverseString(self, s: List[str]) -> None:\n",
        "        \"\"\" Do not return anything, modify s in-place instead. \"\"\"\n",
        "        l, r = 0, len(s) - 1\n",
        "        while l < r:\n",
        "            s[l], s[r] = s[r], s[l]\n",
        "            l += 1\n",
        "            r -= 1\n",
        "\n",
        "# one pointer class Solution:\n",
        "    def reverseString(self, s: List[str]) -> None:\n",
        "        \"\"\" Do not return anything, modify s in-place instead. \"\"\"\n",
        "        for i in range(len(s) // 2):\n",
        "            s[i], s[-i - 1] = s[-i - 1], s[i]"
      ],
      "execution_count": null,
      "outputs": []
    },
    {
      "cell_type": "markdown",
      "metadata": {
        "id": "2umBBDXvhVl4"
      },
      "source": [
        "## **Moving Average from Data Stream**\n",
        "Given a stream of integers and a window size, calculate the moving average of all integers in the sliding window.\n"
      ]
    },
    {
      "cell_type": "code",
      "metadata": {
        "id": "He3XAGRChfec"
      },
      "source": [
        "class MovingAverage:\n",
        "\n",
        "    def __init__(self, size: int):\n",
        "        \"\"\" Initialize your data structure here. \"\"\"\n",
        "        self.size = size\n",
        "        self.q = deque()\n",
        "        self.count = 0\n",
        "        self.sum = 0\n",
        "\n",
        "    def next(self, val: int) -> float:\n",
        "        self.count += 1\n",
        "        self.q.append(val)\n",
        "        tail = self.q.popleft() if self.count > self.size else 0\n",
        "        self.sum = self.sum - tail + val\n",
        "        return self.sum / min(self.size, self.count)"
      ],
      "execution_count": null,
      "outputs": []
    },
    {
      "cell_type": "markdown",
      "metadata": {
        "id": "9a1xyDZ8hj5K"
      },
      "source": [
        "## **Top K Frequent Elements**\n",
        "Given a non-empty array of integers, return the k most frequent elements."
      ]
    },
    {
      "cell_type": "code",
      "metadata": {
        "id": "I_zp1wwshp2-"
      },
      "source": [
        "class Solution:\n",
        "    def topKFrequent(self, nums: List[int], k: int) -> List[int]:\n",
        "        q = []\n",
        "        for num, freq in Counter(nums).items():\n",
        "            if len(q) == k:\n",
        "                heappushpop(q, (freq, num))\n",
        "            else:\n",
        "                heappush(q, (freq, num))\n",
        "        return [x[1] for x in q]"
      ],
      "execution_count": null,
      "outputs": []
    },
    {
      "cell_type": "code",
      "metadata": {
        "id": "P2LrLIOahr4i"
      },
      "source": [
        "class Solution:\n",
        "    def topKFrequent(self, nums: List[int], k: int) -> List[int]:\n",
        "        ct = Counter(nums)\n",
        "        return heapq.nlargest(k, ct.keys(), key=ct.get)"
      ],
      "execution_count": null,
      "outputs": []
    },
    {
      "cell_type": "markdown",
      "metadata": {
        "id": "z17K344Mh4l-"
      },
      "source": [
        "## **Logger Rate Limiter**\n",
        "esign a logger system that receive stream of messages along with its timestamps, each message should be printed if and only if it is not printed in the last 10 seconds.\n",
        "\n",
        "Given a message and a timestamp (in seconds granularity), return true if the message should be printed in the given timestamp, otherwise returns false.\n",
        "\n",
        "It is possible that several messages arrive roughly at the same time."
      ]
    },
    {
      "cell_type": "code",
      "metadata": {
        "id": "pmrezuJDiBuW"
      },
      "source": [
        "class Logger:\n",
        "    def __init__(self):\n",
        "        \"\"\" Initialize your data structure here. \"\"\"\n",
        "        self.dic = {}\n",
        "    def shouldPrintMessage(self, timestamp: int, message: str) -> bool:\n",
        "        \"\"\" Returns true if the message should be printed in the given timestamp, otherwise returns false. If this method returns false, the message will not be printed. The timestamp is in seconds granularity. \"\"\"\n",
        "        if message not in self.dic or self.dic[message] + 10 <= timestamp:\n",
        "            self.dic[message] = timestamp\n",
        "            return True\n",
        "        return False"
      ],
      "execution_count": null,
      "outputs": []
    },
    {
      "cell_type": "markdown",
      "metadata": {
        "id": "EL2pVPewiTlB"
      },
      "source": [
        "## **Valid Perfect Square**\n",
        "Given a positive integer num, write a function which returns True if num is a perfect square else False.\n",
        "\n",
        "Note: Do not use any built-in library function such as sqrt."
      ]
    },
    {
      "cell_type": "code",
      "metadata": {
        "id": "G_CCZwvSibLZ"
      },
      "source": [
        "class Solution:\n",
        "    def isPerfectSquare(self, num: int) -> bool:\n",
        "        l, r = 0, num\n",
        "        while l <= r:\n",
        "            m = (l + r) // 2\n",
        "            t = m * m\n",
        "            if t == num:\n",
        "                return True\n",
        "            if t < num:\n",
        "                l = m + 1\n",
        "            else:\n",
        "                r = m - 1\n",
        "        return False"
      ],
      "execution_count": null,
      "outputs": []
    },
    {
      "cell_type": "markdown",
      "metadata": {
        "id": "_1Dlj3nmikMu"
      },
      "source": [
        "## **Largest Divisible Subset**\n",
        "Given a set of distinct positive integers, find the largest subset such that every pair (Si, Sj) of elements in this subset satisfies:\n",
        "\n",
        "Si % Sj = 0 or Sj % Si = 0.\n",
        "\n",
        "If there are multiple solutions, return any subset is fine."
      ]
    },
    {
      "cell_type": "code",
      "metadata": {
        "id": "KvWxecyZi58j"
      },
      "source": [
        "class Solution:\n",
        "    def largestDivisibleSubset(self, nums: List[int]) -> List[int]:\n",
        "        if not nums:\n",
        "            return []\n",
        "        nums.sort()\n",
        "        dp = [[0, i] for i in range(len(nums))]\n",
        "        idx = max_len = 0\n",
        "        for i, num in enumerate(nums):\n",
        "            tmp = 0\n",
        "            for k in range(i):\n",
        "                if nums[i] % nums[k] == 0:\n",
        "                    if tmp < dp[k][0]:\n",
        "                        tmp = dp[k][0]\n",
        "                        dp[i][1] = k\n",
        "            dp[i][0] = tmp + 1\n",
        "            if dp[i][0] > max_len:\n",
        "                max_len = dp[i][0]\n",
        "                idx = i\n",
        "\n",
        "        res = [nums[idx]]\n",
        "        while idx != dp[idx][1]:\n",
        "            idx = dp[idx][1]\n",
        "            res.append(nums[idx])\n",
        "        return res[::-1]"
      ],
      "execution_count": null,
      "outputs": []
    },
    {
      "cell_type": "markdown",
      "metadata": {
        "id": "djNxhZh_jBfH"
      },
      "source": [
        "## **Insert Delete GetRandom O(1)**\n",
        "Design a data structure that supports all following operations in average O(1) time.\n",
        "\n",
        "insert(val): Inserts an item val to the set if not already present.\n",
        "remove(val): Removes an item val from the set if present.\n",
        "getRandom: Returns a random element from current set of elements. Each element must have the same probability of being returned."
      ]
    },
    {
      "cell_type": "code",
      "metadata": {
        "id": "T16p69EcjUMl"
      },
      "source": [
        "class RandomizedSet:\n",
        "\n",
        "    def __init__(self):\n",
        "        \"\"\" Initialize your data structure here. \"\"\"\n",
        "        self.list = []\n",
        "        self.dic = {}\n",
        "\n",
        "    def insert(self, val: int) -> bool:\n",
        "        \"\"\" Inserts a value to the set. Returns true if the set did not already contain the specified element. \"\"\"\n",
        "        if val in self.dic:\n",
        "            return False\n",
        "        self.dic[val] = len(self.list)\n",
        "        self.list.append(val)\n",
        "        return True\n",
        "\n",
        "    def remove(self, val: int) -> bool:\n",
        "        \"\"\" Removes a value from the set. Returns true if the set contained the specified element. \"\"\"\n",
        "        if val not in self.dic:\n",
        "            return False\n",
        "        last, idx = self.list[-1], self.dic[val]\n",
        "        self.list[idx], self.dic[last] = last, idx\n",
        "        del self.list[-1]\n",
        "        del self.dic[val]\n",
        "        return True\n",
        "\n",
        "    def getRandom(self) -> int:\n",
        "        \"\"\" Get a random element from the set. \"\"\"\n",
        "        return random.choice(self.list)\n"
      ],
      "execution_count": null,
      "outputs": []
    },
    {
      "cell_type": "markdown",
      "metadata": {
        "id": "jpOWsdrdjWSY"
      },
      "source": [
        "## **Linked List Random Node**\n",
        "Given a singly linked list, return a random node’s value from the linked list. Each node must have the same probability of being chosen.\n",
        "Follow up: What if the linked list is extremely large and its length is unknown to you? Could you solve this efficiently without using extra space?"
      ]
    },
    {
      "cell_type": "code",
      "metadata": {
        "id": "KHaBtTBMjfyK"
      },
      "source": [
        "class Solution:\n",
        "\n",
        "    def __init__(self, head: ListNode):\n",
        "        \"\"\" @param head The linked list's head. Note that the head is guaranteed to be not null, so it contains at least one node. \"\"\"\n",
        "        self.head = head\n",
        "\n",
        "\n",
        "    def getRandom(self) -> int:\n",
        "        \"\"\" Returns a random node's value. \"\"\"\n",
        "        count = res = 0\n",
        "        cur = self.head\n",
        "        while cur:\n",
        "            count += 1\n",
        "            if random.random() <= 1 / count:\n",
        "                res = cur.val\n",
        "            cur = cur.next\n",
        "        return res"
      ],
      "execution_count": null,
      "outputs": []
    },
    {
      "cell_type": "markdown",
      "metadata": {
        "id": "gHWTcl6cjpbJ"
      },
      "source": [
        "## **Ransom Note**\n",
        "Given an arbitrary ransom note string and another string containing letters from all the magazines, write a function that will return true if the ransom note can be constructed from the magazines ; otherwise, it will return false.\n",
        "\n",
        "Each letter in the magazine string can only be used once in your ransom note."
      ]
    },
    {
      "cell_type": "code",
      "metadata": {
        "id": "75sZBEp2jy_S"
      },
      "source": [
        "from collections import Counter\n",
        "class Solution:\n",
        "    def canConstruct(self, ransomNote: str, magazine: str) -> bool:\n",
        "        ct_ransom = Counter(ransomNote)\n",
        "        ct_magazine = Counter(magazine)\n",
        "        for key in ct_ransom:\n",
        "            if ct_ransom[key] > ct_magazine[key]:\n",
        "                return False\n",
        "        return True"
      ],
      "execution_count": null,
      "outputs": []
    },
    {
      "cell_type": "markdown",
      "metadata": {
        "id": "7lq5wfHRj17T"
      },
      "source": [
        "## **First Unique Character in a String**\n",
        "Given a string, find the first non-repeating character in it and return it’s index. If it doesn’t exist, return -1."
      ]
    },
    {
      "cell_type": "code",
      "metadata": {
        "id": "G3mqpKW1j8jU"
      },
      "source": [
        "from collections import Counter\n",
        "class Solution:\n",
        "    def firstUniqChar(self, s: str) -> int:\n",
        "        ct = Counter(s)\n",
        "        for i, c in enumerate(s):\n",
        "            if ct[c] == 1:\n",
        "                return i\n",
        "        return -1"
      ],
      "execution_count": null,
      "outputs": []
    },
    {
      "cell_type": "markdown",
      "metadata": {
        "id": "5jg_LLfVkCzB"
      },
      "source": [
        "## **Find the Difference**\n",
        "Given two strings s and t which consist of only lowercase letters.\n",
        "\n",
        "String t is generated by random shuffling string s and then add one more letter at a random position.\n",
        "\n",
        "Find the letter that was added in t."
      ]
    },
    {
      "cell_type": "code",
      "metadata": {
        "id": "slQ6Fd5JkOfa"
      },
      "source": [
        "class Solution:\n",
        "    def findTheDifference(self, s: str, t: str) -> str:\n",
        "        dic = defaultdict(int)\n",
        "        for c in s:\n",
        "            dic[c] += 1\n",
        "        for c in t:\n",
        "            dic[c] -= 1\n",
        "        for k in dic:\n",
        "            if dic[k] != 0:\n",
        "                return k"
      ],
      "execution_count": null,
      "outputs": []
    },
    {
      "cell_type": "markdown",
      "metadata": {
        "id": "mVdwFuMMjelY"
      },
      "source": [
        "## **Is SubsequenceIs Subsequence**\n",
        "Given a string s and a string t, check if s is subsequence of t.\n",
        "\n",
        "A subsequence of a string is a new string which is formed from the original string by deleting some (can be none) of the characters without disturbing the relative positions of the remaining characters. (ie, “ace” is a subsequence of “abcde” while “aec” is not).\n",
        "\n",
        "Follow up:\n",
        "If there are lots of incoming S, say S1, S2, … , Sk where k >= 1B, and you want to check one by one to see if T has its subsequence. In this scenario, how would you change your code?"
      ]
    },
    {
      "cell_type": "code",
      "metadata": {
        "id": "EDJD6K-ukgEi"
      },
      "source": [
        "class Solution:\n",
        "    def isSubsequence(self, s: str, t: str) -> bool:\n",
        "        pt = -1\n",
        "        for c in s:\n",
        "            while pt < len(t) - 1:\n",
        "                pt += 1\n",
        "                if c == t[pt]:\n",
        "                    break\n",
        "            else:\n",
        "                return False\n",
        "        return True"
      ],
      "execution_count": null,
      "outputs": []
    },
    {
      "cell_type": "code",
      "metadata": {
        "id": "X9WhW-4gkkTc"
      },
      "source": [
        "class Solution:\n",
        "    def isSubsequence(self, s: str, t: str) -> bool:\n",
        "        q = list(q)\n",
        "        for c in t:\n",
        "            if not q: return True\n",
        "            if c == q[0]:\n",
        "                q.pop(0)\n",
        "        return not q"
      ],
      "execution_count": null,
      "outputs": []
    },
    {
      "cell_type": "code",
      "metadata": {
        "id": "w3ny_DHDkkt0"
      },
      "source": [
        "class Solution:\n",
        "    def isSubsequence(self, s: str, t: str) -> bool:\n",
        "        dic = collections.defaultdict(list)\n",
        "        for i, c in enumerate(t):\n",
        "            dic[c].append(i)\n",
        "        cur = -1\n",
        "        for c in s:\n",
        "            if c not in dic:\n",
        "                return False\n",
        "            l = dic[c]\n",
        "            p = bisect.bisect_left(l, cur)\n",
        "            if p == len(l):\n",
        "                return False\n",
        "            cur = l[p] + 1\n",
        "        return True"
      ],
      "execution_count": null,
      "outputs": []
    },
    {
      "cell_type": "markdown",
      "metadata": {
        "id": "fzTun-FJkthZ"
      },
      "source": [
        "## **Decode String**\n",
        "Given an encoded string, return its decoded string.\n",
        "\n",
        "The encoding rule is: k[encoded_string], where the encoded_string inside the square brackets is being repeated exactly k times. Note that k is guaranteed to be a positive integer.\n",
        "\n",
        "You may assume that the input string is always valid; No extra white spaces, square brackets are well-formed, etc.\n",
        "\n",
        "Furthermore, you may assume that the original data does not contain any digits and that digits are only for those repeat numbers, k. For example, there won’t be input like 3a or 2[4].\n"
      ]
    },
    {
      "cell_type": "code",
      "metadata": {
        "id": "-lh4UOzXk4Im"
      },
      "source": [
        "class Solution:\n",
        "    def decodeString(self, s: str) -> str:\n",
        "        stack = []\n",
        "        cur_num = cur_str = ''\n",
        "        for c in s:\n",
        "            if c == '[':\n",
        "                stack.append(cur_str)\n",
        "                stack.append(int(cur_num))\n",
        "                cur_num = cur_str = ''\n",
        "            elif c == ']':\n",
        "                num = stack.pop()\n",
        "                prev_str = stack.pop()\n",
        "                cur_str = prev_str + cur_str * num\n",
        "            elif c.isdigit():\n",
        "                cur_num += c\n",
        "            else:\n",
        "                cur_str += c\n",
        "        return cur_str"
      ],
      "execution_count": null,
      "outputs": []
    },
    {
      "cell_type": "markdown",
      "metadata": {
        "id": "C25cJaKBk6XF"
      },
      "source": [
        "## **Longest Substring with At Least K Repeating Characters**\n",
        "Given a string s and an integer k, return the length of the longest substring of s such that the frequency of each character in this substring is less than or equal to k."
      ]
    },
    {
      "cell_type": "code",
      "metadata": {
        "id": "MXuR2qlolXEv"
      },
      "source": [
        "class Solution:\n",
        "    def longestSubstring(self, s: str, k: int) -> int:\n",
        "        res = 0\n",
        "        for i in range(1, len(set(s)) + 1):\n",
        "            times = [0] * 26\n",
        "            l = r = ct = dif_ct = 0\n",
        "            while r < len(s):\n",
        "                ind = ord(s[r]) - ord('a')\n",
        "                times[ind] += 1\n",
        "                if times[ind] == 1:\n",
        "                    dif_ct += 1\n",
        "                if times[ind] == k:\n",
        "                    ct += 1\n",
        "                r += 1\n",
        "\n",
        "                while l < r and dif_ct > i:\n",
        "                    ind = ord(s[l]) - ord('a')\n",
        "                    if times[ind] == k:\n",
        "                        ct -= 1\n",
        "                    if times[ind] == 1:\n",
        "                        dif_ct -= 1\n",
        "                    times[ind] -= 1\n",
        "                    l += 1\n",
        "                if dif_ct == ct == i:\n",
        "                    res = max(res, r - l)\n",
        "        return res"
      ],
      "execution_count": null,
      "outputs": []
    },
    {
      "cell_type": "markdown",
      "metadata": {
        "id": "0o62SJt2laFm"
      },
      "source": [
        "## **Evaluate Division**\n",
        "You are given equations in the format A / B = k, where A and B are variables represented as strings, and k is a real number (floating-point number). Given some queries, return the answers. If the answer does not exist, return -1.0.\n",
        "\n",
        "The input is always valid. You may assume that evaluating the queries will result in no division by zero and there is no contradiction."
      ]
    },
    {
      "cell_type": "code",
      "metadata": {
        "id": "q1_Nm7zkli7x"
      },
      "source": [
        "class Solution:\n",
        "    def calcEquation(self, equations: List[List[str]], values: List[float], queries: List[List[str]]) -> List[float]:\n",
        "        edge = defaultdict(list)\n",
        "        for i in range(len(equations)):\n",
        "            x, y = equations[i]\n",
        "            v = values[i]\n",
        "            edge[x].append((y, v))\n",
        "            edge[y].append((x, 1.0 / v))\n",
        "        clusters = []\n",
        "        visit = set()\n",
        "        for x, y in equations:\n",
        "            dic = {}\n",
        "            if x not in visit:\n",
        "                start = x\n",
        "                visit.add(start)\n",
        "                dic[start] = 1\n",
        "                q = [start]\n",
        "                while q:\n",
        "                    cur = q.pop()\n",
        "                    for n, v in edge[cur]:\n",
        "                        if n not in visit:\n",
        "                            visit.add(n)\n",
        "                            q.append(n)\n",
        "                            dic[n] = dic[cur] * v\n",
        "            clusters.append(dic)\n",
        "        res = []\n",
        "        for x, y in queries:\n",
        "            for cluster in clusters:\n",
        "                if x in cluster and y in cluster:\n",
        "                    res.append(cluster[y] / cluster[x])\n",
        "                    break\n",
        "            else:\n",
        "                res.append(-1)\n",
        "        return res"
      ],
      "execution_count": null,
      "outputs": []
    },
    {
      "cell_type": "markdown",
      "metadata": {
        "id": "ztvL8YzHln1x"
      },
      "source": [
        "## **Remove K Digits**\n",
        "Given a non-negative integer num represented as a string, remove k digits from the number so that the new number is the smallest possible.\n",
        "\n",
        "Note:\n",
        "\n",
        "The length of num is less than 10002 and will be ≥ k.\n",
        "The given num does not contain any leading zero."
      ]
    },
    {
      "cell_type": "code",
      "metadata": {
        "id": "RFGmwbOdluiH"
      },
      "source": [
        "class Solution:\n",
        "    def removeKdigits(self, num: str, k: int) -> str:\n",
        "        if k == len(num):\n",
        "            return '0'\n",
        "        stack = []\n",
        "        for n in num:\n",
        "            while k and stack and n < stack[-1]:\n",
        "                stack.pop()\n",
        "                k -= 1\n",
        "            stack.append(n)\n",
        "        for i in range(k):\n",
        "            stack.pop()\n",
        "        return ''.join(stack).lstrip('0') or '0'"
      ],
      "execution_count": null,
      "outputs": []
    },
    {
      "cell_type": "markdown",
      "metadata": {
        "id": "EKbvGyFklwus"
      },
      "source": [
        "## **Sum of Left Leaves**\n",
        "Find the sum of all left leaves in a given binary tree.\n"
      ]
    },
    {
      "cell_type": "code",
      "metadata": {
        "id": "wxn3JLNBmJNW"
      },
      "source": [
        "class Solution:\n",
        "    def sumOfLeftLeaves(self, root: TreeNode) -> int:\n",
        "        def sumOfLeft(root, flag):\n",
        "            if not root:\n",
        "                return 0\n",
        "            if flag and not root.left and not root.right:\n",
        "                return root.val\n",
        "            return sumOfLeft(root.left, True) + sumOfLeft(root.right, False)\n",
        "\n",
        "        return sumOfLeft(root, False)"
      ],
      "execution_count": null,
      "outputs": []
    },
    {
      "cell_type": "markdown",
      "metadata": {
        "id": "jCCRNo9SmOoV"
      },
      "source": [
        "## **Queue Reconstruction by Height**\n",
        "Suppose you have a random list of people standing in a queue. Each person is described by a pair of integers (h, k), where h is the height of the person and k is the number of people in front of this person who have a height greater than or equal to h. Write an algorithm to reconstruct the queue.\n",
        "\n",
        "Note: The number of people is less than 1,100."
      ]
    },
    {
      "cell_type": "code",
      "metadata": {
        "id": "GSYQGbz6mjr7"
      },
      "source": [
        "class Solution:\n",
        "    def reconstructQueue(self, people: List[List[int]]) -> List[List[int]]:\n",
        "        people.sort(key = lambda x: (-x[0], x[1]))\n",
        "        res = []\n",
        "        for p in people:\n",
        "            res.insert(p[1], p)\n",
        "        return res"
      ],
      "execution_count": null,
      "outputs": []
    },
    {
      "cell_type": "markdown",
      "metadata": {
        "id": "pKRRWHAmmo1H"
      },
      "source": [
        "## **Longest Palindrome**\n",
        "Given a string which consists of lowercase or uppercase letters, find the length of the longest palindromes that can be built with those letters.\n",
        "This is case sensitive, for example “Aa” is not considered a palindrome here."
      ]
    },
    {
      "cell_type": "code",
      "metadata": {
        "id": "ydpvnJ_fnTkW"
      },
      "source": [
        "class Solution:\n",
        "    def longestPalindrome(self, s: str) -> int:\n",
        "        ct = Counter(s)\n",
        "        res = 0\n",
        "        f = 0\n",
        "        for v in ct.values():\n",
        "            if v % 2 == 0:\n",
        "                res += v\n",
        "            else:\n",
        "                res += v - 1\n",
        "                f = 1\n",
        "        return res + f"
      ],
      "execution_count": null,
      "outputs": []
    },
    {
      "cell_type": "markdown",
      "metadata": {
        "id": "V0YvZ1dfnaMX"
      },
      "source": [
        "## **Fizz Buzz**\n",
        "Write a program that outputs the string representation of numbers from 1 to n.\n",
        "\n",
        "But for multiples of three it should output “Fizz” instead of the number and for the multiples of five output “Buzz”. For numbers which are multiples of both three and five output “FizzBuzz”."
      ]
    },
    {
      "cell_type": "code",
      "metadata": {
        "id": "rLlhA7Vsk84V"
      },
      "source": [
        "class Solution:\n",
        "    def fizzBuzz(self, n)\n",
        "        res = []\n",
        "        for i in range(1, n + 1):\n",
        "            if i % 15 == 0:\n",
        "                res.append(\"FizzBuzz\")\n",
        "            elif i % 3 == 0:\n",
        "                res.append(\"Fizz\")\n",
        "            elif i % 5 == 0:\n",
        "                res.append(\"Buzz\")\n",
        "            else:\n",
        "                res.append(str(i))\n",
        "        return res\n",
        ""
      ],
      "execution_count": null,
      "outputs": []
    },
    {
      "cell_type": "code",
      "metadata": {
        "id": "wa0jZsjel7Xz"
      },
      "source": [
        "class Solution:\n",
        "    def fizzBuzz(self, n: int) -> List[str]:\n",
        "        return [\"FizzBuzz\" if n % 15 == 0 else \"Fizz\" if n % 3 == 0 else \"Buzz\" if n % 5 == 0 else str(n) for n in range(1, n + 1)]"
      ],
      "execution_count": null,
      "outputs": []
    },
    {
      "cell_type": "markdown",
      "metadata": {
        "id": "wP_pbC2bmI80"
      },
      "source": [
        "## **Partition Equal Subset Sum**\n",
        "Given a non-empty array nums containing only positive integers, find if the array can be partitioned into two subsets such that the sum of elements in both subsets is equal."
      ]
    },
    {
      "cell_type": "code",
      "metadata": {
        "id": "VMh_mm8vmUYu"
      },
      "source": [
        "class Solution:\n",
        "    def canPartition(self, nums: List[int]) -> bool:\n",
        "        if len(nums) < 2:\n",
        "            return False\n",
        "        total = sum(nums)\n",
        "        if total % 2 != 0:\n",
        "            return False\n",
        "        target = total // 2\n",
        "        dp = [True] + [False] * target\n",
        "        for i, n in enumerate(nums):\n",
        "            for j in range(target, n - 1, -1):\n",
        "                dp[j] |= dp[j - n]\n",
        "        return dp[target]"
      ],
      "execution_count": null,
      "outputs": []
    },
    {
      "cell_type": "markdown",
      "metadata": {
        "id": "dL1YybFGmWHi"
      },
      "source": [
        "## **Maximum XOR of Two Numbers in an Array**\n",
        "Given a non-empty array of numbers, a0, a1, a2, … , an-1, where 0 ≤ ai < 231.\n",
        "Find the maximum result of ai XOR aj, where 0 ≤ i, j < n.Could you do this in O(n) runtime?"
      ]
    },
    {
      "cell_type": "code",
      "metadata": {
        "id": "szEMYnZNpxkl"
      },
      "source": [
        "class Solution:\n",
        "    def findMaximumXOR(self, nums: List[int]) -> int:\n",
        "        res = 0\n",
        "        for i in range(31, -1, -1):\n",
        "            res <<= 1\n",
        "            pre = {n >> i for n in nums}\n",
        "            res += any(res ^ 1 ^ p in pre for p in pre)\n",
        "        return res"
      ],
      "execution_count": null,
      "outputs": []
    },
    {
      "cell_type": "markdown",
      "metadata": {
        "id": "Dho7n-LIp66F"
      },
      "source": [
        "## **Flatten a Multilevel Doubly Linked List**\n",
        "You are given a doubly linked list which in addition to the next and previous pointers, it could have a child pointer, which may or may not point to a separate doubly linked list. These child lists may have one or more children of their own, and so on, to produce a multilevel data structure, as shown in the example below.\n",
        "\n",
        "Flatten the list so that all the nodes appear in a single-level, doubly linked list. You are given the head of the first level of the list."
      ]
    },
    {
      "cell_type": "code",
      "metadata": {
        "id": "3honQU-9qV9w"
      },
      "source": [
        "class Solution:\n",
        "    def flatten(self, head: 'Node') -> 'Node':\n",
        "        if not head:\n",
        "            return\n",
        "        dummy = Node(0,None,head,None)\n",
        "        pre = dummy\n",
        "        stack = [head]\n",
        "        while stack:\n",
        "            cur = stack.pop()\n",
        "            if cur.next:\n",
        "                stack.append(cur.next)\n",
        "            if cur.child:\n",
        "                stack.append(cur.child)\n",
        "                cur.child = None\n",
        "            cur.prev = pre\n",
        "            pre.next = cur\n",
        "            pre = cur\n",
        "        dummy.next.prev = None\n",
        "        return dummy.next"
      ],
      "execution_count": null,
      "outputs": []
    },
    {
      "cell_type": "markdown",
      "metadata": {
        "id": "wascR_z0qeFo"
      },
      "source": [
        "## **Non-overlapping Intervals**\n",
        "Given a collection of intervals, find the minimum number of intervals you need to remove to make the rest of the intervals non-overlapping"
      ]
    },
    {
      "cell_type": "code",
      "metadata": {
        "id": "H_jiahfuqpa8"
      },
      "source": [
        "lass Solution:\n",
        "    def eraseOverlapIntervals(self, intervals: List[List[int]]) -> int:\n",
        "        if len(intervals) == 0:\n",
        "            return 0\n",
        "        intervals.sort()\n",
        "        now = intervals[0][1]\n",
        "        res = 0\n",
        "        for i in intervals[1:]:\n",
        "            if i[0] < now:\n",
        "                now = min(i[1], now)\n",
        "                res += 1\n",
        "            else:\n",
        "                now = i[1]\n",
        "        return res"
      ],
      "execution_count": null,
      "outputs": []
    },
    {
      "cell_type": "markdown",
      "metadata": {
        "id": "EiFayzHKqvFx"
      },
      "source": [
        "## **Find Right Interval**\n",
        "Given a set of intervals, for each of the interval i, check if there exists an interval j whose start point is bigger than or equal to the end point of the interval i, which can be called that j is on the “right” of i.\n",
        "\n",
        "For any interval i, you need to store the minimum interval j’s index, which means that the interval j has the minimum start point to build the “right” relationship for interval i. If the interval j doesn’t exist, store -1 for the interval i. Finally, you need output the stored value of each interval as an array.\n",
        "\n",
        "Note:\n",
        "\n",
        "You may assume the interval’s end point is always bigger than its start point.\n",
        "You may assume none of these intervals have the same start point."
      ]
    },
    {
      "cell_type": "code",
      "metadata": {
        "id": "7nEJGyCYq1mI"
      },
      "source": [
        "class Solution:\n",
        "    def findRightInterval(self, intervals: List[List[int]]) -> List[int]:\n",
        "        intervals = sorted((e[0], i, e[1]) for i, e in enumerate(intervals))\n",
        "        l = len(intervals)\n",
        "        res = [0] * l\n",
        "        for e in intervals:\n",
        "            r = bisect.bisect_left(intervals, (e[2], ))\n",
        "            res[e[1]] = intervals[r][1] if r < l else -1\n",
        "        return res"
      ],
      "execution_count": null,
      "outputs": []
    },
    {
      "cell_type": "markdown",
      "metadata": {
        "id": "I06ARiUeq3W9"
      },
      "source": [
        "## **Path Sum III**\n",
        "You are given a binary tree in which each node contains an integer value.\n",
        "\n",
        "Find the number of paths that sum to a given value.\n",
        "\n",
        "The path does not need to start or end at the root or a leaf, but it must go downwards (traveling only from parent nodes to child nodes).\n",
        "\n",
        "The tree has no more than 1,000 nodes and the values are in the range -1,000,000 to 1,000,000."
      ]
    },
    {
      "cell_type": "code",
      "metadata": {
        "id": "p7QOM6bCrBOV"
      },
      "source": [
        "class Solution:\n",
        "    def pathSum(self, root: TreeNode, val: int) -> int:\n",
        "        def dfs(root, val, cur, dic):\n",
        "            if not root:\n",
        "                return\n",
        "            cur += root.val\n",
        "            pre = cur - val\n",
        "            self.res += dic.get(pre, 0)\n",
        "            dic[cur] = dic.get(cur, 0) + 1\n",
        "            dfs(root.left, val, cur, dic)\n",
        "            dfs(root.right, val, cur, dic)\n",
        "            dic[cur] -= 1\n",
        "\n",
        "        self.res = 0\n",
        "        dic = {0: 1}\n",
        "        dfs(root, val, 0, dic)\n",
        "        return self.res"
      ],
      "execution_count": null,
      "outputs": []
    },
    {
      "cell_type": "markdown",
      "metadata": {
        "id": "rzuxJiYRrFBa"
      },
      "source": [
        "## **Find All Anagrams in a String**\n",
        "Given a string s and a non-empty string p, find all the start indices of p’s anagrams in s.\n",
        "\n",
        "Strings consists of lowercase English letters only and the length of both strings s and p will not be larger than 20,100.\n",
        "\n",
        "The order of output does not matter."
      ]
    },
    {
      "cell_type": "code",
      "metadata": {
        "id": "XbF8sO_zrRKb"
      },
      "source": [
        "class Solution:\n",
        "    def findAnagrams(self, s: str, p: str) -> List[int]:\n",
        "        def f(c):\n",
        "            return ord(c) - 97\n",
        "\n",
        "        ct_p, ct_s = [0] * 26, [0] * 26\n",
        "        for c in p:\n",
        "            ct_p[f(c)] += 1\n",
        "        l = len(p)\n",
        "        for c in s[:l - 1]:\n",
        "            ct_s[f(c)] += 1\n",
        "        res = []\n",
        "        for i, c in enumerate(s[l - 1:]):\n",
        "            ct_s[f(c)] += 1\n",
        "            if ct_s == ct_p:\n",
        "                res.append(i)\n",
        "            ct_s[f(s[i])] -= 1\n",
        "        return res"
      ],
      "execution_count": null,
      "outputs": []
    },
    {
      "cell_type": "markdown",
      "metadata": {
        "id": "elCwKLpqrQYx"
      },
      "source": [
        "## **Arranging Coins**\n",
        "You have a total of n coins that you want to form in a staircase shape, where every k-th row must have exactly k coins.\n",
        "\n",
        "Given n, find the total number of full staircase rows that can be formed.\n",
        "\n",
        "n is a non-negative integer and fits within the range of a 32-bit signed integer."
      ]
    },
    {
      "cell_type": "code",
      "metadata": {
        "id": "UcPYUeBwrEYx"
      },
      "source": [
        "class Solution:\n",
        "    def arrangeCoins(self, n: int) -> int:\n",
        "        return int((-1 + math.sqrt(1 + 8 * n)) / 2)"
      ],
      "execution_count": null,
      "outputs": []
    },
    {
      "cell_type": "markdown",
      "metadata": {
        "id": "xWHtQuEErmc3"
      },
      "source": [
        "## **Find All Duplicates in an Array**\n",
        "Given an array of integers, 1 ≤ a[i] ≤ n (n = size of array), some elements appear twice and others appear once.\n",
        "\n",
        "Find all the elements that appear twice in this array.\n",
        "\n",
        "Could you do it without extra space and in O(n) runtime?"
      ]
    },
    {
      "cell_type": "code",
      "metadata": {
        "id": "qr5du_RzqZI5"
      },
      "source": [
        "class Solution:\n",
        "    def findDuplicates(self, nums: List[int]) -> List[int]:\n",
        "        res = []\n",
        "        for i in range(len(nums)):\n",
        "            ind = abs(nums[i]) - 1\n",
        "            if nums[ind] < 0:\n",
        "                res.append(ind + 1)\n",
        "            else:\n",
        "                nums[ind] *= -1\n",
        "        return res"
      ],
      "execution_count": null,
      "outputs": []
    },
    {
      "cell_type": "markdown",
      "metadata": {
        "id": "EOuIMqXhr2YE"
      },
      "source": [
        "## **Add Two Numbers II**\n",
        "You are given two non-empty linked lists representing two non-negative integers. The most significant digit comes first and each of their nodes contain a single digit. Add the two numbers and return it as a linked list.\n",
        "\n",
        "You may assume the two numbers do not contain any leading zero, except the number 0 itself.\n",
        "\n",
        "Follow up: What if you cannot modify the input lists? In other words, reversing the lists is not allowed."
      ]
    },
    {
      "cell_type": "code",
      "metadata": {
        "id": "F-ZDxQqWr_-o"
      },
      "source": [
        "class Solution:\n",
        "    def addTwoNumbers(self, l1: ListNode, l2: ListNode) -> ListNode:\n",
        "        s1 = []\n",
        "        s2 = []\n",
        "        while l1 is not None:\n",
        "            s1.append(l1.val)\n",
        "            l1 = l1.next\n",
        "        while l2 is not None:\n",
        "            s2.append(l2.val)\n",
        "            l2 = l2.next\n",
        "        tmp = 0\n",
        "        res = ListNode(0)\n",
        "        while len(s1) != 0 or len(s2) != 0:\n",
        "            if len(s1) != 0:\n",
        "                tmp += s1.pop()\n",
        "            if len(s2) != 0:\n",
        "                tmp += s2.pop()\n",
        "            res.val = tmp % 10\n",
        "            head = ListNode(tmp // 10)\n",
        "            head.next = res\n",
        "            res = head\n",
        "            tmp //= 10\n",
        "        return res.next if res.val == 0 else res"
      ],
      "execution_count": null,
      "outputs": []
    },
    {
      "cell_type": "markdown",
      "metadata": {
        "id": "yJe3NHPFsFOu"
      },
      "source": [
        "## **Serialize and Deserialize BST**\n",
        "Serialization is converting a data structure or object into a sequence of bits so that it can be stored in a file or memory buffer, or transmitted across a network connection link to be reconstructed later in the same or another computer environment.\n",
        "\n",
        "Design an algorithm to serialize and deserialize a binary search tree. There is no restriction on how your serialization/deserialization algorithm should work. You need to ensure that a binary search tree can be serialized to a string, and this string can be deserialized to the original tree structure.\n",
        "\n",
        "The encoded string should be as compact as possible."
      ]
    },
    {
      "cell_type": "code",
      "metadata": {
        "id": "f3wOGA10sM17"
      },
      "source": [
        "class Codec:\n",
        "\n",
        "    def serialize(self, root: TreeNode) -> str:\n",
        "        \"\"\"Encodes a tree to a single string. \"\"\"\n",
        "        if not root:\n",
        "            return '^'\n",
        "        return str(root.val) + ' ' + self.serialize(root.left) + ' ' + self.serialize(root.right)\n",
        "\n",
        "    def deserialize(self, data: str) -> TreeNode:\n",
        "        \"\"\"Decodes your encoded data to tree. \"\"\"\n",
        "        data = deque(data.split(' '))\n",
        "        def build(data):\n",
        "            v = data.popleft()\n",
        "            if v == '^':\n",
        "                return None\n",
        "            node = TreeNode(int(v))\n",
        "            node.left = build(data)\n",
        "            node.right = build(data)\n",
        "            return node\n",
        "        return build(data)"
      ],
      "execution_count": null,
      "outputs": []
    },
    {
      "cell_type": "code",
      "metadata": {
        "id": "Rk2vSaVDsPa_"
      },
      "source": [
        "class Codec:\n",
        "\n",
        "    def serialize(self, root: TreeNode) -> str:\n",
        "        \"\"\"Encodes a tree to a single string. \"\"\"\n",
        "        ret = []\n",
        "        def preorder(root):\n",
        "            if root:\n",
        "                ret.append(root.val)\n",
        "                preorder(root.left)\n",
        "                preorder(root.right)\n",
        "        preorder(root)\n",
        "        return ' '.join(map(str, ret))\n",
        "\n",
        "    def deserialize(self, data: str) -> TreeNode:\n",
        "        \"\"\"Decodes your encoded data to tree. \"\"\"\n",
        "        nums = deque(int(n) for n in data.split())\n",
        "        def build(mmin, mmax):\n",
        "            if nums and mmin < nums[0] < mmax:\n",
        "                n = nums.popleft()\n",
        "                node = TreeNode(n)\n",
        "                node.left = build(mmin, n)\n",
        "                node.right = build(n, mmax)\n",
        "                return node\n",
        "\n",
        "        return build(float('-inf'), float('inf'))"
      ],
      "execution_count": null,
      "outputs": []
    },
    {
      "cell_type": "markdown",
      "metadata": {
        "id": "Z-BKnKEFsR6I"
      },
      "source": [
        "## **Delete Node in a BST**\n",
        "Given a root node reference of a BST and a key, delete the node with the given key in the BST. Return the root node reference (possibly updated) of the BST.\n",
        "\n",
        "Basically, the deletion can be divided into two stages:\n",
        "\n",
        "Search for a node to remove.\n",
        "If the node is found, delete the node. Note: Time complexity should be O(height of tree)."
      ]
    },
    {
      "cell_type": "code",
      "metadata": {
        "id": "0iPlrE9CsdI5"
      },
      "source": [
        "class Solution:\n",
        "    def deleteNode(self, root: TreeNode, key: int) -> TreeNode:\n",
        "        if root is None:\n",
        "            return root\n",
        "        if root.val > key:\n",
        "            root.left = self.deleteNode(root.left, key)\n",
        "        elif root.val < key:\n",
        "            root.right = self.deleteNode(root.right, key)\n",
        "        else:\n",
        "            if not root.left:\n",
        "                return root.right\n",
        "            if not root.right:\n",
        "                return root.left\n",
        "            tmp = root.right\n",
        "            while tmp.left:\n",
        "                tmp = tmp.left\n",
        "            root.val = tmp.val\n",
        "            root.right = self.deleteNode(root.right, tmp.val)\n",
        "        return root"
      ],
      "execution_count": null,
      "outputs": []
    },
    {
      "cell_type": "markdown",
      "metadata": {
        "id": "ObfMcWs2sktA"
      },
      "source": [
        "## **Sort Characters By Frequency**\n",
        "Given a string, sort it in decreasing order based on the frequency of characters."
      ]
    },
    {
      "cell_type": "code",
      "metadata": {
        "id": "es-z_Xu9tGSL"
      },
      "source": [
        "from collections import Counter\n",
        "class Solution:\n",
        "    def frequencySort(self, s):\n",
        "        return ''.join(k * v for k, v in sorted(Counter(s).items(), key=lambda x: x[1], reverse=True))"
      ],
      "execution_count": null,
      "outputs": []
    },
    {
      "cell_type": "markdown",
      "metadata": {
        "id": "xZRQJIyetQ9Z"
      },
      "source": [
        "## **Minimum Number of Arrows to Burst Balloons**\n",
        "There are some spherical balloons spread in two-dimensional space. For each balloon, provided input is the start and end coordinates of the horizontal diameter. Since it’s horizontal, y-coordinates don’t matter, and hence the x-coordinates of start and end of the diameter suffice. The start is always smaller than the end.\n",
        "\n",
        "An arrow can be shot up exactly vertically from different points along the x-axis. A balloon with xstart and xend bursts by an arrow shot at x if xstart ≤ x ≤ xend. There is no limit to the number of arrows that can be shot. An arrow once shot keeps traveling up infinitely.\n",
        "\n",
        "Given an array points where points[i] = [xstart, xend], return the minimum number of arrows that must be shot to burst all balloons.\n"
      ]
    },
    {
      "cell_type": "code",
      "metadata": {
        "id": "LDzwNsgutkJU"
      },
      "source": [
        "class Solution:\n",
        "    def findMinArrowShots(self, points: List[List[int]]) -> int:\n",
        "        if not points:\n",
        "            return 0\n",
        "        points.sort(key=lambda x: x[1])\n",
        "        res = 1\n",
        "        cur = points[0][1]\n",
        "        for p in points[1:]:\n",
        "            if cur < p[0]:\n",
        "                res += 1\n",
        "                cur = p[1]\n",
        "        return res"
      ],
      "execution_count": null,
      "outputs": []
    },
    {
      "cell_type": "markdown",
      "metadata": {
        "id": "CQMLpVYztsJq"
      },
      "source": [
        "## **4Sum II**\n",
        "Given four lists A, B, C, D of integer values, compute how many tuples (i, j, k, l) there are such that A[i] + B[j] + C[k] + D[l] is zero.To make problem a bit easier, all A, B, C, D have same length of N where 0 ≤ N ≤ 500. All integers are in the range of -228 to 228 - 1 and the result is guaranteed to be at most 231 - 1.\n"
      ]
    },
    {
      "cell_type": "code",
      "metadata": {
        "id": "Rf3-92Blt6px"
      },
      "source": [
        "class Solution:\n",
        "    def fourSumCount(self, A: List[int], B: List[int], C: List[int], D: List[int]) -> int:\n",
        "        ct = defaultdict(int)\n",
        "        for a in A:\n",
        "            for b in B:\n",
        "                ct[a + b] += 1\n",
        "        res = 0\n",
        "        for c in C:\n",
        "            for d in D:\n",
        "                if -(c + d) in ct:\n",
        "                    res += ct[-(c + d)]\n",
        "        return res"
      ],
      "execution_count": null,
      "outputs": []
    },
    {
      "cell_type": "markdown",
      "metadata": {
        "id": "TwwBE3MSt-dd"
      },
      "source": [
        "## **Pattern**\n",
        "Given an array of n integers nums, a 132 pattern is a subsequence of three integers nums[i], nums[j] and nums[k] such that i < j < k and nums[i] < nums[k] < nums[j].\n",
        "\n",
        "Return true if there is a 132 pattern in nums, otherwise, return false.\n",
        "\n",
        "Follow up: The O(n^2) is trivial, could you come up with the O(n logn) or the O(n) solution?"
      ]
    },
    {
      "cell_type": "code",
      "metadata": {
        "id": "Mi5UoLAMtrl4"
      },
      "source": [
        "class Solution:\n",
        "    def find132pattern(self, nums: List[int]) -> bool:\n",
        "        l = len(nums)\n",
        "        if l <= 2:\n",
        "            return False\n",
        "        premin = [nums[0]]\n",
        "        for n in nums[1:]:\n",
        "            premin.append(min(premin[-1], n))\n",
        "        stack = []\n",
        "        for i in range(l - 1, -1, -1):\n",
        "            if nums[i] > premin[i]:\n",
        "                while stack and stack[-1] <= premin[i]:\n",
        "                    stack.pop()\n",
        "                if stack and stack[-1] < nums[i]:\n",
        "                    return True\n",
        "                stack.append(nums[i])\n",
        "        return False"
      ],
      "execution_count": null,
      "outputs": []
    },
    {
      "cell_type": "markdown",
      "metadata": {
        "id": "ybveqBKHtnxu"
      },
      "source": [
        "## **Poor Pigs**\n",
        "There are 1000 buckets, one and only one of them is poisonous, while the rest are filled with water. They all look identical. If a pig drinks the poison it will die within 15 minutes. What is the minimum amount of pigs you need to figure out which bucket is poisonous within one hour?\n",
        "\n",
        "Answer this question, and write an algorithm for the general case.\n",
        "\n",
        "General case:\n",
        "\n",
        "If there are n buckets and a pig drinking poison will die within m minutes, how many pigs (x) you need to figure out the poisonous bucket within p minutes? There is exactly one bucket with poison.\n",
        "\n",
        "Note:\n",
        "\n",
        "A pig can be allowed to drink simultaneously on as many buckets as one would like, and the feeding takes no time.\n",
        "After a pig has instantly finished drinking buckets, there has to be a cool down time of m minutes. During this time, only observation is allowed and no feedings at all.\n",
        "Any given bucket can be sampled an infinite number of times (by an unlimited number of pigs)."
      ]
    },
    {
      "cell_type": "code",
      "metadata": {
        "id": "FaGyrk0TuWf7"
      },
      "source": [
        "class Solution:\n",
        "    def poorPigs(self, buckets: int, minutesToDie: int, minutesToTest: int) -> int:\n",
        "        tmp = minutesToTest / minutesToDie + 1\n",
        "        return math.ceil(math.log(buckets) / math.log(tmp))"
      ],
      "execution_count": null,
      "outputs": []
    },
    {
      "cell_type": "markdown",
      "metadata": {
        "id": "100kS2O7uYzL"
      },
      "source": [
        "## **Repeated Substring Pattern**\n",
        "Given a non-empty string check if it can be constructed by taking a substring of it and appending multiple copies of the substring together. You may assume the given string consists of lowercase English letters only and its length will not exceed 10000."
      ]
    },
    {
      "cell_type": "code",
      "metadata": {
        "id": "Hk_rN3ZGujjk"
      },
      "source": [
        "lass Solution:\n",
        "    def repeatedSubstringPattern(self, s: str) -> bool:\n",
        "        return (s + s).find(s, 1) != len(s)"
      ],
      "execution_count": null,
      "outputs": []
    },
    {
      "cell_type": "markdown",
      "metadata": {
        "id": "O86mdjEpum9V"
      },
      "source": [
        "## **Hamming Distance**\n",
        "The Hamming distance between two integers is the number of positions at which the corresponding bits are different.\n",
        "\n",
        "Given two integers x and y, calculate the Hamming distance"
      ]
    },
    {
      "cell_type": "code",
      "metadata": {
        "id": "mrhaBO5Ru0V_"
      },
      "source": [
        "class Solution:\n",
        "    def hammingDistance(self, x: int, y: int) -> int:\n",
        "        tmp = x ^ y\n",
        "        res = 0\n",
        "        while tmp > 0:\n",
        "            res += tmp & 1\n",
        "            tmp >>= 1\n",
        "        return res"
      ],
      "execution_count": null,
      "outputs": []
    },
    {
      "cell_type": "code",
      "metadata": {
        "id": "p5RZ4caNuvs0"
      },
      "source": [
        "class Solution:\n",
        "    def hammingDistance(self, x: int, y: int) -> int:\n",
        "        return bin(x ^ y).count('1')"
      ],
      "execution_count": null,
      "outputs": []
    },
    {
      "cell_type": "markdown",
      "metadata": {
        "id": "0ndSeFRhu4uW"
      },
      "source": [
        "## **Island Perimeter**\n",
        "You are given a map in form of a two-dimensional integer grid where 1 represents land and 0 represents water.\n",
        "\n",
        "Grid cells are connected horizontally/vertically (not diagonally). The grid is completely surrounded by water, and there is exactly one island (i.e., one or more connected land cells).\n",
        "\n",
        "The island doesn’t have “lakes” (water inside that isn’t connected to the water around the island). One cell is a square with side length 1. The grid is rectangular, width and height don’t exceed 100. Determine the perimeter of the island."
      ]
    },
    {
      "cell_type": "code",
      "metadata": {
        "id": "EhcJX9_RvJ7x"
      },
      "source": [
        "class Solution:\n",
        "    def islandPerimeter(self, grid: List[List[int]]) -> int:\n",
        "        m = len(grid)\n",
        "        n = len(grid[0])\n",
        "        res = 0\n",
        "        for i in range(m):\n",
        "            for j in range(n):\n",
        "                if grid[i][j] == 1:\n",
        "                    res += 4\n",
        "                    if i > 0 and grid[i - 1][j] == 1:\n",
        "                        res -= 2\n",
        "                    if j > 0 and grid[i][j - 1] == 1:\n",
        "                        res -= 2\n",
        "        return res"
      ],
      "execution_count": null,
      "outputs": []
    },
    {
      "cell_type": "markdown",
      "metadata": {
        "id": "-glpwJa_vK0S"
      },
      "source": [
        "## **Validate IP Address**\n",
        "Write a function to check whether an input string is a valid IPv4 address or IPv6 address or neither.\n",
        "\n",
        "IPv4 addresses are canonically represented in dot-decimal notation, which consists of four decimal numbers, each ranging from 0 to 255, separated by dots (“.”), e.g.,172.16.254.1;\n",
        "\n",
        "Besides, leading zeros in the IPv4 is invalid. For example, the address 172.16.254.01 is invalid.\n",
        "\n",
        "IPv6 addresses are represented as eight groups of four hexadecimal digits, each group representing 16 bits. The groups are separated by colons (“:”). For example, the address 2001:0db8:85a3:0000:0000:8a2e:0370:7334 is a valid one. Also, we could omit some leading zeros among four hexadecimal digits and some low-case characters in the address to upper-case ones, so 2001:db8:85a3:0:0:8A2E:0370:7334 is also a valid IPv6 address(Omit leading zeros and using upper cases).\n",
        "\n",
        "However, we don’t replace a consecutive group of zero value with a single empty group using two consecutive colons (::) to pursue simplicity. For example, 2001:0db8:85a3::8A2E:0370:7334 is an invalid IPv6 address.\n",
        "\n",
        "Besides, extra leading zeros in the IPv6 is also invalid. For example, the address 02001:0db8:85a3:0000:0000:8a2e:0370:7334 is invalid.\n",
        "\n",
        "Note: You may assume there is no extra space or special characters in the input string."
      ]
    },
    {
      "cell_type": "code",
      "metadata": {
        "id": "b0Lx_BvsvTbe"
      },
      "source": [
        "class Solution:\n",
        "    def validIPAddress(self, IP: str) -> str:\n",
        "        pv4 = re.compile(r'^(([0-9]|[1-9][0-9]|1[0-9][0-9]|2[0-4][0-9]|25[0-5])\\.){3}([0-9]|[1-9][0-9]|1[0-9][0-9]|2[0-4][0-9]|25[0-5])$')\n",
        "        if pv4.match(IP):\n",
        "            return \"IPv4\"\n",
        "        pv6 = re.compile(r'^(([0-9a-f]{1,4}):){7}([0-9a-f]{1,4})$')\n",
        "        if pv6.match(IP.lower()):\n",
        "            return \"IPv6\"\n",
        "        return \"Neither\""
      ],
      "execution_count": null,
      "outputs": []
    },
    {
      "cell_type": "code",
      "metadata": {
        "id": "VKG5firUvV-a"
      },
      "source": [
        "lass Solution:\n",
        "    def validIPAddress(self, IP: str) -> str:\n",
        "        def isIPv4(IP):\n",
        "            ip = IP.split('.')\n",
        "            for s in ip:\n",
        "                if len(s) == 0 or len(s) > 3:\n",
        "                    return 'Neither'\n",
        "                if ((s[0] == '0' and len(s) != 1) or not s.isdigit() or int(s) > 255):\n",
        "                    return 'Neither'\n",
        "            return 'IPv4'\n",
        "\n",
        "        def isIPv6(IP: str) -> str:\n",
        "            ip = IP.split(':')\n",
        "            for s in ip:\n",
        "                if len(s) == 0 or len(s) > 4:\n",
        "                    return \"Neither\"\n",
        "                for c in s:\n",
        "                     if c not in '0123456789abcdef':\n",
        "                        return \"Neither\"\n",
        "            return 'IPv6'\n",
        "\n",
        "        if len(IP.split('.'))-1 == 3:\n",
        "            return isIPv4(IP)\n",
        "        elif len(IP.split(':'))-1 == 7:\n",
        "            return isIPv6(IP.lower())\n",
        "        return \"Neither\""
      ],
      "execution_count": null,
      "outputs": []
    },
    {
      "cell_type": "markdown",
      "metadata": {
        "id": "heysX8UpvYx1"
      },
      "source": [
        "## **Implement Rand10() Using Rand7()**\n",
        "Given a function rand7 which generates a uniform random integer in the range 1 to 7, write a function rand10 which generates a uniform random integer in the range 1 to 10.\n",
        "\n",
        "Do NOT use system’s Math.random()."
      ]
    },
    {
      "cell_type": "code",
      "metadata": {
        "id": "IFePL5IMvmeI"
      },
      "source": [
        "class Solution:\n",
        "    def rand10(self):\n",
        "        \"\"\" :rtype: int \"\"\"\n",
        "        while True:\n",
        "            r1, r2 = rand7(), rand7()\n",
        "            t = r1 + (r2 - 1) * 7\n",
        "            if t <= 40:\n",
        "                return t % 10 + 1"
      ],
      "execution_count": null,
      "outputs": []
    },
    {
      "cell_type": "markdown",
      "metadata": {
        "id": "-wroR2pivsFT"
      },
      "source": [
        "## **Number Complement **\n",
        "Given a positive integer, output its complement number. The complement strategy is to flip the bits of its binary representation."
      ]
    },
    {
      "cell_type": "code",
      "metadata": {
        "id": "MpnRaqpfv1Am"
      },
      "source": [
        "class Solution:\n",
        "    def findComplement(self, num: int) -> int:\n",
        "        x = 1\n",
        "        while x <= num:\n",
        "            x <<= 1\n",
        "        return (x - 1) ^ num"
      ],
      "execution_count": null,
      "outputs": []
    },
    {
      "cell_type": "markdown",
      "metadata": {
        "id": "8g57mvqRv3_-"
      },
      "source": [
        "## **Find Permutation**\n",
        "By now, you are given a secret signature consisting of character ‘D’ and ‘I’. ‘D’ represents a decreasing relationship between two numbers, ‘I’ represents an increasing relationship between two numbers. And our secret signature was constructed by a special integer array, which contains uniquely all the different number from 1 to n (n is the length of the secret signature plus 1). For example, the secret signature “DI” can be constructed by array [2,1,3] or [3,1,2], but won’t be constructed by array [3,2,4] or [2,1,3,4], which are both illegal constructing special string that can’t represent the “DI” secret signature.\n",
        "\n",
        "On the other hand, now your job is to find the lexicographically smallest permutation of [1, 2, … n] could refer to the given secret signature in the input.\n"
      ]
    },
    {
      "cell_type": "code",
      "metadata": {
        "id": "rtjjoKqYwBvj"
      },
      "source": [
        "class Solution:\n",
        "    def findPermutation(self, s: str) -> List[int]:\n",
        "        res = list(range(1, len(s) + 2))\n",
        "        for m in re.finditer('D+', s):\n",
        "            i, j = m.start(), m.end() + 1\n",
        "            res[i: j] = res[i: j][::-1]\n",
        "        return res"
      ],
      "execution_count": null,
      "outputs": []
    },
    {
      "cell_type": "markdown",
      "metadata": {
        "id": "PC8fr7NMwPQQ"
      },
      "source": [
        "## **The Maze**\n",
        "There is a ball in a maze with empty spaces and walls. The ball can go through empty spaces by rolling up, down, left or right, but it won’t stop rolling until hitting a wall. When the ball stops, it could choose the next direction.\n",
        "\n",
        "Given the ball’s start position, the destination and the maze, determine whether the ball could stop at the destination.\n",
        "\n",
        "The maze is represented by a binary 2D array. 1 means the wall and 0 means the empty space. You may assume that the borders of the maze are all walls. The start and destination coordinates are represented by row and column indexes."
      ]
    },
    {
      "cell_type": "code",
      "metadata": {
        "id": "0fNHzgbJwTbZ"
      },
      "source": [
        "class Solution:\n",
        "    def hasPath(self, maze: List[List[int]], start: List[int], destination: List[int]) -> bool:\n",
        "        m, n, visit = len(maze), len(maze[0]), set()\n",
        "        directions = [(1, 0), (-1, 0), (0, -1), (0, 1)]\n",
        "        stack = [start]\n",
        "        while stack:\n",
        "            curx, cury = stack.pop()\n",
        "            if [curx, cury] == destination:\n",
        "                    return True\n",
        "            for dirx, diry in directions:\n",
        "                tx, ty = curx, cury\n",
        "                while 0 <= tx + dirx < m and 0 <= ty + diry < n and not maze[tx + dirx][ty + diry]:\n",
        "                    tx, ty = tx + dirx, ty + diry\n",
        "                if (tx, ty) not in visit:\n",
        "                    visit.add((tx, ty))\n",
        "                    stack.append((tx, ty))\n",
        "        return False"
      ],
      "execution_count": null,
      "outputs": []
    },
    {
      "cell_type": "markdown",
      "metadata": {
        "id": "B0BTTBeCwgis"
      },
      "source": [
        "## **Teemo Attacking**\n",
        "In LOL world, there is a hero called Teemo and his attacking can make his enemy Ashe be in poisoned condition. Now, given the Teemo’s attacking ascending time series towards Ashe and the poisoning time duration per Teemo’s attacking, you need to output the total time that Ashe is in poisoned condition.\n",
        "\n",
        "You may assume that Teemo attacks at the very beginning of a specific time point, and makes Ashe be in poisoned condition immediately."
      ]
    },
    {
      "cell_type": "code",
      "metadata": {
        "id": "p0lD2DezwOh-"
      },
      "source": [
        "class Solution:\n",
        "    def findPoisonedDuration(self, timeSeries: List[int], duration: int) -> int:\n",
        "        l = len(timeSeries)\n",
        "        if l == 0:\n",
        "            return 0\n",
        "        if l == 1:\n",
        "            return duration\n",
        "        res = duration\n",
        "        for i in range(1, l):\n",
        "            res += min(timeSeries[i] - timeSeries[i - 1], duration)\n",
        "        return res"
      ],
      "execution_count": null,
      "outputs": []
    },
    {
      "cell_type": "markdown",
      "metadata": {
        "id": "uiCKMjL1wz3n"
      },
      "source": [
        "## **Random Point in Non-overlapping Rectangles**\n",
        "Given a list of non-overlapping axis-aligned rectangles rects, write a function pick which randomly and uniformily picks an integer point in the space covered by the rectangles.\n",
        "\n",
        "Note:\n",
        "\n",
        "An integer point is a point that has integer coordinates.\n",
        "A point on the perimeter of a rectangle is included in the space covered by the rectangles.\n",
        "ith rectangle = rects[i] = [x1,y1,x2,y2], where [x1, y1] are the integer coordinates of the bottom-left corner, and [x2, y2] are the integer coordinates of the top-right corner.\n",
        "length and width of each rectangle does not exceed 2000.\n",
        "1 <= rects.length <= 100\n",
        "pick return a point as an array of integer coordinates [p_x, p_y]\n",
        "pick is called at most 10000 times."
      ]
    },
    {
      "cell_type": "code",
      "metadata": {
        "id": "EepPH2S4w6_J"
      },
      "source": [
        "class Solution:\n",
        "\n",
        "    def __init__(self, rects: List[List[int]]):\n",
        "        self.rects = rects\n",
        "        rect = rects[0]\n",
        "        self.areas = [(rect[2] - rect[0] + 1) * (rect[3] - rect[1] + 1)]\n",
        "        for rect in rects[1:]:\n",
        "            curarea = (rect[2] - rect[0] + 1) * (rect[3] - rect[1] + 1)\n",
        "            self.areas.append(self.areas[-1] + curarea)\n",
        "        self.sum = self.areas[-1]\n",
        "\n",
        "    def pick(self) -> List[int]:\n",
        "        ran = random.randint(1, self.sum)\n",
        "        ind = bisect.bisect_left(self.areas, ran)\n",
        "        rect = self.rects[ind]\n",
        "        return [random.randint(rect[0], rect[2]), random.randint(rect[1], rect[3])]"
      ],
      "execution_count": null,
      "outputs": []
    },
    {
      "cell_type": "code",
      "metadata": {
        "id": "lFLm2OjEwFfq"
      },
      "source": [
        "class Solution:\n",
        "\n",
        "    def __init__(self, rects: List[List[int]]):\n",
        "        self.rects = rects\n",
        "        self.areas = [(rect[2] - rect[0] + 1) * (rect[3] - rect[1] + 1) for rect in rects]\n",
        "\n",
        "    def pick(self) -> List[int]:\n",
        "        rect = random.choices(population = self.rects, weights = self.areas)[0]\n",
        "        return [random.randint(rect[0], rect[2]), random.randint(rect[1], rect[3])]"
      ],
      "execution_count": null,
      "outputs": []
    },
    {
      "cell_type": "markdown",
      "metadata": {
        "id": "3xTwitFhw9uu"
      },
      "source": [
        "## **Coin Change 2**\n",
        "You are given coins of different denominations and a total amount of money. Write a function to compute the number of combinations that make up that amount. You may assume that you have infinite number of each kind of coin."
      ]
    },
    {
      "cell_type": "code",
      "metadata": {
        "id": "n6qNP_0NxNaD"
      },
      "source": [
        "class Solution:\n",
        "    def change(self, amount: int, coins: List[int]) -> int:\n",
        "        dp = [1] + [0] * amount\n",
        "        for c in coins:\n",
        "            for i in range(c, amount + 1):\n",
        "                dp[i] += dp[i - c]\n",
        "        return dp[amount]"
      ],
      "execution_count": null,
      "outputs": []
    },
    {
      "cell_type": "markdown",
      "metadata": {
        "id": "GdMrC50ExPo6"
      },
      "source": [
        "## **Detect Capital**\n",
        "Given a word, you need to judge whether the usage of capitals in it is right or not.\n",
        "\n",
        "We define the usage of capitals in a word to be right when one of the following cases holds:\n",
        "\n",
        "All letters in this word are capitals, like “USA”.\n",
        "All letters in this word are not capitals, like “leetcode”.\n",
        "Only the first letter in this word is capital, like “Google”. Otherwise, we define that this word doesn’t use capitals in a right way."
      ]
    },
    {
      "cell_type": "code",
      "metadata": {
        "id": "sc1DOgU_xYN5"
      },
      "source": [
        "class Solution:\n",
        "    def detectCapitalUse(self, word: str) -> bool:\n",
        "        return word.isupper() or word.islower() or word.istitle()"
      ],
      "execution_count": null,
      "outputs": []
    },
    {
      "cell_type": "code",
      "metadata": {
        "id": "2h9fDytpxcsX"
      },
      "source": [
        "class Solution:\n",
        "    def detectCapitalUse(self, word: str) -> bool:\n",
        "        if word[0].isupper():\n",
        "            if len(word)==1:\n",
        "                return True\n",
        "            else:\n",
        "                if word[1].isupper():\n",
        "                    for s in word[1:]:\n",
        "                        if not s.isupper():\n",
        "                            return False\n",
        "                else:\n",
        "                    for s in word[1:]:\n",
        "                        if s.isupper():\n",
        "                            return False\n",
        "        else:\n",
        "            for s in word[1:]:\n",
        "                if s.isupper():\n",
        "                    return False\n",
        "        return True"
      ],
      "execution_count": null,
      "outputs": []
    },
    {
      "cell_type": "markdown",
      "metadata": {
        "id": "np0oMqCCyR3M"
      },
      "source": [
        "## **Contiguous Array**\n",
        "Given a binary array, find the maximum length of a contiguous subarray with equal number of 0 and 1."
      ]
    },
    {
      "cell_type": "code",
      "metadata": {
        "id": "UxGhb0WVyYZp"
      },
      "source": [
        "class Solution:\n",
        "    def findMaxLength(self, nums: List[int]) -> int:\n",
        "        res = ct = 0\n",
        "        dic = {0: 0}\n",
        "        for i, n in enumerate(nums, 1):\n",
        "            ct += 1 if n else -1\n",
        "            if ct in dic:\n",
        "                res = max(res, i - dic[ct])\n",
        "            else:\n",
        "                dic[ct] = i\n",
        "        return res"
      ],
      "execution_count": null,
      "outputs": []
    },
    {
      "cell_type": "markdown",
      "metadata": {
        "id": "nWOH8lcVybQm"
      },
      "source": [
        "## **Beautiful Arrangement**\n",
        "Suppose you have n integers from 1 to n. We define a beautiful arrangement as an array that is constructed by these n numbers successfully if one of the following is true for the ith position (1 <= i <= n) in this array:\n",
        "\n",
        "The number at the ith position is divisible by i.\n",
        "i is divisible by the number at the ith position. Given an integer n, return the number of the beautiful arrangements that you can construct."
      ]
    },
    {
      "cell_type": "code",
      "metadata": {
        "id": "hLGrlCqryqJq"
      },
      "source": [
        "class Solution:\n",
        "    def countArrangement(self, n: int) -> int:\n",
        "        def dfs(num, now):\n",
        "            if now == 0:\n",
        "                res[0] += 1\n",
        "                return\n",
        "            for i in range(now, 0, -1):\n",
        "                num[i], num[now] = num[now], num[i]\n",
        "                if num[now] % now == 0 or now % num[now] == 0:\n",
        "                    dfs(num, now - 1)\n",
        "                num[now], num[i] = num[i], num[now]\n",
        "\n",
        "        res = [0]\n",
        "        dfs([i for i in range(n + 1)], n)\n",
        "        return res[0]"
      ],
      "execution_count": null,
      "outputs": []
    },
    {
      "cell_type": "markdown",
      "metadata": {
        "id": "1saHfgu1yrhy"
      },
      "source": [
        "## **Random Pick with Weight**\n",
        "Given an array w of positive integers, where w[i] describes the weight of index i, write a function pickIndex which randomly picks an index in proportion to its weight.\n",
        "\n",
        "Note:\n",
        "\n",
        "1 <= w.length <= 10000\n",
        "1 <= w[i] <= 10^5\n",
        "pickIndex will be called at most 10000 times."
      ]
    },
    {
      "cell_type": "markdown",
      "metadata": {
        "id": "9DbBYY2TzgI_"
      },
      "source": [
        "## **K-diff Pairs in an Array**\n",
        "Given an array of integers nums and an integer k, return the number of unique k-diff pairs in the array.\n",
        "\n",
        "A k-diff pair is an integer pair (nums[i], nums[j]), where the following are true:\n",
        "\n",
        "0 <= i, j < nums.length\n",
        "i != j\n",
        "a <= b\n",
        "b - a == k"
      ]
    },
    {
      "cell_type": "code",
      "metadata": {
        "id": "KPyfONLBzod4"
      },
      "source": [
        "class Solution:\n",
        "    def findPairs(self, nums: List[int], k: int) -> int:\n",
        "        ct = Counter(nums)\n",
        "        res = 0\n",
        "        if k == 0:\n",
        "            for v in ct.values():\n",
        "                res += v > 1\n",
        "        else:\n",
        "            for n in ct:\n",
        "                res += k + n in ct\n",
        "        return res"
      ],
      "execution_count": null,
      "outputs": []
    },
    {
      "cell_type": "markdown",
      "metadata": {
        "id": "MjIU2iHNz0wI"
      },
      "source": [
        "## **Single Element in a Sorted Array**\n",
        "You are given a sorted array consisting of only integers where every element appears exactly twice, except for one element which appears exactly once. Find this single element that appears only once."
      ]
    },
    {
      "cell_type": "code",
      "metadata": {
        "id": "_gxOCekY0Bra"
      },
      "source": [
        "class Solution:\n",
        "    def singleNonDuplicate(self, nums: List[int]) -> int:\n",
        "        l, r = 0, len(nums) - 1\n",
        "        while l < r:\n",
        "            mid = (l + r) // 2\n",
        "            if nums[mid] != nums[mid-1] and nums[mid] != nums[mid+1]:\n",
        "                return nums[mid]\n",
        "            if (mid % 2 == 0 and nums[mid] == nums[mid+1]) or (mid % 2 == 1 and nums[mid] == nums[mid-1]):\n",
        "                    l = mid + 1\n",
        "            else:\n",
        "                r = mid - 1\n",
        "        return nums[l]"
      ],
      "execution_count": null,
      "outputs": []
    },
    {
      "cell_type": "markdown",
      "metadata": {
        "id": "lV9MDbUK0IZ0"
      },
      "source": [
        "## **Diameter of Binary Tree**\n",
        "Given a binary tree, you need to compute the length of the diameter of the tree. The diameter of a binary tree is the length of the longest path between any two nodes in a tree. This path may or may not pass through the root."
      ]
    },
    {
      "cell_type": "code",
      "metadata": {
        "id": "TvRGCRYv0PA7"
      },
      "source": [
        "class Solution:\n",
        "    res = 0\n",
        "    def diameterOfBinaryTree(self, root: TreeNode) -> int:\n",
        "        def dfs(root):\n",
        "            if not root:\n",
        "                return 0\n",
        "            l = dfs(root.left)\n",
        "            r = dfs(root.right)\n",
        "            self.res = max(self.res, l + r)\n",
        "            return max(l, r) + 1\n",
        "\n",
        "        if not root:\n",
        "            return 0\n",
        "        dfs(root)\n",
        "        return self.res"
      ],
      "execution_count": null,
      "outputs": []
    },
    {
      "cell_type": "markdown",
      "metadata": {
        "id": "y34t0zw10Vow"
      },
      "source": [
        "## **Next Greater Element III**\n",
        "Given a positive integer n, find the smallest integer which has exactly the same digits existing in the integer n and is greater in value than n. If no such positive integer exists, return -1.\n",
        "\n",
        "Note that the returned integer should fit in 32-bit integer, if there is a valid answer but it does not fit in 32-bit integer, return -1."
      ]
    },
    {
      "cell_type": "code",
      "metadata": {
        "id": "WX7DSCzU0mQe"
      },
      "source": [
        "class Solution:\n",
        "    def nextGreaterElement(self, n: int) -> int:\n",
        "        s = list(str(n))\n",
        "        l = len(s)\n",
        "        i = l - 2\n",
        "        while i >= 0:\n",
        "            if s[i] < s[i + 1]:\n",
        "                break\n",
        "            i -= 1\n",
        "        if i < 0:\n",
        "            return -1\n",
        "        for j in range(l - 1, i, -1):\n",
        "            if s[j] > s[i]:\n",
        "                s[i], s[j] = s[j], s[i]\n",
        "                break\n",
        "        s[i + 1:] = s[i + 1:][::-1]\n",
        "        res = ''.join(s)\n",
        "        return res if int(res) <= 0x7fffffff else -1"
      ],
      "execution_count": null,
      "outputs": []
    },
    {
      "cell_type": "markdown",
      "metadata": {
        "id": "NLQE7EMI0tyK"
      },
      "source": [
        "## **Subarray Sum Equals K**\n",
        "Given an array of integers and an integer k, you need to find the total number of continuous subarrays whose sum equals to k."
      ]
    },
    {
      "cell_type": "code",
      "metadata": {
        "id": "MLZiyzT-05ZZ"
      },
      "source": [
        "from collections import defaultdict\n",
        "class Solution:\n",
        "    def subarraySum(self, nums: List[int], k: int) -> int:\n",
        "        dic = defaultdict(int)\n",
        "        s = 0\n",
        "        dic[0] = 1\n",
        "        res = 0\n",
        "        for n in nums:\n",
        "            s += n\n",
        "            if s - k in dic:\n",
        "                res += dic[s - k]\n",
        "            dic[s] += 1\n",
        "        return res"
      ],
      "execution_count": null,
      "outputs": []
    },
    {
      "cell_type": "markdown",
      "metadata": {
        "id": "UYguRh4z0nVZ"
      },
      "source": [
        "## **Binary Tree Tilt**\n",
        "Given the root of a binary tree, return the sum of every tree node’s tilt.\n",
        "\n",
        "The tilt of a tree node is the absolute difference between the sum of all left subtree node values and all right subtree node values. If a node does not have a left child, then the sum of the left subtree node values is treated as 0. The rule is similar if there the node does not have a right child."
      ]
    },
    {
      "cell_type": "code",
      "metadata": {
        "id": "6PpEPJpB1Sko"
      },
      "source": [
        "class Solution:\n",
        "    def findTilt(self, root: TreeNode) -> int:\n",
        "        def dfs(root):\n",
        "            if not root:\n",
        "                return 0\n",
        "            left = dfs(root.left)\n",
        "            right = dfs(root.right)\n",
        "            self.res += abs(left - right)\n",
        "            return left + right + root.val\n",
        "\n",
        "        self.res = 0\n",
        "        dfs(root)\n",
        "        return self.res"
      ],
      "execution_count": null,
      "outputs": []
    },
    {
      "cell_type": "markdown",
      "metadata": {
        "id": "iGnK9URj1dgx"
      },
      "source": [
        "## **Permutation in String**\n",
        "Given two strings s1 and s2, write a function to return true if s2 contains the permutation of s1. In other words, one of the first string’s permutations is the substring of the second string."
      ]
    },
    {
      "cell_type": "code",
      "metadata": {
        "id": "LIfJXIOE1n0A"
      },
      "source": [
        "class Solution:\n",
        "    def checkInclusion(self, p: str, s: str) -> bool:\n",
        "        def f(c):\n",
        "            return ord(c) - 97\n",
        "\n",
        "        ct_s, ct_p = [0] * 26, [0] * 26\n",
        "        for c in p:\n",
        "            ct_p[f(c)] += 1\n",
        "        l = len(p)\n",
        "        for c in s[: l - 1]:\n",
        "            ct_s[f(c)] += 1\n",
        "        for i, c in enumerate(s[l - 1:]):\n",
        "            ct_s[f(c)] += 1\n",
        "            if ct_s == ct_p:\n",
        "                return True\n",
        "            ct_s[f(s[i])] -= 1\n",
        "        return False"
      ],
      "execution_count": null,
      "outputs": []
    },
    {
      "cell_type": "markdown",
      "metadata": {
        "id": "rXeAevrG1qXe"
      },
      "source": [
        "## **Valid Square**\n"
      ]
    },
    {
      "cell_type": "code",
      "metadata": {
        "id": "YQnnEaug1zat"
      },
      "source": [
        "class Solution:\n",
        "    def validSquare(self, p1: List[int], p2: List[int], p3: List[int], p4: List[int]) -> bool:\n",
        "        dis = []\n",
        "        dis.append((p1[0] - p2[0]) ** 2 + (p1[1] - p2[1]) ** 2)\n",
        "        dis.append((p1[0] - p3[0]) ** 2 + (p1[1] - p3[1]) ** 2)\n",
        "        dis.append((p1[0] - p4[0]) ** 2 + (p1[1] - p4[1]) ** 2)\n",
        "        dis.append((p2[0] - p3[0]) ** 2 + (p2[1] - p3[1]) ** 2)\n",
        "        dis.append((p2[0] - p4[0]) ** 2 + (p2[1] - p4[1]) ** 2)\n",
        "        dis.append((p3[0] - p4[0]) ** 2 + (p3[1] - p4[1]) ** 2)\n",
        "        dis.sort()\n",
        "        return dis[0] != 0 and dis[0] == dis[1] == dis[2] == dis[3] and dis[4] == dis[5]"
      ],
      "execution_count": null,
      "outputs": []
    },
    {
      "cell_type": "markdown",
      "metadata": {
        "id": "RiRiSCru14Rk"
      },
      "source": [
        "## **Can Place Flowers**\n",
        "You have a long flowerbed in which some of the plots are planted, and some are not. However, flowers cannot be planted in adjacent plots.\n",
        "\n",
        "Given an integer array flowerbed containing 0’s and 1’s, where 0 means empty and 1 means not empty, and an integer n, return if n new flowers can be planted in the flowerbed without violating the no-adjacent-flowers rule."
      ]
    },
    {
      "cell_type": "code",
      "metadata": {
        "id": "U-Gq1HsN1-L2"
      },
      "source": [
        "class Solution:\n",
        "    def canPlaceFlowers(self, flowerbed: List[int], n: int) -> bool:\n",
        "        count = 0\n",
        "        flowerbed.extend([0, 0])\n",
        "        for i in range(len(flowerbed) - 2):\n",
        "            if flowerbed[i - 1] == flowerbed[i] == flowerbed[i + 1] == 0:\n",
        "                flowerbed[i] = 1\n",
        "                count += 1\n",
        "        return count >= n"
      ],
      "execution_count": null,
      "outputs": []
    },
    {
      "cell_type": "markdown",
      "metadata": {
        "id": "ocpT3z442Ajy"
      },
      "source": [
        "## **Task Scheduler**\n",
        "You are given a char array representing tasks CPU need to do. It contains capital letters A to Z where each letter represents a different task. Tasks could be done without the original order of the array. Each task is done in one unit of time. For each unit of time, the CPU could complete either one task or just be idle.\n",
        "\n",
        "However, there is a non-negative integer n that represents the cooldown period between two same tasks (the same letter in the array), that is that there must be at least n units of time between any two same tasks.\n",
        "\n",
        "You need to return the least number of units of times that the CPU will take to finish all the given tasks."
      ]
    },
    {
      "cell_type": "code",
      "metadata": {
        "id": "LwswXZM42M9v"
      },
      "source": [
        "class Solution:\n",
        "    def leastInterval(self, tasks: List[str], n: int) -> int:\n",
        "        ct = Counter(tasks)\n",
        "        maxx = max(ct.values())\n",
        "        nmax = len([v for v in ct.values() if v == maxx])\n",
        "        return max(len(tasks), (maxx - 1) * (n + 1) + nmax)"
      ],
      "execution_count": null,
      "outputs": []
    },
    {
      "cell_type": "markdown",
      "metadata": {
        "id": "Mpl-LzXc19ev"
      },
      "source": [
        "## **Maximum Width of Binary Tree**\n",
        "Given a binary tree, write a function to get the maximum width of the given tree. The width of a tree is the maximum width among all levels. The binary tree has the same structure as a full binary tree, but some nodes are null.\n",
        "\n",
        "The width of one level is defined as the length between the end-nodes (the leftmost and right most non-null nodes in the level, where the null nodes between the end-nodes are also counted into the length calculation."
      ]
    },
    {
      "cell_type": "code",
      "metadata": {
        "id": "53Zg3-7V2N28"
      },
      "source": [
        "class Solution:\n",
        "    def widthOfBinaryTree(self, root: TreeNode) -> int:\n",
        "        q = [(root, 0)]\n",
        "        res = 1\n",
        "        while q:\n",
        "            res = max(res, q[-1][1] - q[0][1] + 1)\n",
        "            tmp = []\n",
        "            for node, pos in q:\n",
        "                if node.left:\n",
        "                    tmp.append((node.left, pos * 2))\n",
        "                if node.right:\n",
        "                    tmp.append((node.right, pos * 2 + 1))\n",
        "            q = tmp\n",
        "        return res"
      ],
      "execution_count": null,
      "outputs": []
    },
    {
      "cell_type": "markdown",
      "metadata": {
        "id": "eAus17CD2aKp"
      },
      "source": [
        "## **Number of Longest Increasing Subsequence**\n",
        "Given an integer array nums, return the number of longest increasing subsequences."
      ]
    },
    {
      "cell_type": "code",
      "metadata": {
        "id": "CkqN2wfJ0H31"
      },
      "source": [
        "class Solution:\n",
        "    def findNumberOfLIS(self, nums):\n",
        "        dp = collections.defaultdict(collections.Counter)\n",
        "        dp[-1][float('-inf')] = 1\n",
        "        table = []\n",
        "        for n in nums:\n",
        "            i = bisect.bisect_left(table, n)\n",
        "            if i == len(table):\n",
        "                table.append(n)\n",
        "            else:\n",
        "                table[i] = n\n",
        "            dp[i][n] += sum(dp[i - 1][j] for j in dp[i - 1] if j < n)\n",
        "        return sum(dp[max(0, len(table) - 1)].values())"
      ],
      "execution_count": null,
      "outputs": []
    },
    {
      "cell_type": "markdown",
      "metadata": {
        "id": "sdmyL3ZS2qRF"
      },
      "source": [
        "## **Valid Parenthesis String**\n",
        "Given a string containing only three types of characters: ‘(‘, ‘)’ and ‘*’, write a function to check whether this string is valid. We define the validity of a string by these rules:\n",
        "\n",
        "Any left parenthesis ‘(‘ must have a corresponding right parenthesis ‘)’.\n",
        "Any right parenthesis ‘)’ must have a corresponding left parenthesis ‘(‘.\n",
        "Left parenthesis ‘(‘ must go before the corresponding right parenthesis ‘)’.\n",
        "‘*’ could be treated as a single right parenthesis ‘)’ or a single left parenthesis ‘(‘ or an empty string.\n",
        "An empty string is also valid."
      ]
    },
    {
      "cell_type": "code",
      "metadata": {
        "id": "Jp7n2VQXymWM"
      },
      "source": [
        "class Solution:\n",
        "    def checkValidString(self, s: str) -> bool:\n",
        "        l = r = 0\n",
        "        for c in s:\n",
        "            if c == '(':\n",
        "                l += 1\n",
        "                r += 1\n",
        "            elif c == ')':\n",
        "                if l > 0:\n",
        "                    l -= 1\n",
        "                r -= 1\n",
        "            else:\n",
        "                if l > 0:\n",
        "                    l -= 1\n",
        "                r += 1\n",
        "            if r < 0:\n",
        "                return False\n",
        "        return l == 0"
      ],
      "execution_count": null,
      "outputs": []
    },
    {
      "cell_type": "markdown",
      "metadata": {
        "id": "UmVWPHWn20-J"
      },
      "source": [
        "## **Search in a Binary Search Tree**\n",
        "Given the root node of a binary search tree (BST) and a value. You need to find the node in the BST that the node’s value equals the given value. Return the subtree rooted with that node. If such node doesn’t exist, you should return NULL."
      ]
    },
    {
      "cell_type": "code",
      "metadata": {
        "id": "hppQI9ya2-KJ"
      },
      "source": [
        "class Solution:\n",
        "    def searchBST(self, root: TreeNode, val: int) -> TreeNode:\n",
        "        if not root:\n",
        "            return None\n",
        "        while root:\n",
        "            if root.val == val:\n",
        "                return root\n",
        "            if root.val > val:\n",
        "                root = root.left\n",
        "            else:\n",
        "                root = root.right"
      ],
      "execution_count": null,
      "outputs": []
    },
    {
      "cell_type": "markdown",
      "metadata": {
        "id": "jjZDipmb3x7y"
      },
      "source": [
        "## **Insert into a Binary Search Tree**\n",
        "You are given the root node of a binary search tree (BST) and a value to insert into the tree. Return the root node of the BST after the insertion. It is guaranteed that the new value does not exist in the original BST.\n",
        "\n",
        "Notice that there may exist multiple valid ways for the insertion, as long as the tree remains a BST after insertion. You can return any of them."
      ]
    },
    {
      "cell_type": "code",
      "metadata": {
        "id": "sDhyqJ4CxadA"
      },
      "source": [
        "class Solution:\n",
        "    def insertIntoBST(self, root, val):\n",
        "        if not root:\n",
        "            return TreeNode(val)\n",
        "        if val > root.val:\n",
        "            root.right = self.insertIntoBST(root.right, val)\n",
        "        else:\n",
        "            root.left = self.insertIntoBST(root.left, val)\n",
        "        return root"
      ],
      "execution_count": null,
      "outputs": []
    },
    {
      "cell_type": "markdown",
      "metadata": {
        "id": "9lWMiH-f45lt"
      },
      "source": [
        "## **Binary Search**\n",
        "Given a sorted (in ascending order) integer array nums of n elements and a target value, write a function to search target in nums. If target exists, then return its index, otherwise return -1"
      ]
    },
    {
      "cell_type": "code",
      "metadata": {
        "id": "Te-dMOXh4_UC"
      },
      "source": [
        "lass Solution:\n",
        "    def search(self, nums: List[int], target: int) -> int:\n",
        "        l, r = 0, len(nums) - 1\n",
        "        while l <= r:\n",
        "            m = (l + r) // 2\n",
        "            if nums[m] == target:\n",
        "                return m\n",
        "            if nums[m] < target:\n",
        "                l = m + 1\n",
        "            else:\n",
        "                r = m - 1\n",
        "        return -1"
      ],
      "execution_count": null,
      "outputs": []
    },
    {
      "cell_type": "markdown",
      "metadata": {
        "id": "ul-_9VGJ5a7e"
      },
      "source": [
        "## **Design HashSet**\n",
        "Design a HashSet without using any built-in hash table libraries.\n",
        "\n",
        "To be specific, your design should include these functions:\n",
        "\n",
        "add(value): Insert a value into the HashSet.\n",
        "contains(value) : Return whether the value exists in the HashSet or not.\n",
        "remove(value): Remove a value in the HashSet. If the value does not exist in the HashSet, do nothing."
      ]
    },
    {
      "cell_type": "code",
      "metadata": {
        "id": "EuI4jO4m5m1d"
      },
      "source": [
        "class Node:\n",
        "\n",
        "    def __init__(self, value, nextNode=None):\n",
        "        self.val = value\n",
        "        self.next = nextNode\n",
        "\n",
        "class Bucket:\n",
        "\n",
        "    def __init__(self):\n",
        "        self.head = Node(0)\n",
        "\n",
        "    def exists(self, val):\n",
        "        cur = self.head.next\n",
        "        while cur:\n",
        "            if cur.val == val:\n",
        "                return True\n",
        "            cur = cur.next\n",
        "        return False\n",
        "\n",
        "    def insert(self, val):\n",
        "        if not self.exists(val):\n",
        "            node = Node(val, self.head.next)\n",
        "            self.head.next = node\n",
        "\n",
        "    def delete(self, val):\n",
        "        pre = self.head\n",
        "        cur = self.head.next\n",
        "        while cur:\n",
        "            if cur.val == val:\n",
        "                pre.next = cur.next\n",
        "                return\n",
        "            pre = cur\n",
        "            cur = cur.next\n",
        "\n",
        "class MyHashSet:\n",
        "\n",
        "    def __init__(self):\n",
        "        \"\"\" Initialize your data structure here. \"\"\"\n",
        "        self.m = 1009\n",
        "        self.bucket = [Bucket() for i in range(self.m)]\n",
        "\n",
        "    def _hash(self, key):\n",
        "        return key % self.m\n",
        "\n",
        "    def add(self, key: int) -> None:\n",
        "        self.bucket[self._hash(key)].insert(key)\n",
        "\n",
        "    def remove(self, key: int) -> None:\n",
        "        self.bucket[self._hash(key)].delete(key)\n",
        "\n",
        "    def contains(self, key: int) -> bool:\n",
        "        \"\"\" Returns true if this set contains the specified element \"\"\"\n",
        "        return self.bucket[self._hash(key)].exists(key)"
      ],
      "execution_count": null,
      "outputs": []
    },
    {
      "cell_type": "markdown",
      "metadata": {
        "id": "YyhtgWUT5na-"
      },
      "source": [
        "## **Subarray Product Less Than K**\n",
        "Your are given an array of positive integers nums.\n",
        "\n",
        "Count and print the number of (contiguous) subarrays where the product of all the elements in the subarray is less than k."
      ]
    },
    {
      "cell_type": "code",
      "metadata": {
        "id": "4loaJ2Ez52P7"
      },
      "source": [
        "class Solution:\n",
        "    def numSubarrayProductLessThanK(self, nums: List[int], k: int) -> int:\n",
        "        if k <= 1:\n",
        "            return 0\n",
        "        prod = 1\n",
        "        res = l = 0\n",
        "        for r, val in enumerate(nums):\n",
        "            prod *= val\n",
        "            while prod >= k:\n",
        "                prod /= nums[l]\n",
        "                l += 1\n",
        "            res += r - l + 1\n",
        "        return res"
      ],
      "execution_count": null,
      "outputs": []
    },
    {
      "cell_type": "markdown",
      "metadata": {
        "id": "qBZrgUx053OG"
      },
      "source": [
        "## **Flood Fill**\n",
        "An image is represented by a 2-D array of integers, each integer representing the pixel value of the image (from 0 to 65535).Given a coordinate (sr, sc) representing the starting pixel (row and column) of the flood fill, and a pixel value newColor, “flood fill” the image.To perform a “flood fill”, consider the starting pixel, plus any pixels connected 4-directionally to the starting pixel of the same color as the starting pixel, plus any pixels connected 4-directionally to those pixels (also with the same color as the starting pixel), and so on. Replace the color of all of the aforementioned pixels with the newColor.At the end, return the modified image."
      ]
    },
    {
      "cell_type": "code",
      "metadata": {
        "id": "Zssr5Cma6nSo"
      },
      "source": [
        "class Solution:\n",
        "    def floodFill(self, image: List[List[int]], sr: int, sc: int, newColor: int) -> List[List[int]]:\n",
        "        m, n = len(image), len(image[0])\n",
        "        directions = [(-1, 0), (1, 0), (0, -1), (0, 1)]\n",
        "        q = [(sr, sc)]\n",
        "        visited = {(sr, sc)}\n",
        "        color = image[sr][sc]\n",
        "        while q:\n",
        "            x, y = q.pop()\n",
        "            image[x][y] = newColor\n",
        "            for dirx, diry in directions:\n",
        "                tx, ty = x + dirx, y + diry\n",
        "                if 0 <= tx < m and 0 <= ty < n and image[tx][ty] == color and (tx, ty) not in visited:\n",
        "                    q.append((tx, ty))\n",
        "                    visited.add((tx, ty))\n",
        "        return image"
      ],
      "execution_count": null,
      "outputs": []
    },
    {
      "cell_type": "markdown",
      "metadata": {
        "id": "394r3SB96wxz"
      },
      "source": [
        "## **Asteroid Collision**\n",
        "We are given an array asteroids of integers representing asteroids in a row.\n",
        "For each asteroid, the absolute value represents its size, and the sign represents its direction (positive meaning right, negative meaning left). Each asteroid moves at the same speed.Find out the state of the asteroids after all collisions. If two asteroids meet, the smaller one will explode. If both are the same size, both will explode. Two asteroids moving in the same direction will never meet.\n"
      ]
    },
    {
      "cell_type": "code",
      "metadata": {
        "id": "Hsy2TMKW7J-Z"
      },
      "source": [
        "class Solution:\n",
        "    def asteroidCollision(self, asteroids: List[int]) -> List[int]:\n",
        "        stack = []\n",
        "        for n in asteroids:\n",
        "            if not stack or stack[-1] < 0 or n > 0:\n",
        "                stack.append(n)\n",
        "                continue\n",
        "            while stack and stack[-1] > 0:\n",
        "                if stack[-1] > abs(n):\n",
        "                    break\n",
        "                x = stack.pop()\n",
        "                if x + n == 0:\n",
        "                    break\n",
        "            else:\n",
        "                stack.append(n)\n",
        "        return stack"
      ],
      "execution_count": null,
      "outputs": []
    },
    {
      "cell_type": "markdown",
      "metadata": {
        "id": "EcOsGUq_7KmB"
      },
      "source": [
        "## **Partition Labels**\n",
        "A string S of lowercase English letters is given. We want to partition this string into as many parts as possible so that each letter appears in at most one part, and return a list of integers representing the size of these parts."
      ]
    },
    {
      "cell_type": "code",
      "metadata": {
        "id": "5I98_moC7U5T"
      },
      "source": [
        "class Solution:\n",
        "    def partitionLabels(self, S: str) -> List[int]:\n",
        "        last = {c: i for i, c in enumerate(S)}\n",
        "        pre = cur = 0\n",
        "        res = []\n",
        "        for i, c in enumerate(S):\n",
        "            cur = max(cur, last[c])\n",
        "            if i == cur:\n",
        "                res.append(i - pre + 1)\n",
        "                pre = i + 1\n",
        "        return res"
      ],
      "execution_count": null,
      "outputs": []
    },
    {
      "cell_type": "markdown",
      "metadata": {
        "id": "lBSEXn487ViJ"
      },
      "source": [
        "## **Jewels and Stones**\n",
        "ou’re given strings J representing the types of stones that are jewels, and S representing the stones you have. Each character in S is a type of stone you have. You want to know how many of the stones you have are also jewels.\n",
        "\n",
        "The letters in J are guaranteed distinct, and all characters in J and S are letters. Letters are case sensitive, so “a” is considered a different type of stone from “A”."
      ]
    },
    {
      "cell_type": "code",
      "metadata": {
        "id": "SVGrEwoh7ii6"
      },
      "source": [
        "class Solution:\n",
        "    def numJewelsInStones(self, J, S):\n",
        "        res = 0\n",
        "        for s in S:\n",
        "            if s in set(J):\n",
        "                res += 1\n",
        "        return res"
      ],
      "execution_count": null,
      "outputs": []
    },
    {
      "cell_type": "markdown",
      "metadata": {
        "id": "Fm6Nu8bk709J"
      },
      "source": [
        "## **Cheapest Flights Within K Stops**\n",
        "here are n cities connected by m flights. Each flight starts from city u and arrives at v with a price w.\n",
        "\n",
        "Now given all the cities and flights, together with starting city src and the destination dst, your task is to find the cheapest price from src to dst with up to k stops. If there is no such route, output -1.\n",
        "\n",
        "Constraints:\n",
        "\n",
        "The number of nodes n will be in range [1, 100], with nodes labeled from 0 to n - 1.\n",
        "The size of flights will be in range [0, n * (n - 1) / 2].\n",
        "The format of each flight will be (src, dst, price).\n",
        "The price of each flight will be in the range [1, 10000].\n",
        "k is in the range of [0, n - 1].\n",
        "There will not be any duplicated flights or self cycles."
      ]
    },
    {
      "cell_type": "code",
      "metadata": {
        "id": "MaY_pk1R70SI"
      },
      "source": [
        "from collections import defaultdict\n",
        "import heapq\n",
        "class Solution:\n",
        "    def findCheapestPrice(self, n: int, flights: List[List[int]], src: int, dst: int, K: int) -> int:\n",
        "        edge = defaultdict(list)\n",
        "        for u, v, w in flights:\n",
        "            edge[u].append((v, w))\n",
        "        dist = {}\n",
        "        q = [(0, src, 0)]\n",
        "        while q:\n",
        "            cost, cur, k = heapq.heappop(q)\n",
        "            if k > K + 1 or cost > dist.get((cur, k), float('inf')):\n",
        "                continue\n",
        "            if cur == dst:\n",
        "                return cost\n",
        "            for node, w in edge[cur]:\n",
        "                tmp = cost + w\n",
        "                if tmp < dist.get((node, k + 1), float('inf')):\n",
        "                    heapq.heappush(q, (tmp, node, k + 1))\n",
        "                    dist[(node, k + 1)] = tmp\n",
        "        return -1"
      ],
      "execution_count": null,
      "outputs": []
    },
    {
      "cell_type": "markdown",
      "metadata": {
        "id": "VXc0K93z79uV"
      },
      "source": [
        "## **All Paths From Source to Target**\n",
        "Given a directed, acyclic graph of N nodes. Find all possible paths from node 0 to node N-1, and return them in any order.\n",
        "\n",
        "The graph is given as follows: the nodes are 0, 1, …, graph.length - 1. graph[i] is a list of all nodes j for which the edge (i, j) exists."
      ]
    },
    {
      "cell_type": "code",
      "metadata": {
        "id": "7NvdqKdi8It-"
      },
      "source": [
        "class Solution:\n",
        "    def allPathsSourceTarget(self, graph: List[List[int]]) -> List[List[int]]:\n",
        "        n = len(graph)\n",
        "        res = []\n",
        "        paths = [[0]]\n",
        "        while paths:\n",
        "            tmp = []\n",
        "            for path in paths:\n",
        "                if path[-1] == n - 1:\n",
        "                    res.append(path)\n",
        "                    continue\n",
        "                for node in graph[path[-1]]:\n",
        "                    tmp.append(path + [node])\n",
        "            paths = tmp\n",
        "        return res"
      ],
      "execution_count": null,
      "outputs": []
    },
    {
      "cell_type": "markdown",
      "metadata": {
        "id": "Rqq8VQqO8N82"
      },
      "source": [
        "## **Champagne Tower**\n",
        "We stack glasses in a pyramid, where the first row has 1 glass, the second row has 2 glasses, and so on until the 100th row. Each glass holds one cup (250ml) of champagne.\n",
        "\n",
        "Then, some champagne is poured in the first glass at the top. When the topmost glass is full, any excess liquid poured will fall equally to the glass immediately to the left and right of it. When those glasses become full, any excess champagne will fall equally to the left and right of those glasses, and so on. (A glass at the bottom row has its excess champagne fall on the floor.)\n",
        "\n",
        "For example, after one cup of champagne is poured, the top most glass is full. After two cups of champagne are poured, the two glasses on the second row are half full. After three cups of champagne are poured, those two cups become full - there are 3 full glasses total now. After four cups of champagne are poured, the third row has the middle glass half full, and the two outside glasses are a quarter full, as pictured below.\n",
        "\n",
        "Now after pouring some non-negative integer cups of champagne, return how full the jth glass in the ith row is (both i and j are 0-indexed.)"
      ]
    },
    {
      "cell_type": "code",
      "metadata": {
        "id": "0CBV7G718Wge"
      },
      "source": [
        "class Solution:\n",
        "    def champagneTower(self, poured: int, query_row: int, query_glass: int) -> float:\n",
        "        q = [poured]\n",
        "        for r in range(query_row):\n",
        "            q2 = [0] * (len(q) + 1)\n",
        "            for i, amount in enumerate(q):\n",
        "                if amount <= 1:\n",
        "                    continue\n",
        "                tmp = (amount - 1) / 2\n",
        "                q2[i] += tmp\n",
        "                q2[i + 1] += tmp\n",
        "            q = q2\n",
        "        return min(q[query_glass], 1)"
      ],
      "execution_count": null,
      "outputs": []
    },
    {
      "cell_type": "markdown",
      "metadata": {
        "id": "5DbMaAjL8XzZ"
      },
      "source": [
        "## **Unique Morse Code Words**\n",
        "International Morse Code defines a standard encoding where each letter is mapped to a series of dots and dashes, as follows: “a” maps to “.-“, “b” maps to “-…”, “c” maps to “-.-.”, and so on.\n",
        "\n",
        "For convenience, the full table for the 26 letters of the English alphabet is given below:"
      ]
    },
    {
      "cell_type": "markdown",
      "metadata": {
        "id": "T958HPpH8sXt"
      },
      "source": [
        "## **Goat Latin**\n",
        "A sentence S is given, composed of words separated by spaces. Each word consists of lowercase and uppercase letters only.\n",
        "\n",
        "We would like to convert the sentence to “Goat Latin” (a made-up language similar to Pig Latin.)\n",
        "\n",
        "The rules of Goat Latin are as follows:\n",
        "\n",
        "If a word begins with a vowel (a, e, i, o, or u), append “ma” to the end of the word. For example, the word ‘apple’ becomes ‘applema’.\n",
        "\n",
        "If a word begins with a consonant (i.e. not a vowel), remove the first letter and append it to the end, then add “ma”. For example, the word “goat” becomes “oatgma”.\n",
        "\n",
        "Add one letter ‘a’ to the end of each word per its word index in the sentence, starting with 1. For example, the first word gets “a” added to the end, the second word gets “aa” added to the end and so on. Return the final sentence representing the conversion from S to Goat Latin."
      ]
    },
    {
      "cell_type": "code",
      "metadata": {
        "id": "hs8V7GLV81AJ"
      },
      "source": [
        "lass Solution:\n",
        "    def toGoatLatin(self, S: str) -> str:\n",
        "        res = []\n",
        "        for i, word in enumerate(S.split()):\n",
        "            if word[0].lower() in ('aeiou'):\n",
        "                res.append(word + \"ma\" + \"a\" * (i + 1))\n",
        "            else:\n",
        "                res.append(word[1:] + word[0] + \"ma\" + \"a\" * (i + 1))\n",
        "        return ' '.join(res)"
      ],
      "execution_count": null,
      "outputs": []
    },
    {
      "cell_type": "markdown",
      "metadata": {
        "id": "6N2NeGHw83Rs"
      },
      "source": [
        "## **Flipping an Image**\n",
        "Given a binary matrix A, we want to flip the image horizontally, then invert it, and return the resulting image.\n",
        "\n",
        "To flip an image horizontally means that each row of the image is reversed. For example, flipping [1, 1, 0] horizontally results in [0, 1, 1].\n",
        "\n",
        "To invert an image means that each 0 is replaced by 1, and each 1 is replaced by 0. For example, inverting [0, 1, 1] results in [1, 0, 0].\n",
        "\n",
        "解题思路"
      ]
    },
    {
      "cell_type": "code",
      "metadata": {
        "id": "OEn157ER88nr"
      },
      "source": [
        "class Solution:\n",
        "    def flipAndInvertImage(self, A: List[List[int]]) -> List[List[int]]:\n",
        "        for row in A:\n",
        "            for i in range((len(row) + 1) // 2):\n",
        "                row[i], row[~i] = row[~i] ^ 1, row[i] ^ 1\n",
        "        return A"
      ],
      "execution_count": null,
      "outputs": []
    },
    {
      "cell_type": "markdown",
      "metadata": {
        "id": "Pd7ptEiV8-bc"
      },
      "source": [
        "## **Image Overlap**\n",
        "Two images A and B are given, represented as binary, square matrices of the same size. (A binary matrix has only 0s and 1s as values.)\n",
        "\n",
        "We translate one image however we choose (sliding it left, right, up, or down any number of units), and place it on top of the other image. After, the overlap of this translation is the number of positions that have a 1 in both images.\n",
        "\n",
        "(Note also that a translation does not include any kind of rotation.)\n",
        "\n",
        "What is the largest possible overlap?"
      ]
    },
    {
      "cell_type": "code",
      "metadata": {
        "id": "fVWPOPLH9Qkf"
      },
      "source": [
        "class Solution:\n",
        "    def largestOverlap(self, A: List[List[int]], B: List[List[int]]) -> int:\n",
        "        N = len(A)\n",
        "        ct = collections.Counter()\n",
        "        for i, row in enumerate(A):\n",
        "            for j, col in enumerate(row):\n",
        "                if col:\n",
        "                    for i2, row2 in enumerate(B):\n",
        "                        for j2, col2 in enumerate(row2):\n",
        "                            if col2:\n",
        "                                ct[i - i2, j - j2] += 1\n",
        "        return max(ct.values() or [0])"
      ],
      "execution_count": null,
      "outputs": []
    },
    {
      "cell_type": "markdown",
      "metadata": {
        "id": "mZLjl7-_9ROc"
      },
      "source": [
        "## **Backspace String Compare**\n",
        "Given two strings S and T, return if they are equal when both are typed into empty text editors. # means a backspace character.\n",
        "\n",
        "Note that after backspacing an empty text, the text will continue empty."
      ]
    },
    {
      "cell_type": "code",
      "metadata": {
        "id": "fLWMBq_K9clO"
      },
      "source": [
        "class Solution:\n",
        "    def backspaceCompare(self, S: str, T: str) -> bool:\n",
        "        def build(s):\n",
        "            s = list(s)\n",
        "            i = 0\n",
        "            for c in s:\n",
        "                if c != '#':\n",
        "                    s[i] = c\n",
        "                    i += 1\n",
        "                else:\n",
        "                    if i:\n",
        "                        i -= 1\n",
        "            return ''.join(s[:i])\n",
        "        return build(S) == build(T)"
      ],
      "execution_count": null,
      "outputs": []
    },
    {
      "cell_type": "markdown",
      "metadata": {
        "id": "9E0RNDP_9e3F"
      },
      "source": [
        "## **Longest Mountain in Array**\n",
        "Let’s call any (contiguous) subarray B (of A) a mountain if the following properties hold:\n",
        "\n",
        "B.length >= 3\n",
        "There exists some 0 < i < B.length - 1 such that B[0] < B[1] < … B[i-1] < B[i] > B[i+1] > … > B[B.length - 1] (Note that B could be any subarray of A, including the entire array A.)\n",
        "Given an array A of integers, return the length of the longest mountain.\n",
        "\n",
        "Return 0 if there is no mountain."
      ]
    },
    {
      "cell_type": "code",
      "metadata": {
        "id": "TNRyYJwL9lkc"
      },
      "source": [
        "class Solution:\n",
        "    def longestMountain(self, A: List[int]) -> int:\n",
        "        n = len(A)\n",
        "        res = l = 0\n",
        "        while l + 2 < n:\n",
        "            r = l + 1\n",
        "            if A[l] < A[l + 1]:\n",
        "                while r + 1 < n and A[r] < A[r + 1]:\n",
        "                    r += 1\n",
        "                if r < n - 1 and A[r] > A[r + 1]:\n",
        "                    while r + 1 < n and A[r] > A[r + 1]:\n",
        "                        r += 1\n",
        "                    res = max(res, r - l + 1)\n",
        "                else:\n",
        "                    r += 1\n",
        "            l = r\n",
        "        return res"
      ],
      "execution_count": null,
      "outputs": []
    },
    {
      "cell_type": "markdown",
      "metadata": {
        "id": "UGXpQnwf9pOh"
      },
      "source": [
        "## **Maximize Distance to Closest Person**\n",
        "You are given an array representing a row of seats where seats[i] = 1 represents a person sitting in the ith seat, and seats[i] = 0 represents that the ith seat is empty (0-indexed).\n",
        "\n",
        "There is at least one empty seat, and at least one person sitting.\n",
        "\n",
        "Alex wants to sit in the seat such that the distance between him and the closest person to him is maximized.\n",
        "\n",
        "Return that maximum distance to the closest person."
      ]
    },
    {
      "cell_type": "code",
      "metadata": {
        "id": "bqF5M0DP907Q"
      },
      "source": [
        "class Solution:\n",
        "    def maxDistToClosest(self, seats: List[int]) -> int:\n",
        "        cur, n = 0, len(seats)\n",
        "        for k in range(n):\n",
        "            if seats[k]:\n",
        "                break\n",
        "            else:\n",
        "                cur += 1\n",
        "        res = cur\n",
        "        zeros = cur = 0\n",
        "        for i in range(k, n):\n",
        "            if seats[i]:\n",
        "                zeros = max(zeros, cur)\n",
        "                cur = 0\n",
        "            else:\n",
        "                cur += 1\n",
        "        res = max(res, (zeros + 1) // 2, cur)\n",
        "        return res"
      ],
      "execution_count": null,
      "outputs": []
    },
    {
      "cell_type": "markdown",
      "metadata": {
        "id": "a9IwLxQT-RbF"
      },
      "source": [
        "## **Mirror Reflection**\n",
        "There is a special square room with mirrors on each of the four walls. Except for the southwest corner, there are receptors on each of the remaining corners, numbered 0, 1, and 2.\n",
        "\n",
        "The square room has walls of length p, and a laser ray from the southwest corner first meets the east wall at a distance q from the 0th receptor.\n",
        "\n",
        "Return the number of the receptor that the ray meets first. (It is guaranteed that the ray will meet a receptor eventually.)"
      ]
    },
    {
      "cell_type": "code",
      "metadata": {
        "id": "SnvPtvNv-aYG"
      },
      "source": [
        "class Solution:\n",
        "    def mirrorReflection(self, p: int, q: int) -> int:\n",
        "        from fractions import gcd\n",
        "        g = gcd(p, q)\n",
        "        if (p // g) % 2 == 0:\n",
        "            return 2\n",
        "        return (q // g) % 2"
      ],
      "execution_count": null,
      "outputs": []
    },
    {
      "cell_type": "markdown",
      "metadata": {
        "id": "XjyM_3Fv-ZcC"
      },
      "source": [
        "## **Buddy Strings**\n",
        "Given two strings A and B of lowercase letters, return true if you can swap two letters in A so the result is equal to B, otherwise, return false.\n",
        "\n",
        "Swapping letters is defined as taking two indices i and j (0-indexed) such that i != j and swapping the characters at A[i] and A[j]. For example, swapping at indices 0 and 2 in “abcd” results in “cbad”"
      ]
    },
    {
      "cell_type": "code",
      "metadata": {
        "id": "YNfpTbtu-77X"
      },
      "source": [
        "class Solution:\n",
        "    def buddyStrings(self, A: str, B: str) -> bool:\n",
        "        if len(A) != len(B):\n",
        "            return False\n",
        "        if A == B:\n",
        "            s = set()\n",
        "            for a in A:\n",
        "                if a in s:\n",
        "                    return True\n",
        "                s.add(a)\n",
        "            return False\n",
        "        pair = []\n",
        "        for a, b in zip(A, B):\n",
        "            if a != b:\n",
        "                pair.append((a, b))\n",
        "            if len(pair) > 2:\n",
        "                return False\n",
        "        return len(pair) == 2 and pair[0] == pair[1][::-1]"
      ],
      "execution_count": null,
      "outputs": []
    },
    {
      "cell_type": "markdown",
      "metadata": {
        "id": "C7IJmDWB_jMa"
      },
      "source": [
        "## **Smallest Subtree with all the Deepest Nodes**\n",
        "Given the root of a binary tree, the depth of each node is the shortest distance to the root.\n",
        "\n",
        "Return the smallest subtree such that it contains all the deepest nodes in the original tree.\n",
        "\n",
        "A node is called the deepest if it has the largest depth possible among any node in the entire tree.\n",
        "\n",
        "The subtree of a node is tree consisting of that node, plus the set of all descendants of that node.\n",
        "\n",
        "Note: This question is the same as 1123: https://leetcode.com/problems/lowest-common-ancestor-of-deepest-leaves/"
      ]
    },
    {
      "cell_type": "code",
      "metadata": {
        "id": "08niBmE7BVUg"
      },
      "source": [
        "class Solution:\n",
        "    def subtreeWithAllDeepest(self, root: TreeNode) -> TreeNode:\n",
        "        def dfs(root):\n",
        "            if not root:\n",
        "                return (None, 0)\n",
        "            l = dfs(root.left)\n",
        "            r = dfs(root.right)\n",
        "            depth = max(l[1], r[1]) + 1\n",
        "            if l[1] < r[1]:\n",
        "                return (r[0], depth)\n",
        "            elif l[1] > r[1]:\n",
        "                return (l[0], depth)\n",
        "            return (root, depth)\n",
        "\n",
        "        return dfs(root)[0]"
      ],
      "execution_count": null,
      "outputs": []
    },
    {
      "cell_type": "markdown",
      "metadata": {
        "id": "5Emuab9iBaIr"
      },
      "source": [
        "## **Middle of the Linked List**\n",
        "Given a non-empty, singly linked list with head node head, return a middle node of linked list.\n",
        "\n",
        "If there are two middle nodes, return the second middle node."
      ]
    },
    {
      "cell_type": "code",
      "metadata": {
        "id": "Fw2Grcc5Bkgf"
      },
      "source": [
        "# Definition for singly-linked list. # class ListNode: # def __init__(self, x): # self.val = x # self.next = None\n",
        "class Solution:\n",
        "    def middleNode(self, head: ListNode) -> ListNode:\n",
        "        fast = slow = head\n",
        "        while fast and fast.next:\n",
        "            fast = fast.next.next\n",
        "            slow = slow.next\n",
        "        return slow"
      ],
      "execution_count": null,
      "outputs": []
    },
    {
      "cell_type": "markdown",
      "metadata": {
        "id": "kUEXwJ7-Bw06"
      },
      "source": [
        "## **Decoded String at Index**\n",
        "An encoded string S is given. To find and write the decoded string to a tape, the encoded string is read one character at a time and the following steps are taken:\n",
        "\n",
        "If the character read is a letter, that letter is written onto the tape.\n",
        "If the character read is a digit (say d), the entire current tape is repeatedly written d-1 more times in total. Now for some encoded string S, and an index K, find and return the K-th letter (1 indexed) in the decoded string."
      ]
    },
    {
      "cell_type": "code",
      "metadata": {
        "id": "OdcQdeLuBYx2"
      },
      "source": [
        "class Solution:\n",
        "    def decodeAtIndex(self, S: str, K: int) -> str:\n",
        "        size = 0\n",
        "        for i, c in enumerate(S):\n",
        "            if c.isdigit():\n",
        "                size *= int(c)\n",
        "            else:\n",
        "                size += 1\n",
        "            if K <= size:\n",
        "                break\n",
        "        for c in S[i::-1]:\n",
        "            if c.isdigit():\n",
        "                size /= int(c)\n",
        "                K %= size\n",
        "            else:\n",
        "                if K % size == 0:\n",
        "                    return c\n",
        "                size -= 1"
      ],
      "execution_count": null,
      "outputs": []
    },
    {
      "cell_type": "markdown",
      "metadata": {
        "id": "kehEmSUnB954"
      },
      "source": [
        "## **Boats to Save People**\n",
        "The i-th person has weight people[i], and each boat can carry a maximum weight of limit.\n",
        "\n",
        "Each boat carries at most 2 people at the same time, provided the sum of the weight of those people is at most limit.\n",
        "\n",
        "Return the minimum number of boats to carry every given person. (It is guaranteed each person can be carried by a boat.)"
      ]
    },
    {
      "cell_type": "code",
      "metadata": {
        "id": "KtufZqRvCIg_"
      },
      "source": [
        "class Solution:\n",
        "    def numRescueBoats(self, people: List[int], limit: int) -> int:\n",
        "        people.sort(reverse=True)\n",
        "        i, j = 0, len(people) - 1\n",
        "        while i <= j:\n",
        "            if people[i] + people[j] <= limit:\n",
        "                j -= 1\n",
        "            i += 1\n",
        "        return i"
      ],
      "execution_count": null,
      "outputs": []
    },
    {
      "cell_type": "markdown",
      "metadata": {
        "id": "F5iGuBIwCKdv"
      },
      "source": [
        "## **Possible Bipartition**"
      ]
    },
    {
      "cell_type": "markdown",
      "metadata": {
        "id": "eYA3DjVc-_aT"
      },
      "source": []
    },
    {
      "cell_type": "code",
      "metadata": {
        "id": "xrwVXG419oO3"
      },
      "source": [],
      "execution_count": null,
      "outputs": []
    },
    {
      "cell_type": "code",
      "metadata": {
        "id": "Y3tMZZ8O8XeR"
      },
      "source": [
        "class Solution:\n",
        "    def uniqueMorseRepresentations(self, words: List[str]) -> int:\n",
        "        morse = [\".-\",\"-...\",\"-.-.\",\"-..\",\".\",\"..-.\",\"--.\",\"....\",\"..\",\".---\",\"-.-\",\".-..\",\"--\",\"-.\",\"---\",\".--.\",\"--.-\",\".-.\",\"...\",\"-\",\"..-\",\"...-\",\".--\",\"-..-\",\"-.--\",\"--..\"]\n",
        "        translate = {''.join([morse[ord(c)-97] for c in word]) for word in words}\n",
        "        return len(translate)"
      ],
      "execution_count": null,
      "outputs": []
    }
  ]
}
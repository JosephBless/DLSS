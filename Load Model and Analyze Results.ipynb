{
 "cells": [
  {
   "cell_type": "code",
   "execution_count": 6,
   "metadata": {},
   "outputs": [],
   "source": [
    "import os\n",
    "from PIL import Image\n",
    "import numpy as np\n",
    "import matplotlib.pyplot as plt\n",
    "from matplotlib.pyplot import imshow\n",
    "from keras.models import load_model"
   ]
  },
  {
   "cell_type": "markdown",
   "metadata": {},
   "source": [
    "# Parameters"
   ]
  },
  {
   "cell_type": "code",
   "execution_count": 7,
   "metadata": {},
   "outputs": [],
   "source": [
    "model_path = r'C:\\Downloads\\model.h5'\n",
    "dataset_path = r'C:\\Downloads\\Dataset'"
   ]
  },
  {
   "cell_type": "code",
   "execution_count": 8,
   "metadata": {},
   "outputs": [],
   "source": [
    "model = load_model(model_path)"
   ]
  },
  {
   "cell_type": "markdown",
   "metadata": {},
   "source": [
    "# Load Images and Super Sample"
   ]
  },
  {
   "cell_type": "code",
   "execution_count": null,
   "metadata": {},
   "outputs": [],
   "source": [
    "paths = []\n",
    "for r, d, f in os.walk(dataset_path):\n",
    "    for file in f:\n",
    "        if '.png' in file or 'jpg' in file:\n",
    "            paths.append(os.path.join(r, file))\n",
    "count = 0\n",
    "for path in paths:\n",
    "    #select image\n",
    "    img = Image.open(path)\n",
    "\n",
    "    #create plot\n",
    "    f, axarr = plt.subplots(1,3,figsize=(15,15),gridspec_kw={'width_ratios': [1,4,4]})\n",
    "    axarr[0].set_xlabel('Original Image (64x64)', fontsize=10)\n",
    "    axarr[1].set_xlabel('Interpolated Image (256x256)', fontsize=10)\n",
    "    axarr[2].set_xlabel('Super Sampled Image (256x256)', fontsize=10)\n",
    "\n",
    "    #original image\n",
    "    x = img.resize((64,64))\n",
    "    #interpolated (resized) image\n",
    "    y = x.resize((256,256))\n",
    "    #plotting first two images\n",
    "    x = np.array(x)\n",
    "    y = np.array(y)\n",
    "    axarr[0].imshow(x)\n",
    "    axarr[1].imshow(y)\n",
    "    #plotting super sampled image\n",
    "    x = x.reshape(1,64,64,3)/256\n",
    "    result = np.array(model.predict_on_batch(x))*256\n",
    "    result = result.reshape(256,256,3)\n",
    "    result = result.astype(int)\n",
    "    axarr[2].imshow(result)\n",
    "    f.savefig('frame_%d.png' % count)\n",
    "    count = count + 1"
   ]
  }
 ],
 "metadata": {
  "kernelspec": {
   "display_name": "Python 3",
   "language": "python",
   "name": "python3"
  },
  "language_info": {
   "codemirror_mode": {
    "name": "ipython",
    "version": 3
   },
   "file_extension": ".py",
   "mimetype": "text/x-python",
   "name": "python",
   "nbconvert_exporter": "python",
   "pygments_lexer": "ipython3",
   "version": "3.7.4"
  }
 },
 "nbformat": 4,
 "nbformat_minor": 2
}
